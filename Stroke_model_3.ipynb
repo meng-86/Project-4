{
<<<<<<< HEAD
 "cells": [
  {
   "cell_type": "markdown",
   "metadata": {
    "colab_type": "text",
    "id": "view-in-github"
   },
   "source": [
    "<a href=\"https://colab.research.google.com/github/meng-86/Project-4/blob/main/Stroke_model_3.ipynb\" target=\"_parent\"><img src=\"https://colab.research.google.com/assets/colab-badge.svg\" alt=\"Open In Colab\"/></a>"
   ]
=======
  "nbformat": 4,
  "nbformat_minor": 0,
  "metadata": {
    "colab": {
      "name": "Stroke_model 3.ipynb",
      "provenance": [],
      "collapsed_sections": [],
      "authorship_tag": "ABX9TyNakxLnpoNPbyD46cghZ9XR",
      "include_colab_link": true
    },
    "kernelspec": {
      "name": "python3",
      "display_name": "Python 3"
    },
    "language_info": {
      "name": "python"
    }
>>>>>>> 6d47ab829f0c201a4be644f487dbf5d2d1ebe9bb
  },
  {
   "cell_type": "code",
   "execution_count": 1,
   "metadata": {
    "colab": {
     "base_uri": "https://localhost:8080/"
    },
    "id": "eIf8eLCvIDP5",
    "outputId": "65a7dcf9-4460-4347-9fee-c83a89a3d4c1"
   },
   "outputs": [
    {
     "name": "stderr",
     "output_type": "stream",
     "text": [
      "'apt-get' is not recognized as an internal or external command,\n",
      "operable program or batch file.\n",
      "The system cannot find the path specified.\n",
      "'wget' is not recognized as an internal or external command,\n",
      "operable program or batch file.\n",
      "tar: Error opening archive: Failed to open '$SPARK_VERSION-bin-hadoop2.7.tgz'\n",
      "WARNING: Ignoring invalid distribution -ikit-learn (c:\\programdata\\anaconda3\\lib\\site-packages)\n",
      "WARNING: Ignoring invalid distribution -ikit-learn (c:\\programdata\\anaconda3\\lib\\site-packages)\n",
      "WARNING: Ignoring invalid distribution - (c:\\programdata\\anaconda3\\lib\\site-packages)\n",
      "WARNING: Ignoring invalid distribution -cikit-learn (c:\\programdata\\anaconda3\\lib\\site-packages)\n",
      "WARNING: Ignoring invalid distribution -arkupsafe (c:\\programdata\\anaconda3\\lib\\site-packages)\n",
      "WARNING: Ignoring invalid distribution -ikit-learn (c:\\programdata\\anaconda3\\lib\\site-packages)\n",
      "WARNING: Ignoring invalid distribution -ikit-learn (c:\\programdata\\anaconda3\\lib\\site-packages)\n",
      "WARNING: Ignoring invalid distribution - (c:\\programdata\\anaconda3\\lib\\site-packages)\n",
      "WARNING: Ignoring invalid distribution -cikit-learn (c:\\programdata\\anaconda3\\lib\\site-packages)\n",
      "WARNING: Ignoring invalid distribution -arkupsafe (c:\\programdata\\anaconda3\\lib\\site-packages)\n",
      "WARNING: Ignoring invalid distribution -ikit-learn (c:\\programdata\\anaconda3\\lib\\site-packages)\n",
      "WARNING: Ignoring invalid distribution -ikit-learn (c:\\programdata\\anaconda3\\lib\\site-packages)\n",
      "WARNING: Ignoring invalid distribution - (c:\\programdata\\anaconda3\\lib\\site-packages)\n",
      "WARNING: Ignoring invalid distribution -cikit-learn (c:\\programdata\\anaconda3\\lib\\site-packages)\n",
      "WARNING: Ignoring invalid distribution -arkupsafe (c:\\programdata\\anaconda3\\lib\\site-packages)\n",
      "WARNING: Ignoring invalid distribution -ikit-learn (c:\\programdata\\anaconda3\\lib\\site-packages)\n",
      "WARNING: Ignoring invalid distribution -ikit-learn (c:\\programdata\\anaconda3\\lib\\site-packages)\n",
      "WARNING: Ignoring invalid distribution - (c:\\programdata\\anaconda3\\lib\\site-packages)\n",
      "WARNING: Ignoring invalid distribution -cikit-learn (c:\\programdata\\anaconda3\\lib\\site-packages)\n",
      "WARNING: Ignoring invalid distribution -arkupsafe (c:\\programdata\\anaconda3\\lib\\site-packages)\n",
      "WARNING: Ignoring invalid distribution -ikit-learn (c:\\programdata\\anaconda3\\lib\\site-packages)\n",
      "WARNING: Ignoring invalid distribution -ikit-learn (c:\\programdata\\anaconda3\\lib\\site-packages)\n",
      "WARNING: Ignoring invalid distribution - (c:\\programdata\\anaconda3\\lib\\site-packages)\n",
      "WARNING: Ignoring invalid distribution -cikit-learn (c:\\programdata\\anaconda3\\lib\\site-packages)\n",
      "WARNING: Ignoring invalid distribution -arkupsafe (c:\\programdata\\anaconda3\\lib\\site-packages)\n",
      "WARNING: Ignoring invalid distribution -ikit-learn (c:\\programdata\\anaconda3\\lib\\site-packages)\n",
      "WARNING: Ignoring invalid distribution -ikit-learn (c:\\programdata\\anaconda3\\lib\\site-packages)\n",
      "WARNING: Ignoring invalid distribution - (c:\\programdata\\anaconda3\\lib\\site-packages)\n",
      "WARNING: Ignoring invalid distribution -cikit-learn (c:\\programdata\\anaconda3\\lib\\site-packages)\n",
      "WARNING: Ignoring invalid distribution -arkupsafe (c:\\programdata\\anaconda3\\lib\\site-packages)\n"
     ]
    },
    {
<<<<<<< HEAD
     "ename": "Exception",
     "evalue": "Unable to find py4j in /content/spark-3.2.1-bin-hadoop2.7\\python, your SPARK_HOME may not be configured correctly",
     "output_type": "error",
     "traceback": [
      "\u001b[1;31m---------------------------------------------------------------------------\u001b[0m",
      "\u001b[1;31mIndexError\u001b[0m                                Traceback (most recent call last)",
      "\u001b[1;32mC:\\ProgramData\\Anaconda3\\lib\\site-packages\\findspark.py\u001b[0m in \u001b[0;36minit\u001b[1;34m(spark_home, python_path, edit_rc, edit_profile)\u001b[0m\n\u001b[0;32m    158\u001b[0m         \u001b[1;32mtry\u001b[0m\u001b[1;33m:\u001b[0m\u001b[1;33m\u001b[0m\u001b[1;33m\u001b[0m\u001b[0m\n\u001b[1;32m--> 159\u001b[1;33m             \u001b[0mpy4j\u001b[0m \u001b[1;33m=\u001b[0m \u001b[0mglob\u001b[0m\u001b[1;33m(\u001b[0m\u001b[0mos\u001b[0m\u001b[1;33m.\u001b[0m\u001b[0mpath\u001b[0m\u001b[1;33m.\u001b[0m\u001b[0mjoin\u001b[0m\u001b[1;33m(\u001b[0m\u001b[0mspark_python\u001b[0m\u001b[1;33m,\u001b[0m \u001b[1;34m\"lib\"\u001b[0m\u001b[1;33m,\u001b[0m \u001b[1;34m\"py4j-*.zip\"\u001b[0m\u001b[1;33m)\u001b[0m\u001b[1;33m)\u001b[0m\u001b[1;33m[\u001b[0m\u001b[1;36m0\u001b[0m\u001b[1;33m]\u001b[0m\u001b[1;33m\u001b[0m\u001b[1;33m\u001b[0m\u001b[0m\n\u001b[0m\u001b[0;32m    160\u001b[0m         \u001b[1;32mexcept\u001b[0m \u001b[0mIndexError\u001b[0m\u001b[1;33m:\u001b[0m\u001b[1;33m\u001b[0m\u001b[1;33m\u001b[0m\u001b[0m\n",
      "\u001b[1;31mIndexError\u001b[0m: list index out of range",
      "\nDuring handling of the above exception, another exception occurred:\n",
      "\u001b[1;31mException\u001b[0m                                 Traceback (most recent call last)",
      "\u001b[1;32m~\\AppData\\Local\\Temp/ipykernel_15676/1285810026.py\u001b[0m in \u001b[0;36m<module>\u001b[1;34m\u001b[0m\n\u001b[0;32m     17\u001b[0m \u001b[1;31m# Start a SparkSession\u001b[0m\u001b[1;33m\u001b[0m\u001b[1;33m\u001b[0m\u001b[0m\n\u001b[0;32m     18\u001b[0m \u001b[1;32mimport\u001b[0m \u001b[0mfindspark\u001b[0m\u001b[1;33m\u001b[0m\u001b[1;33m\u001b[0m\u001b[0m\n\u001b[1;32m---> 19\u001b[1;33m \u001b[0mfindspark\u001b[0m\u001b[1;33m.\u001b[0m\u001b[0minit\u001b[0m\u001b[1;33m(\u001b[0m\u001b[1;33m)\u001b[0m\u001b[1;33m\u001b[0m\u001b[1;33m\u001b[0m\u001b[0m\n\u001b[0m\u001b[0;32m     20\u001b[0m \u001b[1;32mimport\u001b[0m \u001b[0mpandas\u001b[0m \u001b[1;32mas\u001b[0m \u001b[0mpd\u001b[0m\u001b[1;33m\u001b[0m\u001b[1;33m\u001b[0m\u001b[0m\n",
      "\u001b[1;32mC:\\ProgramData\\Anaconda3\\lib\\site-packages\\findspark.py\u001b[0m in \u001b[0;36minit\u001b[1;34m(spark_home, python_path, edit_rc, edit_profile)\u001b[0m\n\u001b[0;32m    159\u001b[0m             \u001b[0mpy4j\u001b[0m \u001b[1;33m=\u001b[0m \u001b[0mglob\u001b[0m\u001b[1;33m(\u001b[0m\u001b[0mos\u001b[0m\u001b[1;33m.\u001b[0m\u001b[0mpath\u001b[0m\u001b[1;33m.\u001b[0m\u001b[0mjoin\u001b[0m\u001b[1;33m(\u001b[0m\u001b[0mspark_python\u001b[0m\u001b[1;33m,\u001b[0m \u001b[1;34m\"lib\"\u001b[0m\u001b[1;33m,\u001b[0m \u001b[1;34m\"py4j-*.zip\"\u001b[0m\u001b[1;33m)\u001b[0m\u001b[1;33m)\u001b[0m\u001b[1;33m[\u001b[0m\u001b[1;36m0\u001b[0m\u001b[1;33m]\u001b[0m\u001b[1;33m\u001b[0m\u001b[1;33m\u001b[0m\u001b[0m\n\u001b[0;32m    160\u001b[0m         \u001b[1;32mexcept\u001b[0m \u001b[0mIndexError\u001b[0m\u001b[1;33m:\u001b[0m\u001b[1;33m\u001b[0m\u001b[1;33m\u001b[0m\u001b[0m\n\u001b[1;32m--> 161\u001b[1;33m             raise Exception(\n\u001b[0m\u001b[0;32m    162\u001b[0m                 \"Unable to find py4j in {}, your SPARK_HOME may not be configured correctly\".format(\n\u001b[0;32m    163\u001b[0m                     \u001b[0mspark_python\u001b[0m\u001b[1;33m\u001b[0m\u001b[1;33m\u001b[0m\u001b[0m\n",
      "\u001b[1;31mException\u001b[0m: Unable to find py4j in /content/spark-3.2.1-bin-hadoop2.7\\python, your SPARK_HOME may not be configured correctly"
     ]
=======
      "cell_type": "code",
      "execution_count": 86,
      "metadata": {
        "colab": {
          "base_uri": "https://localhost:8080/"
        },
        "id": "eIf8eLCvIDP5",
        "outputId": "6a975300-216f-4aee-bf32-c8cbe9bf010a"
      },
      "outputs": [
        {
          "output_type": "stream",
          "name": "stdout",
          "text": [
            "\r0% [Working]\r            \rHit:1 https://developer.download.nvidia.com/compute/cuda/repos/ubuntu1804/x86_64  InRelease\n",
            "\r0% [Connecting to archive.ubuntu.com] [Connecting to security.ubuntu.com (91.18\r                                                                               \rHit:2 https://cloud.r-project.org/bin/linux/ubuntu bionic-cran40/ InRelease\n",
            "\r0% [Connecting to archive.ubuntu.com] [Connecting to security.ubuntu.com (91.18\r0% [1 InRelease gpgv 1,575 B] [Connecting to archive.ubuntu.com] [Connecting to\r                                                                               \rIgn:3 https://developer.download.nvidia.com/compute/machine-learning/repos/ubuntu1804/x86_64  InRelease\n",
            "Hit:4 https://developer.download.nvidia.com/compute/machine-learning/repos/ubuntu1804/x86_64  Release\n",
            "Get:5 http://security.ubuntu.com/ubuntu bionic-security InRelease [88.7 kB]\n",
            "Hit:6 http://archive.ubuntu.com/ubuntu bionic InRelease\n",
            "Hit:7 http://ppa.launchpad.net/c2d4u.team/c2d4u4.0+/ubuntu bionic InRelease\n",
            "Get:8 http://archive.ubuntu.com/ubuntu bionic-updates InRelease [88.7 kB]\n",
            "Hit:10 http://ppa.launchpad.net/cran/libgit2/ubuntu bionic InRelease\n",
            "Get:11 http://security.ubuntu.com/ubuntu bionic-security/main amd64 Packages [2,734 kB]\n",
            "Hit:12 http://ppa.launchpad.net/deadsnakes/ppa/ubuntu bionic InRelease\n",
            "Get:13 http://archive.ubuntu.com/ubuntu bionic-backports InRelease [74.6 kB]\n",
            "Hit:14 http://ppa.launchpad.net/graphics-drivers/ppa/ubuntu bionic InRelease\n",
            "Get:15 http://security.ubuntu.com/ubuntu bionic-security/universe amd64 Packages [1,498 kB]\n",
            "Get:16 http://archive.ubuntu.com/ubuntu bionic-updates/universe amd64 Packages [2,272 kB]\n",
            "Get:17 http://archive.ubuntu.com/ubuntu bionic-updates/main amd64 Packages [3,168 kB]\n",
            "Fetched 9,924 kB in 3s (3,001 kB/s)\n",
            "Reading package lists... Done\n"
          ]
        }
      ],
      "source": [
        "import os\n",
        "spark_version = 'spark-3.2.1'\n",
        "os.environ['SPARK_VERSION']=spark_version\n",
        "\n",
        "# Install Spark and Java\n",
        "!apt-get update\n",
        "!apt-get install openjdk-8-jdk-headless -qq > /dev/null\n",
        "!wget -q http://www.apache.org/dist/spark/$SPARK_VERSION/$SPARK_VERSION-bin-hadoop2.7.tgz\n",
        "!tar xf $SPARK_VERSION-bin-hadoop2.7.tgz\n",
        "!pip install -q findspark\n",
        "\n",
        "# Set Environment Variables\n",
        "import os\n",
        "os.environ[\"JAVA_HOME\"] = \"/usr/lib/jvm/java-8-openjdk-amd64\"\n",
        "os.environ[\"SPARK_HOME\"] = f\"/content/{spark_version}-bin-hadoop2.7\"\n",
        "\n",
        "# Start a SparkSession\n",
        "import findspark\n",
        "findspark.init()\n",
        "import pandas as pd\n",
        "import pyspark"
      ]
    },
    {
      "cell_type": "code",
      "source": [
        "!wget https://jdbc.postgresql.org/download/postgresql-42.2.9.jar"
      ],
      "metadata": {
        "colab": {
          "base_uri": "https://localhost:8080/"
        },
        "id": "HkBJThkYIkcG",
        "outputId": "ee2c61c7-4883-40e1-e7cd-bb3909ef5c28"
      },
      "execution_count": 87,
      "outputs": [
        {
          "output_type": "stream",
          "name": "stdout",
          "text": [
            "--2022-05-05 21:14:51--  https://jdbc.postgresql.org/download/postgresql-42.2.9.jar\n",
            "Resolving jdbc.postgresql.org (jdbc.postgresql.org)... 72.32.157.228, 2001:4800:3e1:1::228\n",
            "Connecting to jdbc.postgresql.org (jdbc.postgresql.org)|72.32.157.228|:443... connected.\n",
            "HTTP request sent, awaiting response... 200 OK\n",
            "Length: 914037 (893K) [application/java-archive]\n",
            "Saving to: ‘postgresql-42.2.9.jar.1’\n",
            "\n",
            "postgresql-42.2.9.j 100%[===================>] 892.61K  5.56MB/s    in 0.2s    \n",
            "\n",
            "2022-05-05 21:14:51 (5.56 MB/s) - ‘postgresql-42.2.9.jar.1’ saved [914037/914037]\n",
            "\n"
          ]
        }
      ]
    },
    {
      "cell_type": "code",
      "source": [
        "from pyspark.sql import SparkSession\n",
        "spark = SparkSession.builder.appName(\"CloudETL\").config(\"spark.driver.extraClassPath\",\"/content/postgresql-42.2.9.jar\").getOrCreate()"
      ],
      "metadata": {
        "id": "uNO_W0k9JafF"
      },
      "execution_count": 88,
      "outputs": []
    },
    {
      "cell_type": "code",
      "source": [
        "from pyspark import SparkFiles\n",
        "url =\"https://project-4.s3.eu-west-2.amazonaws.com/healthcare-dataset-stroke-data.csv\"\n",
        "spark.sparkContext.addFile(url)\n",
        "df = spark.read.csv(SparkFiles.get(\"healthcare-dataset-stroke-data.csv\"), header=True, inferSchema=True)\n",
        "df.show(10)\n",
        "df = df.toPandas()\n",
        "df.head()"
      ],
      "metadata": {
        "colab": {
          "base_uri": "https://localhost:8080/",
          "height": 498
        },
        "id": "aajogngcJdo0",
        "outputId": "37337960-54fa-4cbc-e8df-79cacd7e0ab6"
      },
      "execution_count": 89,
      "outputs": [
        {
          "output_type": "stream",
          "name": "stdout",
          "text": [
            "+---+-----+------+----+------------+-------------+------------+-------------+--------------+-----------------+-----------+---------------+------+\n",
            "|_c0|   id|gender| age|hypertension|heart_disease|ever_married|    work_type|Residence_type|avg_glucose_level|        bmi| smoking_status|stroke|\n",
            "+---+-----+------+----+------------+-------------+------------+-------------+--------------+-----------------+-----------+---------------+------+\n",
            "|  0| 9046|  Male|67.0|           0|            1|         Yes|      Private|         Urban|           228.69|       36.6|formerly smoked|     1|\n",
            "|  1|51676|Female|61.0|           0|            0|         Yes|Self-employed|         Rural|           202.21|28.89323691|   never smoked|     1|\n",
            "|  2|31112|  Male|80.0|           0|            1|         Yes|      Private|         Rural|           105.92|       32.5|   never smoked|     1|\n",
            "|  3|60182|Female|49.0|           0|            0|         Yes|      Private|         Urban|           171.23|       34.4|         smokes|     1|\n",
            "|  4| 1665|Female|79.0|           1|            0|         Yes|Self-employed|         Rural|           174.12|       24.0|   never smoked|     1|\n",
            "|  5|56669|  Male|81.0|           0|            0|         Yes|      Private|         Urban|           186.21|       29.0|formerly smoked|     1|\n",
            "|  6|53882|  Male|74.0|           1|            1|         Yes|      Private|         Rural|            70.09|       27.4|   never smoked|     1|\n",
            "|  7|10434|Female|69.0|           0|            0|          No|      Private|         Urban|            94.39|       22.8|   never smoked|     1|\n",
            "|  8|27419|Female|59.0|           0|            0|         Yes|      Private|         Rural|            76.15|28.89323691|        Unknown|     1|\n",
            "|  9|60491|Female|78.0|           0|            0|         Yes|      Private|         Urban|            58.57|       24.2|        Unknown|     1|\n",
            "+---+-----+------+----+------------+-------------+------------+-------------+--------------+-----------------+-----------+---------------+------+\n",
            "only showing top 10 rows\n",
            "\n"
          ]
        },
        {
          "output_type": "execute_result",
          "data": {
            "text/plain": [
              "   _c0     id  gender   age  hypertension  heart_disease ever_married  \\\n",
              "0    0   9046    Male  67.0             0              1          Yes   \n",
              "1    1  51676  Female  61.0             0              0          Yes   \n",
              "2    2  31112    Male  80.0             0              1          Yes   \n",
              "3    3  60182  Female  49.0             0              0          Yes   \n",
              "4    4   1665  Female  79.0             1              0          Yes   \n",
              "\n",
              "       work_type Residence_type  avg_glucose_level        bmi  \\\n",
              "0        Private          Urban             228.69  36.600000   \n",
              "1  Self-employed          Rural             202.21  28.893237   \n",
              "2        Private          Rural             105.92  32.500000   \n",
              "3        Private          Urban             171.23  34.400000   \n",
              "4  Self-employed          Rural             174.12  24.000000   \n",
              "\n",
              "    smoking_status  stroke  \n",
              "0  formerly smoked       1  \n",
              "1     never smoked       1  \n",
              "2     never smoked       1  \n",
              "3           smokes       1  \n",
              "4     never smoked       1  "
            ],
            "text/html": [
              "\n",
              "  <div id=\"df-11747a0e-cba4-478a-90e4-8baea1df4fd0\">\n",
              "    <div class=\"colab-df-container\">\n",
              "      <div>\n",
              "<style scoped>\n",
              "    .dataframe tbody tr th:only-of-type {\n",
              "        vertical-align: middle;\n",
              "    }\n",
              "\n",
              "    .dataframe tbody tr th {\n",
              "        vertical-align: top;\n",
              "    }\n",
              "\n",
              "    .dataframe thead th {\n",
              "        text-align: right;\n",
              "    }\n",
              "</style>\n",
              "<table border=\"1\" class=\"dataframe\">\n",
              "  <thead>\n",
              "    <tr style=\"text-align: right;\">\n",
              "      <th></th>\n",
              "      <th>_c0</th>\n",
              "      <th>id</th>\n",
              "      <th>gender</th>\n",
              "      <th>age</th>\n",
              "      <th>hypertension</th>\n",
              "      <th>heart_disease</th>\n",
              "      <th>ever_married</th>\n",
              "      <th>work_type</th>\n",
              "      <th>Residence_type</th>\n",
              "      <th>avg_glucose_level</th>\n",
              "      <th>bmi</th>\n",
              "      <th>smoking_status</th>\n",
              "      <th>stroke</th>\n",
              "    </tr>\n",
              "  </thead>\n",
              "  <tbody>\n",
              "    <tr>\n",
              "      <th>0</th>\n",
              "      <td>0</td>\n",
              "      <td>9046</td>\n",
              "      <td>Male</td>\n",
              "      <td>67.0</td>\n",
              "      <td>0</td>\n",
              "      <td>1</td>\n",
              "      <td>Yes</td>\n",
              "      <td>Private</td>\n",
              "      <td>Urban</td>\n",
              "      <td>228.69</td>\n",
              "      <td>36.600000</td>\n",
              "      <td>formerly smoked</td>\n",
              "      <td>1</td>\n",
              "    </tr>\n",
              "    <tr>\n",
              "      <th>1</th>\n",
              "      <td>1</td>\n",
              "      <td>51676</td>\n",
              "      <td>Female</td>\n",
              "      <td>61.0</td>\n",
              "      <td>0</td>\n",
              "      <td>0</td>\n",
              "      <td>Yes</td>\n",
              "      <td>Self-employed</td>\n",
              "      <td>Rural</td>\n",
              "      <td>202.21</td>\n",
              "      <td>28.893237</td>\n",
              "      <td>never smoked</td>\n",
              "      <td>1</td>\n",
              "    </tr>\n",
              "    <tr>\n",
              "      <th>2</th>\n",
              "      <td>2</td>\n",
              "      <td>31112</td>\n",
              "      <td>Male</td>\n",
              "      <td>80.0</td>\n",
              "      <td>0</td>\n",
              "      <td>1</td>\n",
              "      <td>Yes</td>\n",
              "      <td>Private</td>\n",
              "      <td>Rural</td>\n",
              "      <td>105.92</td>\n",
              "      <td>32.500000</td>\n",
              "      <td>never smoked</td>\n",
              "      <td>1</td>\n",
              "    </tr>\n",
              "    <tr>\n",
              "      <th>3</th>\n",
              "      <td>3</td>\n",
              "      <td>60182</td>\n",
              "      <td>Female</td>\n",
              "      <td>49.0</td>\n",
              "      <td>0</td>\n",
              "      <td>0</td>\n",
              "      <td>Yes</td>\n",
              "      <td>Private</td>\n",
              "      <td>Urban</td>\n",
              "      <td>171.23</td>\n",
              "      <td>34.400000</td>\n",
              "      <td>smokes</td>\n",
              "      <td>1</td>\n",
              "    </tr>\n",
              "    <tr>\n",
              "      <th>4</th>\n",
              "      <td>4</td>\n",
              "      <td>1665</td>\n",
              "      <td>Female</td>\n",
              "      <td>79.0</td>\n",
              "      <td>1</td>\n",
              "      <td>0</td>\n",
              "      <td>Yes</td>\n",
              "      <td>Self-employed</td>\n",
              "      <td>Rural</td>\n",
              "      <td>174.12</td>\n",
              "      <td>24.000000</td>\n",
              "      <td>never smoked</td>\n",
              "      <td>1</td>\n",
              "    </tr>\n",
              "  </tbody>\n",
              "</table>\n",
              "</div>\n",
              "      <button class=\"colab-df-convert\" onclick=\"convertToInteractive('df-11747a0e-cba4-478a-90e4-8baea1df4fd0')\"\n",
              "              title=\"Convert this dataframe to an interactive table.\"\n",
              "              style=\"display:none;\">\n",
              "        \n",
              "  <svg xmlns=\"http://www.w3.org/2000/svg\" height=\"24px\"viewBox=\"0 0 24 24\"\n",
              "       width=\"24px\">\n",
              "    <path d=\"M0 0h24v24H0V0z\" fill=\"none\"/>\n",
              "    <path d=\"M18.56 5.44l.94 2.06.94-2.06 2.06-.94-2.06-.94-.94-2.06-.94 2.06-2.06.94zm-11 1L8.5 8.5l.94-2.06 2.06-.94-2.06-.94L8.5 2.5l-.94 2.06-2.06.94zm10 10l.94 2.06.94-2.06 2.06-.94-2.06-.94-.94-2.06-.94 2.06-2.06.94z\"/><path d=\"M17.41 7.96l-1.37-1.37c-.4-.4-.92-.59-1.43-.59-.52 0-1.04.2-1.43.59L10.3 9.45l-7.72 7.72c-.78.78-.78 2.05 0 2.83L4 21.41c.39.39.9.59 1.41.59.51 0 1.02-.2 1.41-.59l7.78-7.78 2.81-2.81c.8-.78.8-2.07 0-2.86zM5.41 20L4 18.59l7.72-7.72 1.47 1.35L5.41 20z\"/>\n",
              "  </svg>\n",
              "      </button>\n",
              "      \n",
              "  <style>\n",
              "    .colab-df-container {\n",
              "      display:flex;\n",
              "      flex-wrap:wrap;\n",
              "      gap: 12px;\n",
              "    }\n",
              "\n",
              "    .colab-df-convert {\n",
              "      background-color: #E8F0FE;\n",
              "      border: none;\n",
              "      border-radius: 50%;\n",
              "      cursor: pointer;\n",
              "      display: none;\n",
              "      fill: #1967D2;\n",
              "      height: 32px;\n",
              "      padding: 0 0 0 0;\n",
              "      width: 32px;\n",
              "    }\n",
              "\n",
              "    .colab-df-convert:hover {\n",
              "      background-color: #E2EBFA;\n",
              "      box-shadow: 0px 1px 2px rgba(60, 64, 67, 0.3), 0px 1px 3px 1px rgba(60, 64, 67, 0.15);\n",
              "      fill: #174EA6;\n",
              "    }\n",
              "\n",
              "    [theme=dark] .colab-df-convert {\n",
              "      background-color: #3B4455;\n",
              "      fill: #D2E3FC;\n",
              "    }\n",
              "\n",
              "    [theme=dark] .colab-df-convert:hover {\n",
              "      background-color: #434B5C;\n",
              "      box-shadow: 0px 1px 3px 1px rgba(0, 0, 0, 0.15);\n",
              "      filter: drop-shadow(0px 1px 2px rgba(0, 0, 0, 0.3));\n",
              "      fill: #FFFFFF;\n",
              "    }\n",
              "  </style>\n",
              "\n",
              "      <script>\n",
              "        const buttonEl =\n",
              "          document.querySelector('#df-11747a0e-cba4-478a-90e4-8baea1df4fd0 button.colab-df-convert');\n",
              "        buttonEl.style.display =\n",
              "          google.colab.kernel.accessAllowed ? 'block' : 'none';\n",
              "\n",
              "        async function convertToInteractive(key) {\n",
              "          const element = document.querySelector('#df-11747a0e-cba4-478a-90e4-8baea1df4fd0');\n",
              "          const dataTable =\n",
              "            await google.colab.kernel.invokeFunction('convertToInteractive',\n",
              "                                                     [key], {});\n",
              "          if (!dataTable) return;\n",
              "\n",
              "          const docLinkHtml = 'Like what you see? Visit the ' +\n",
              "            '<a target=\"_blank\" href=https://colab.research.google.com/notebooks/data_table.ipynb>data table notebook</a>'\n",
              "            + ' to learn more about interactive tables.';\n",
              "          element.innerHTML = '';\n",
              "          dataTable['output_type'] = 'display_data';\n",
              "          await google.colab.output.renderOutput(dataTable, element);\n",
              "          const docLink = document.createElement('div');\n",
              "          docLink.innerHTML = docLinkHtml;\n",
              "          element.appendChild(docLink);\n",
              "        }\n",
              "      </script>\n",
              "    </div>\n",
              "  </div>\n",
              "  "
            ]
          },
          "metadata": {},
          "execution_count": 89
        }
      ]
    },
    {
      "cell_type": "code",
      "source": [
        "df.info()\n",
        "df= stroke_df"
      ],
      "metadata": {
        "colab": {
          "base_uri": "https://localhost:8080/"
        },
        "id": "Y6C94jK04gUR",
        "outputId": "ab80f0aa-670a-4f54-a5ef-5cf4aee912ce"
      },
      "execution_count": 116,
      "outputs": [
        {
          "output_type": "stream",
          "name": "stdout",
          "text": [
            "<class 'pandas.core.frame.DataFrame'>\n",
            "RangeIndex: 5110 entries, 0 to 5109\n",
            "Data columns (total 13 columns):\n",
            " #   Column             Non-Null Count  Dtype  \n",
            "---  ------             --------------  -----  \n",
            " 0   _c0                5110 non-null   int32  \n",
            " 1   id                 5110 non-null   int32  \n",
            " 2   gender             5110 non-null   object \n",
            " 3   age                5110 non-null   float64\n",
            " 4   hypertension       5110 non-null   int32  \n",
            " 5   heart_disease      5110 non-null   int32  \n",
            " 6   ever_married       5110 non-null   object \n",
            " 7   work_type          5110 non-null   object \n",
            " 8   Residence_type     5110 non-null   object \n",
            " 9   avg_glucose_level  5110 non-null   float64\n",
            " 10  bmi                5110 non-null   float64\n",
            " 11  smoking_status     5110 non-null   object \n",
            " 12  stroke             5110 non-null   int32  \n",
            "dtypes: float64(3), int32(5), object(5)\n",
            "memory usage: 419.3+ KB\n"
          ]
        }
      ]
    },
    {
      "cell_type": "code",
      "source": [
        "import numpy as np\n",
        "import pandas as pd"
      ],
      "metadata": {
        "id": "qlAqEZLDFyTs"
      },
      "execution_count": 98,
      "outputs": []
    },
    {
      "cell_type": "code",
      "source": [
        "stroke_df = stroke_data.toPandas()\n",
        "df.head()\n"
      ],
      "metadata": {
        "colab": {
          "base_uri": "https://localhost:8080/",
          "height": 206
        },
        "id": "PCj-LsEcF1tL",
        "outputId": "4cc3f1b3-5cce-4039-aa78-415914fedb43"
      },
      "execution_count": 124,
      "outputs": [
        {
          "output_type": "execute_result",
          "data": {
            "text/plain": [
              "   gender   age  hypertension  heart_disease ever_married      work_type  \\\n",
              "0    Male  67.0             0              1          Yes        Private   \n",
              "1  Female  61.0             0              0          Yes  Self-employed   \n",
              "2    Male  80.0             0              1          Yes        Private   \n",
              "3  Female  49.0             0              0          Yes        Private   \n",
              "4  Female  79.0             1              0          Yes  Self-employed   \n",
              "\n",
              "  Residence_type  avg_glucose_level        bmi   smoking_status  stroke  \n",
              "0          Urban             228.69  36.600000  formerly smoked       1  \n",
              "1          Rural             202.21  28.893237     never smoked       1  \n",
              "2          Rural             105.92  32.500000     never smoked       1  \n",
              "3          Urban             171.23  34.400000           smokes       1  \n",
              "4          Rural             174.12  24.000000     never smoked       1  "
            ],
            "text/html": [
              "\n",
              "  <div id=\"df-910fec87-91c8-423f-957b-e2d8d7d14156\">\n",
              "    <div class=\"colab-df-container\">\n",
              "      <div>\n",
              "<style scoped>\n",
              "    .dataframe tbody tr th:only-of-type {\n",
              "        vertical-align: middle;\n",
              "    }\n",
              "\n",
              "    .dataframe tbody tr th {\n",
              "        vertical-align: top;\n",
              "    }\n",
              "\n",
              "    .dataframe thead th {\n",
              "        text-align: right;\n",
              "    }\n",
              "</style>\n",
              "<table border=\"1\" class=\"dataframe\">\n",
              "  <thead>\n",
              "    <tr style=\"text-align: right;\">\n",
              "      <th></th>\n",
              "      <th>gender</th>\n",
              "      <th>age</th>\n",
              "      <th>hypertension</th>\n",
              "      <th>heart_disease</th>\n",
              "      <th>ever_married</th>\n",
              "      <th>work_type</th>\n",
              "      <th>Residence_type</th>\n",
              "      <th>avg_glucose_level</th>\n",
              "      <th>bmi</th>\n",
              "      <th>smoking_status</th>\n",
              "      <th>stroke</th>\n",
              "    </tr>\n",
              "  </thead>\n",
              "  <tbody>\n",
              "    <tr>\n",
              "      <th>0</th>\n",
              "      <td>Male</td>\n",
              "      <td>67.0</td>\n",
              "      <td>0</td>\n",
              "      <td>1</td>\n",
              "      <td>Yes</td>\n",
              "      <td>Private</td>\n",
              "      <td>Urban</td>\n",
              "      <td>228.69</td>\n",
              "      <td>36.600000</td>\n",
              "      <td>formerly smoked</td>\n",
              "      <td>1</td>\n",
              "    </tr>\n",
              "    <tr>\n",
              "      <th>1</th>\n",
              "      <td>Female</td>\n",
              "      <td>61.0</td>\n",
              "      <td>0</td>\n",
              "      <td>0</td>\n",
              "      <td>Yes</td>\n",
              "      <td>Self-employed</td>\n",
              "      <td>Rural</td>\n",
              "      <td>202.21</td>\n",
              "      <td>28.893237</td>\n",
              "      <td>never smoked</td>\n",
              "      <td>1</td>\n",
              "    </tr>\n",
              "    <tr>\n",
              "      <th>2</th>\n",
              "      <td>Male</td>\n",
              "      <td>80.0</td>\n",
              "      <td>0</td>\n",
              "      <td>1</td>\n",
              "      <td>Yes</td>\n",
              "      <td>Private</td>\n",
              "      <td>Rural</td>\n",
              "      <td>105.92</td>\n",
              "      <td>32.500000</td>\n",
              "      <td>never smoked</td>\n",
              "      <td>1</td>\n",
              "    </tr>\n",
              "    <tr>\n",
              "      <th>3</th>\n",
              "      <td>Female</td>\n",
              "      <td>49.0</td>\n",
              "      <td>0</td>\n",
              "      <td>0</td>\n",
              "      <td>Yes</td>\n",
              "      <td>Private</td>\n",
              "      <td>Urban</td>\n",
              "      <td>171.23</td>\n",
              "      <td>34.400000</td>\n",
              "      <td>smokes</td>\n",
              "      <td>1</td>\n",
              "    </tr>\n",
              "    <tr>\n",
              "      <th>4</th>\n",
              "      <td>Female</td>\n",
              "      <td>79.0</td>\n",
              "      <td>1</td>\n",
              "      <td>0</td>\n",
              "      <td>Yes</td>\n",
              "      <td>Self-employed</td>\n",
              "      <td>Rural</td>\n",
              "      <td>174.12</td>\n",
              "      <td>24.000000</td>\n",
              "      <td>never smoked</td>\n",
              "      <td>1</td>\n",
              "    </tr>\n",
              "  </tbody>\n",
              "</table>\n",
              "</div>\n",
              "      <button class=\"colab-df-convert\" onclick=\"convertToInteractive('df-910fec87-91c8-423f-957b-e2d8d7d14156')\"\n",
              "              title=\"Convert this dataframe to an interactive table.\"\n",
              "              style=\"display:none;\">\n",
              "        \n",
              "  <svg xmlns=\"http://www.w3.org/2000/svg\" height=\"24px\"viewBox=\"0 0 24 24\"\n",
              "       width=\"24px\">\n",
              "    <path d=\"M0 0h24v24H0V0z\" fill=\"none\"/>\n",
              "    <path d=\"M18.56 5.44l.94 2.06.94-2.06 2.06-.94-2.06-.94-.94-2.06-.94 2.06-2.06.94zm-11 1L8.5 8.5l.94-2.06 2.06-.94-2.06-.94L8.5 2.5l-.94 2.06-2.06.94zm10 10l.94 2.06.94-2.06 2.06-.94-2.06-.94-.94-2.06-.94 2.06-2.06.94z\"/><path d=\"M17.41 7.96l-1.37-1.37c-.4-.4-.92-.59-1.43-.59-.52 0-1.04.2-1.43.59L10.3 9.45l-7.72 7.72c-.78.78-.78 2.05 0 2.83L4 21.41c.39.39.9.59 1.41.59.51 0 1.02-.2 1.41-.59l7.78-7.78 2.81-2.81c.8-.78.8-2.07 0-2.86zM5.41 20L4 18.59l7.72-7.72 1.47 1.35L5.41 20z\"/>\n",
              "  </svg>\n",
              "      </button>\n",
              "      \n",
              "  <style>\n",
              "    .colab-df-container {\n",
              "      display:flex;\n",
              "      flex-wrap:wrap;\n",
              "      gap: 12px;\n",
              "    }\n",
              "\n",
              "    .colab-df-convert {\n",
              "      background-color: #E8F0FE;\n",
              "      border: none;\n",
              "      border-radius: 50%;\n",
              "      cursor: pointer;\n",
              "      display: none;\n",
              "      fill: #1967D2;\n",
              "      height: 32px;\n",
              "      padding: 0 0 0 0;\n",
              "      width: 32px;\n",
              "    }\n",
              "\n",
              "    .colab-df-convert:hover {\n",
              "      background-color: #E2EBFA;\n",
              "      box-shadow: 0px 1px 2px rgba(60, 64, 67, 0.3), 0px 1px 3px 1px rgba(60, 64, 67, 0.15);\n",
              "      fill: #174EA6;\n",
              "    }\n",
              "\n",
              "    [theme=dark] .colab-df-convert {\n",
              "      background-color: #3B4455;\n",
              "      fill: #D2E3FC;\n",
              "    }\n",
              "\n",
              "    [theme=dark] .colab-df-convert:hover {\n",
              "      background-color: #434B5C;\n",
              "      box-shadow: 0px 1px 3px 1px rgba(0, 0, 0, 0.15);\n",
              "      filter: drop-shadow(0px 1px 2px rgba(0, 0, 0, 0.3));\n",
              "      fill: #FFFFFF;\n",
              "    }\n",
              "  </style>\n",
              "\n",
              "      <script>\n",
              "        const buttonEl =\n",
              "          document.querySelector('#df-910fec87-91c8-423f-957b-e2d8d7d14156 button.colab-df-convert');\n",
              "        buttonEl.style.display =\n",
              "          google.colab.kernel.accessAllowed ? 'block' : 'none';\n",
              "\n",
              "        async function convertToInteractive(key) {\n",
              "          const element = document.querySelector('#df-910fec87-91c8-423f-957b-e2d8d7d14156');\n",
              "          const dataTable =\n",
              "            await google.colab.kernel.invokeFunction('convertToInteractive',\n",
              "                                                     [key], {});\n",
              "          if (!dataTable) return;\n",
              "\n",
              "          const docLinkHtml = 'Like what you see? Visit the ' +\n",
              "            '<a target=\"_blank\" href=https://colab.research.google.com/notebooks/data_table.ipynb>data table notebook</a>'\n",
              "            + ' to learn more about interactive tables.';\n",
              "          element.innerHTML = '';\n",
              "          dataTable['output_type'] = 'display_data';\n",
              "          await google.colab.output.renderOutput(dataTable, element);\n",
              "          const docLink = document.createElement('div');\n",
              "          docLink.innerHTML = docLinkHtml;\n",
              "          element.appendChild(docLink);\n",
              "        }\n",
              "      </script>\n",
              "    </div>\n",
              "  </div>\n",
              "  "
            ]
          },
          "metadata": {},
          "execution_count": 124
        }
      ]
    },
    {
      "cell_type": "markdown",
      "source": [
        "### Visualisation"
      ],
      "metadata": {
        "id": "P9sGQZED4jdS"
      }
    },
    {
      "cell_type": "code",
      "source": [
        "from matplotlib import pyplot as plt\n",
        "import seaborn as sns"
      ],
      "metadata": {
        "id": "ckjTM5Ap4guK"
      },
      "execution_count": 127,
      "outputs": []
    },
    {
      "cell_type": "code",
      "source": [
        "sns.heatmap(abs(df.corr()), cmap=\"coolwarm\")\n",
        "plt.savefig('pearsons.png', bbox_inches='tight')"
      ],
      "metadata": {
        "colab": {
          "base_uri": "https://localhost:8080/",
          "height": 350
        },
        "id": "FQOV7-0iFP0T",
        "outputId": "7275a217-41de-479d-ea33-1f662e3fc5eb"
      },
      "execution_count": 128,
      "outputs": [
        {
          "output_type": "display_data",
          "data": {
            "text/plain": [
              "<Figure size 432x288 with 2 Axes>"
            ],
            "image/png": "iVBORw0KGgoAAAANSUhEUgAAAa4AAAFNCAYAAABYJYu2AAAABHNCSVQICAgIfAhkiAAAAAlwSFlzAAALEgAACxIB0t1+/AAAADh0RVh0U29mdHdhcmUAbWF0cGxvdGxpYiB2ZXJzaW9uMy4yLjIsIGh0dHA6Ly9tYXRwbG90bGliLm9yZy+WH4yJAAAgAElEQVR4nO3debxcVZ3u/89zAsqMKLY/hECQjtJhCjSjgCLSGgRHUGRoW0QDrQJq67165TLZ3f5abPuiIhK4Ao0gigpEoQFbJplJIGRAUARkkG5FIYLIlPPcP/Y6UHVyhjrJSfbeyfN+vfbr1F57165vFaG+tYa9lmwTERHRFn11BxARETEWSVwREdEqSVwREdEqSVwREdEqSVwREdEqSVwREdEqSVwREbHMSPqWpN9Kmj/McUn6qqR7JM2VtN1o10ziioiIZeksYNoIx/cGJpdtOnDqaBdM4oqIiGXG9rXAH0Y45Z3Av7tyE/AySRuMdM0kroiIqNOGwIMd+w+VsmGtskzDiXFxyaqva9W8XHddcFfdIYzZs8/21x3CmDz9dLviBZg0cdW6QxizBx5+ru4Qxuy4Q1bV0l6j1++cfZ//xeFUzXsDZtiesbSvP5okroiI6KIec5+f8wxgaRPVw8DEjv2NStmw0lQYERFd+lZRT9s4mQl8oIwu3BlYaPuRkZ6QGldERHTRquNXp5H0HWAPYH1JDwHHAasC2P4mcCnwNuAe4Cng0NGumcQVERFdJqw+fonL9oGjHDfwsbFcM4krIiK6jGMz4DKRxBUREV16HZxRlySuiIjokhpXRES0iiYkcUVERItMGMdRhctCEldERHTRhCSuiIhokb40FUZERJuoL4krIiJaJDWuiIholaaPKmx2D1xLSLpI0mxJCyRNL2WHSfqFpFsknS7p66X8lZJ+IOnWsu1ab/QREd36VpnQ01aX1LjGx4ds/0HS6sCtki4B/jewHfAEcCVwRzn3ZODfbF8naWPgcuCv6gg6ImIoaSpcORwl6d3l8UTgb4FrbP8BQNIFwGvL8b2AKdIL/zDWkbSW7SeXZ8AREcPJ4IwVnKQ9qJLRLrafknQ1cBfD16L6gJ1tPz3KdadTVhb9eN9fMK3vZeMWc0TESNTX7F6kZkfXDusCj5WktTmwM7Am8EZJ60laBdiv4/wrgCMHdiRNHeqitmfY3t729klaEbE8qU89bXVJjWvpXQYcIennwN3ATVTLTv8zcAvwB6oa2MJy/lHAKZLmUn3+1wJHLO+gIyKGkymfVnC2nwH2HlwuaZbtGaXGdSFwUTn/UeCA5RtlRETvmt5UmMS17BwvaS9gNarmwYtqjicioicZnLGSsv3pumOIiFgSSVwREdEqSVwREdEq6eOKiIhWyajCiIholdS4IiKiVdLHFRERrZLEFRERrZKmwoiIaJXUuCIiolU0ob5FInuRxBUREV1S44qIiFZJH1cstbsuuKvuEMZk8/duXncIY3bG4T+uO4QxedXE9esOYcwe+vXzdYcwZk8ufKruEMbukE2W+hKpcUVERKukxhUREa3St0oSV0REtElqXBER0SZS+rgiIqJFmt7H1ezoIiJiuVOfetp6upY0TdLdku6R9Nkhjm8s6SpJt0uaK+lto10ziSsiIrr19fW2jULSBOAUYG9gCnCgpCmDTjsG+J7tbYH3A98Y7bppKoyIiC594zfl047APbbvBZB0PvBO4M6OcwysUx6vC/xmtIsmcUVERLfxuwF5Q+DBjv2HgJ0GnXM8cIWkI4E1gb1GDW+8oouIiBWD+vp626TpkmZ1bNOX4OUOBM6yvRHwNuAcSSPmptS4IiKiS68DL2zPAGaMcMrDwMSO/Y1KWafDgGnlejdKWg1YH/jtcBdNjSsiIrqpr7dtdLcCkyVtKuklVIMvZg465wHgzQCS/gpYDfjdSBdNjSsiIrqM1yS7tp+X9HHgcmAC8C3bCySdCMyyPRP4B+B0SZ+kGqjxQdse6bpJXBER0WU8F5K0fSlw6aCyYzse3wnsOpZrNqKpUNIkSfOX4+tN7eUmtyW47omSRh0RExHRaON0H9eystLVuCStAkwFtmfQr4Cl1fkrIiKirZq+HlcjalzFBEmnS1og6QpJW0i6beCgpMkD+5Lul/QlSfMk3SLpL0v5KyX9QNKtZdu1lB8v6RxJ1wPnACcCB0iaI+kASWtK+la51u2S3lme90FJP5R0maRfSvpSKZ8g6SxJ80sMnyzlZ0navzx+c7nWvHLtl3bEfoKk28qx9q26GBErtvEbnLFMNClxTQZOsb0F8DiwLbBQ0tRy/FDgzI7zF9reCvg68H9K2cnAv9neAdgPOKPj/CnAXrYPBI4Fvmt7qu3vAp8HrrS9I/Am4CRJa5bnTQUOALaiSnYTS9mGtrcsMXTGRRnOeRZwQDm+CvD3Hac8ans74FTg02P9oCIilqk+9bbVFV5tr7y4+2zPKY9nA5OoEs+hZb6rA4DzOs7/TsffXcrjvYCvS5pDNeRyHUlrlWMzbf95mNd+C/DZ8ryrqYZjblyO/dT2QttPU01TsglwL/AaSV+TNA3446Drva68n1+U/bOBN3Qc/+Gg97mYzhv7brpipNskIiLGlyZM6GmrS5P6uJ7peLwIWB34AXAccCUw2/bvO87xEI/7gJ1LknlBWVvmTyO8toD9bN896Hk7DRHXKrYfk7QN8FbgCOB9wIdGfHfdBq65iGH+G3Te2PevF408NDQiYjxlWZOlUBLQ5VRNamcOOnxAx98by+MrgCMHTuhoZhzsCWDtjv3LgSNVMpykbUeKS9L6QJ/tH1DNbLzdoFPuBiYN9L0BfwtcM9I1IyIaQ+ptq0mjE1dxLtBPlZQ6rSdpLnA08MlSdhSwfVnT5U6q2tBQrgKmDAzOAL4ArArMlbSg7I9kQ+Dq0rT4beBznQdLwj0UuEDSvBL/N0d/qxERDZDh8KOzfT+wZcf+lzsO7wacaXvRoKedZPt/DrrOo7xYE+ssP37Q/h+AHQaddvgQzzuLapDFwP6+HYcH17Kw/cGOxz+lGmAy+JxJHY9nAXsMPiciolY11qZ60YjENRxJFwKbAXvWHUtExMqi6X1cjU5ctt89TPmk5RxKRMTKo8YRg71odOKKiIjlb5TlsGqXxBUREd0aPuVTEldERHRLjSsiIlolowojIqJVMqowIiJaJaMKIyKiVdLHFRERrZI+roiIaJX0cUVERKukxhUREa0yodmpodnRBQDPPttfdwhjcsbhP647hDH78Gn7jn5Sg/zw2OvqDmHM7r7lzrpDGLONt9is7hDqkRpXRES0SkYVRkREq6TGFRERrZJRhRER0SZOjSsiIlqlr9mpodnRRUTEcpcaV0REtEtGFUZERKukxhUREa2SUYUREdEm7st6XBER0SJOH1dERLRK+rgiIqJNml7jqiU6SZMkzV8G150q6W1jfM79ktYvj28Y75giIlpH6m2rSbPT6hhIWgWYCowpcXWy/frxiygioqXU19vWy6WkaZLulnSPpM8Oc877JN0paYGk80a7Zp2Ja4Kk00ugV0haXdJmki6TNFvSzyRtDiDp7ZJulnS7pP+U9KpSfrykcyRdD5wDnAgcIGmOpAOGelFJryivt0DSGYA6jj1Z/m4g6dpynfmSdi/lb5F0o6TbJF0gaa1SfqykW8u5M6Tqp4iko8p/jLmSzi9la0r6lqRbyvt557L6gCMiloT7JvS0jUbSBOAUYG9gCnCgpCmDzpkMfA7Y1fYWwCdGu26diWsycEoJ9HFgP2AGcKTtvwY+DXyjnHsdsLPtbYHzgf/RcZ0pwF62DwSOBb5re6rt7w7zuscB15XXvRDYeIhzDgIutz0V2AaYU5oTjymvtR0wC/hUOf/rtnewvSWwOjCwKuFngW1tbw0cUco+D1xpe0fgTcBJktYc9dOKiFhOjHraerAjcI/te20/S/X9PfjH+keocsFjALZ/O9pF60xc99meUx7PBiYBrwcukDQHOA3YoBzfCLhc0jzgM8AWHdeZafvPY3jdNwDfBrB9CfDYEOfcChwq6XhgK9tPADtTJcnrS3x/B2xSzn9TqRHOA/bsiG8ucK6kQ4DnS9lbgM+Wa1wNrMYQyVPSdEmzJM265T9PH8Pbi4hYOlZfT1vn91TZpg+61IbAgx37D5WyTq8FXivpekk3SZo2Wnx1jip8puPxIuBVwOOlljPY14Cv2J4paQ/g+I5jfxrvwGxfK+kNwD7AWZK+QpXgflJqdi+QtBpVzXB72w+WZLdaObwPVaJ8O/B5SVtRNU3uZ/vuUWKYQVUD5YvfW+Rxe3MREaPpsf+q83tqKaxC1QK3B1Ul5VpJW9l+fLgnNGlwxh+B+yS9F0CVbcqxdYGHy+O/G+EaTwBrj/I611I1BSJpb2C9wSdI2gT4b9unA2cA2wE3AbtK+styzpqSXsuLSerR0ue1fzneB0y0fRXwP8t7WAu4HDiyox9s21HijYhYriz1tPXgYWBix/5GvPhdPuAhqpaz52zfB/yCKpENq0mJC+Bg4DBJdwALeLEt9HiqJsTZwKMjPP8qYMpIgzOAE4A3SFoAvAd4YIhz9gDukHQ7cABwsu3fAR8EviNpLnAjsHn5VXA6MJ8qKd1arjEB+HZpPrwd+Go59wvAqsDcEsMXRng/ERHLXa9NhT24FZgsaVNJLwHeD8wcdM5FVN+5lLEErwXuHemitTQV2r4f2LJj/8sdhxdr37R9MXDxEOXHD9r/A7DDKK/9e6p+pqGOrVX+ng2cPcTxK4e6vu1jqAZuDLbbEOf+GTh8pBgjIuo0XnMV2n5e0sepftRPAL5le4GkE4FZtmeWY2+RdCdVt9Fnyvf0sDJzRkREdOlxxGBv17IvBS4dVHZsx2NTjdD+FD1aYROXpEOBowcVX2/7Y3XEExHRFk2f8mmFTVy2zwTOrDuOiIjWySS7ERHRJm7cuL1uSVwREdGlPwtJRkREm4zn4IxlIYkrIiK6ZHBGRES0So+zYtQmiSsiIrqkqTAiIlolTYUREdEq/cqowoiIaJE0FUZERKukqTCW2tNP99cdwpi8auL6dYcwZj889rq6QxiT95y42MIDjXfRCTfUHcKYPfn4uK9T2wqpcUVERKtkOHxERLSKncQVEREt0k9GFUZERIukjysiIloliSsiIloliSsiIlolgzMiIqJV+rMCckREtEmaCiMiolXSVBgREa3SnxpXRES0SZoKIyKiVZreVNjIoSOS9pD047rj6CRpkqT5Tb9mRMTS6ndfT1tdUuOKiIguTW8q7CllSrpI0mxJCyRNl3SEpJM6jn9Q0tfL4/8t6W5J10n6jqRPj3DdHSTNlTRH0klD1T4kHd95DUnzJU0qjz9Qnn+HpHNK2SRJV5byn0rauJS/tzz3DknXlrIJ5XVvLecf3uPnMeTzJJ0vaZ+O886StP+Svk5ERB1s9bTVpde63ods/zWwPXAUcCHw7o7jBwDnS9oB2A/YBti7nD+SM4HDbU8FFo0lcElbAMcAe9reBji6HPoacLbtrYFzga+W8mOBt5Zz31HKDgMW2t4B2AH4iKRNe3j54Z73XeB9Jb6XAG8GLlmK14mIWO76e9zq0mviOkrSHcBNwERgU+BeSTtLegWwOXA9sCtwse2nbT8B/Gi4C0p6GbC27RtL0XljjH1P4ALbjwLY/kMp36XjWucAA0vFXg+cJekj8MKc/W8BPiBpDnAz8Apgcg+vPdzz/gN4k6SXUiXua23/eUlep9RsZ0maNfuqM3oIKSJifDS9xjVqH5ekPYC9gF1sPyXpamA14Hyq2sVdwIW2rWWzaubzdCfY1ZbkIraPkLQTsA8wW9JfAwKOtH35GC837PPK5/NWSi10pPMHmjyHiXcGMAPguH9/zmOMLyJiia0IfVzrAo+VpLU5sHMpvxB4J3AgL35BXw+8XdJqktYC9h3uorYfB54oyQTg/cOcej+wHYCk7ahqewBXAu8tNT4kvbyU39BxrYOBn5Xjm9m+2faxwO+oao6XA38vadVyzmslrTnK58Eoz/sucCiwO3BZD+dHRDTKijCq8DLgCEk/B+6mai7E9mOlbIrtW0rZrZJmAnOB/wbmAQtHuPZhwOmS+oFrhjn3B1TNbAuomtl+UV5rgaR/Aq6RtAi4HfggcCRwpqTPUCWoQ8t1TpI0mar281PgjhLnJOA2VdXF3wHv6uEzOWOE511B1UR5se1nezg/IqJR+hvexiN7fCOUtJbtJyWtAVwLTLd920jnlsefBTawffRQ567M2tZU+N+PPFl3CGP23LPP1x3CmLznxN1GP6lhLjrhhrpDGLMnH/9T3SGM2Xe+tPFSt/Nds+Cpnr5z3rjFGrW0KS6L+7hmSJpC1Rd19nBJq9hH0udKHL+mqjFFRESNmj5zxrgnLtsHDS6TdArViMNOJ9s+k6pPqDEkbUXV1NfpGds7DXV+RMSKZjwb4iRNA06mGs19hu3/f5jz9gO+D+xge9ZI11wuM2fY/tjyeJ3xYHseMLXuOCIi6rJonAZeSJoAnAL8DfAQcKukmbbvHHTe2lT34t7cy3UbOVdhRETUx+5t68GOwD227y2D1c6nGo0+2BeAfwGe7uWiSVwREdHFqKetc6KEsk0fdKkNgQc79h8qZS8otzlNtH1Jr/Flkt2IiOjS63D4zokSloSkPuArjHFgXhJXRER0GcdRhQ9TTfYwYKNSNmBtYEvg6jLz0v8HzJT0jpEGaCRxRUREl3EcVXgrMLlMKv4w1axGL4w8t70QWH9gv0yZ9+lGjCqMiIj2WDRONS7bz0v6ONW0dxOAb5VZj04EZtmeuSTXTeKKiIgu43kDsu1LgUsHlR07zLl79HLNJK6IiOjS9LkKk7giIqLLOE9hO+6SuCIiokvT1+NK4mqBSRNXrTuEMXno1+2aaR3g7lvuHP2kBmnjTOvvOu71dYcwZl+ctsS3KNVo46W+QpoKIyKiVfr7645gZElcERHRpX9lW9YkIiLaLYMzIiKiVZK4IiKiVTI4IyIiWqW/P31cERHRIqlxRUREq6SPKyIiWiWJKyIiWiVNhRER0SqpcUVERKssWlR3BCNL4oqIiC5Nr3H11R1A20maJGn+Ej731ZK+P94xRUQsjX73ttUlNa4a2f4NsH/dcUREdHLPVa56blROjWt8rCLpXEk/l/R9SWtIul/SFyXNkTRL0naSLpf0K0lHwNLV1iIilhW7t60uSVzj43XAN2z/FfBH4KOl/AHbU4GfAWdR1a52Bk6oI8iIiF4sWtTbVpc0FY6PB21fXx5/GziqPJ5Z/s4D1rL9BPCEpGckvWx5BxkR0Yum38eVGtf4GPyfeWD/mfK3v+PxwP6IPxokTS9NjLOu/nEblw+PiLZqelNhalzjY2NJu9i+ETgIuA7YdmkuaHsGMAPgzKsWS4wREcuMe65yZXBGm90NfEzSz4H1gFNrjiciYollOPwKzvb9wOZDHJrUcc5ZVIMzBvYHjj0KbLmsYouIWBJNvwE5iSsiIrosWtTszJXEFRERXVLjioiIVulveOZK4oqIiC7urzuCkSVxRUREl97nKqxHEldERHTpT40rIiLaZFHD53xK4oqIiC69z5xRjySuiIjo0vAuriSuiIjo1t/wGlfmKoyIiC62e9p6IWmapLsl3SPps0Mc/5SkOyXNlfRTSZuMds0kroiI6LJokXvaRiNpAnAKsDcwBThQ0pRBp90ObG97a+D7wJdGu24SV0REdBnHGteOwD2277X9LHA+8M5Br3WV7afK7k3ARqNdNH1cLfDAw8/VHcKYPLnwqdFPapiNt9is7hDG5MnH/1R3CGP2xWntWxD1c5dNrzuEJXD3Ul9hHPu4NgQe7Nh/CNhphPMPA/5jtIsmcUVERJdeRxVKmg50ZvcZZRHcMZN0CLA98MbRzk3iioiILr3ex9W5UvswHgYmduxvVMq6SNoL+DzwRtvPjPa6SVwREdFlHGeHvxWYLGlTqoT1fuCgzhMkbQucBkyz/dteLprEFRERXfqfH5/JCm0/L+njwOXABOBbthdIOhGYZXsmcBKwFnCBJIAHbL9jpOsmcUVERJfxvP/Y9qXApYPKju14vNdYr5nEFRERXTJXYUREtErW44qIiFZp+lyFSVwREdElNa6IiGiV8RpVuKwkcUVERJdxvI9rmUjiioiILhlVGBERrZI+roiIaJWmjyrMelw9kPQJSWuM8TmTJM1fVjFFRCwr/Yv6e9rqksTVm08AQyaussJnRMQKw/39PW11SeIaRNKaki6RdIek+ZKOA14NXCXpqnLOk5L+VdIdwC6SPlXOnS/pE0Nc8zWSbpe0g6TNJF0mabakn0nafDm/xYiIEfX3u6etLunjWtw04De29wGQtC5wKPAm24+Wc9YEbrb9D5L+uhzfCRBws6RrgMfK819HtVz1B23fIemnwBG2fylpJ+AbwJ7L8f1FRIyo6YMzUuNa3DzgbyT9i6TdbS8c4pxFwA/K492AC23/yfaTwA+B3cuxVwIXAweXpLUW8Hqq6fvnUK1Bs8FQQUiaLmmWpFmzrjxj/N5dRMQo3O+etrqkxjWI7V9I2g54G/CPpYY02NO2F/VwuYXAA1TJ7U6qHwqP257aQxwvrCx6wrefa/bPn4hYoTT9Pq7UuAaR9GrgKdvfplrgbDvgCWDtYZ7yM+BdktaQtCbw7lIG8GzZ/4Ckg2z/EbhP0nvLa0nSNsvw7UREjNmiRYt62uqSGtfitgJOktQPPAf8PbALcJmk39h+U+fJtm+TdBZwSyk6w/btkiaV43+StC/wE0lPAgcDp0o6BliVqv/rjmX/tiIietP0GlcS1yC2L6daZrrTLOBrHeesNeg5XwG+MqjsfmDL8vhxYIeOw9PGL+KIiPHV9MEZSVwREdGlv8Z7tHqRxBUREV3SVBgREa1ip8YVEREtkoUkIyKiVfpT44qIiDZJH1dERLRKnTO/9yKJKyIiuqTGFRERrVLndE69SOKKiIguaSqMiIhWSVNhRES0Sm5AjoiIVml6jUtNnwU4lh1J08uCla2RmJe9tsUL7Yu5bfE2TRaSXLlNrzuAJZCYl722xQvti7lt8TZKEldERLRKEldERLRKEtfKrY1t7Il52WtbvNC+mNsWb6NkcEZERLRKalwREdEqSVwREdEqSVwREdEqSVwrKUlr1B3Dik7S6pJeV3ccESuaTPm0kpH0euAMYC1gY0nbAIfb/mi9kQ1P0muBzwCb0PFv1vaetQU1CklvB74MvATYVNJU4ETb76g3sm6S5gFDjdASYNtbL+eQRiXpe7bfN0TsjY0ZXvh3fCrwKttbStoaeIftf6w5tNbJqMKVjKSbgf2Bmba3LWXzbW9Zb2TDk3QH8E1gNvDCQkG2Z9cW1CgkzQb2BK7u+Jzn2d6q3si6SdpkpOO2f728YumVpA1sPzJc7E2MGUDSNVQ/wE5ry/97TZUa10rI9oOSOouavWocPG/71LqDGKPnbC8c9Dk37ldi55d8SQSTbf+npNVp6PeD7UfK318DSFqHhsY6yBq2bxn0b+L5uoJps/RxrXweLM2FlrSqpE8DP687qFH8SNJHJW0g6eUDW91BjWKBpIOACZImS/oacEPdQQ1H0keA7wOnlaKNgIvqi2h0kg6X9F/AXKra+GxgVr1RjehRSZtRfsBI2h94pN6Q2ilNhSsZSesDJwN7UfUJXAEcbfv3tQY2Akn3DVFs269Z7sH0qAx++TzwFqrP+XLgC7afrjWwYUiaA+wI3Nzkps1Okn4J7GL70bpj6YWk11DNmPF64DHgPuDgpjZtNlkbqtcxjsr/5AfXHcdY2N607hjGyvZTVInr85ImAGs2NWkVz9h+dqAZS9IqNLBpc5BfAU/VHcQYrGd7L0lrAn22n5C0L5DENUZJXCsZSV8donghMMv2xcs7nl5IWhX4e+ANpehqqg7u52oLahSSzgOOoOo/vBVYR9LJtk+qN7JhXSPpfwGrS/ob4KPAj2qOaTSfA24oA46eGSi0fVR9IY3odEkfsD0fQNL7gU8CP643rPZJU+FKRtIMYHPgglK0H1WTxSuAe21/oq7YhiPpDGBV4OxS9LfAItsfri+qkUmaY3uqpIOB7YDPArMbPFS7DziM7qbNM9zgLwhJtwDXAfOAF9aat332sE+qUWkq/D5wELA78AFgX9sLaw2shZK4VjKSbgJ2tb2o7K8C/AzYDZhne0qd8Q1F0h22txmtrEkkLQCmAucBX7d9TZNjlvQe4BLbz4x6ckNIun2gP64tyr1cFwEPAO+2/eeaQ2qljCpc+axHdfPxgDWBl5dE1tQvrUVlNBbwwi/Xpg/hPw24n+rzvbYMNf9jrRGN7O3ALySdI2nf8oOm6f5D0vSmjzaVNE/SXElzqWpcLwc2BW4uZTFGqXGtZCQdBhxD1U8kqn6jfwa+Axxv+zP1RTc0SW8GzgTupYp5E+BQ21fVGtgYSVrFdmPv2yl9iXsDB1DVwH/S8ObY+xhiAEnTRpu28SbvpkviWglJejVVP9HPqWpfD9m+tt6oRibppcDAvH93t6FJS9I+wBbAagNltk+sL6LRleQ1DTgUeIPt9WsOaVjlJumPUiVZUzV5f7PJzW9lirXdy+7PbN9RZzxtlcS1kpH0YeBoqhtM5wA7Azc2cd4/SXvavrL0vyzG9g+Xd0y9kvRNYA3gTVRzQ+4P3GL7sFoDG4akgZrWHlS18e8BVzS8hvg9qubXc0vRQcC6tt9XX1TDk3Q08BFg4N/tu4EZtr9WX1TtlMS1kikTk+4A3FRGvW0O/LPtIZNDnSSdYPs4SWcOcdi2P7Tcg+qRpLm2t+74uxbwH7Z3H/XJNZD0HeC7VDE2vjYLIOnOwYOJhipritKftYvtP5X9Nal+NDZypGmTtaEDNsbX07afloSkl9q+Sw1desP2ceXvoXXHsgQGmqueKk2zvwc2qDGeEdk+sPTF7A68MFeh7SdqDm0kt0na2fZNAJJ2otlTPonuQUWLSlmMURLXyuchSS+jGpL7E0mP0fA790sTy5nAE8DplPuibF9Ra2Aj+3H5nE8CbqPqgzmj3pCGV+YqnE414m0zqqbkbwJvrjOuoejF5UxWpboB+YGyvwlwV52xjeJMqpGEF5b9dwH/t6M7ttEAAArXSURBVMZ4WitNhSsxSW8E1gUus/1s3fEMZ+D+J0lvpZqN4hjgHNvb1RxaT8rAktWafKNpm+YqbOMovXKD987A01SDSaAanHF7fVG1V2pcKzHb19QdQ48GmlPeBvy77QUatDZE05RJdv8B2Nj2RyRtLGl3202d3qc1cxU2MTGNxna/pFPKj4Lb6o6n7XIDcrTBbElXUCWuyyWtTccUPw11JtUN3buU/YeBJq90O3iuwgto/lyFbfNTSfs1/UdXG6SpMBqvNLNMpZpL8XFJrwA2tN3YWQckzbK9fee0RA2f8ql1cxW2jaQnqGZSeZ6qyVBUo2PXqTWwFkpTYTReaWb5b2BKS6YiAni2jMwbWDRwM5o7pRa2+6kGvpxedywrKttr1x3DiqItXwKxEpP0L1Q3x97Ji8OJDTR5to/jgMuAiZLOBXYFPlhrREPoGKE3pNxjNH4k/dT2m0cri9GlqTAaT9LdwNZtuTF2QGnS3JmqSeimJq7U28YRem0jaTWqWVSuopqZZKCPax2qEb2b1xRaa6XGFW1wL9U9O61JXJJ2BebYvkTSIcD/UrWQZKMSQa/xSLrR9i6jnxlDOBz4BPBqYDalb4vqvsRM97QEMqow2uApYI6k0yR9dWCrO6hRnEo1a8Y2wKeolpn/93pDWiqrjX5KDMX2ybY3Bf4JmFoeD6x2cGOtwbVUEle0wUzgC8ANVL9YB7Yme76MyHsncIrtU4A2d86nT2Hp7W/7j5J2A/akmknl1JpjaqU0FUbj2T67jNDb2PbddcfToyckfQ44BHhDGW6+as0xRb0GBhbtA5xempGbfG9fY6XGFY0n6e1US7BcVvanSppZb1SjOoCqT+4w2/9FNfffSfWGtFRy0+zSe1jSaVT/Ni4tU4HlO3gJZFRhNJ6k2VRNK1d33Mw73/aW9Ua2YikjDCfbXmx2eElb2p5fb4TtVqYBmwbMs/1LSRsAWzV8suhGSlNhtMFzthcOmimnkVM+SbrO9m5lloTOX4WNniVhtNnhk7SWnu2neHERSWw/AjxSX0TtlcQVbbBA0kHABEmTgaOoBmo0ju3dyt+2DcT4GGV2eIBSI/iLekOKGFraV6MNjgS2oOozOg9YCBxda0TDkPTykba64xvBM51L2zR5dviI1LiiDfax/Xng8wMFkt5LNYN508ym+sIXsDHwWHn8MuABYNP6QhvR4NnhP0pmh4+GyuCMaDxJtw1eNHKosiaRdDpwoe1Ly/7ewLtsH15vZEPL7PDRJklc0Vjly/5twPuA73YcWgeYYnvHWgLrwVCrBzd1ReHBSpPmRk1eNiZWbmkqjCb7DTALeAfdM2U8AXyyloh69xtJxwDfLvsHU72fRpJ0NdXnvArVZ/1bSTfYbvrnHCuh1Lii0SRNAM6xfVDdsYxFqbUcB7yBF5dgOdH2H2oNbBgDC15K+jAw0fZxkuZmWZNootS4otFsL5I0UdJLOke9NV1JUMOOfJT0NdtHLseQRrNKuSH2fXQMgolooiSuaIP7gOvLNE9/Gii0/ZX6Qlpqu9YdwCAnUg3IuN72rZJeA/yy5pgihpSmwmg8SccNVW77hOUdy3hp+qjIiCZL4orWkLRGmTan9ZqWuCRtRLWo4UBN8GfA0bYfqi+qiKFl5oxoPEm7SLoTuKvsbyPpGzWHtbSaNtv6mVTrnr26bD8qZRGNk8QVbfB/gLcCvwewfQfVaL3GKjN7jFR28nIMpxevtH2m7efLdhbwyrqDihhKEle0gu0HBxUtGvLE5vjcSGUlMTTJ7yUdImlC2Q6h/FCIaJqMKow2eFDS6wFLWpVqmPnPa45pSB2zfWwo6asdh9YBnq8nqp58iKqP69+o7ju7ATi01ogihpHBGdF4ktanalrbi6qV4HKqgQONqxFI2gaYSjW8/NiOQ08AV9l+rJbAIlYgSVwR46yNs31IOpvqx8DjZX894F9tf6jeyCIWlz6uaDxJr5H0I0m/k/RbSReXG2QbyfYiYKKkl9QdyxhsPZC0AErNcNsa44kYVvq4og3OA04B3l323w98B9iptohG17bZPvokrTfQlFnmWsz3QzRS/mFGG6xh+5yO/W9L+kxt0fTmV2XrA9auOZZe/Ctwo6QLqO4x2x/4p3pDihha+rii8ST9C9VKwudTjXg7AFgPOAlemNA2lpKkKcCeZfdK23fWGU/EcJK4ovEk3TfCYdtuXH+XpFcC/wPYAlhtoNz2nsM+qUaSNh6q3PYDyzuWiNGkqTAaz/amdcewBM6lWrV5X+AI4O+A39Ua0cguoarNAqwObArcTZV4Ixolowqj8STNlvRRSS+rO5YxeIXt/ws8Z/uaMqy8kbUtANtb2d66bJOBHYEb644rYihJXNEGBwAbArMknS/prZKaNkntYM+Vv49I2kfStsDL6wxoLGzfRrNHbcZKLH1c0RqS+qia3k6lmqvwTODkJg7OkLQv1dIgE6mmUloHOMH2zFoDG4akT3Xs9gHbUdUa31pTSBHDSuKKVpC0NdV8entTTfl0LrAb8Le2p9YZ24pg0GKdzwP3Az+w/XQ9EUUML4krGk/SbOBx4Azgh7af6Tj2Q9vvqS24YUh6LVXN8FW2tyyJ9x22/7Hm0CJaL4krGq/cX7QtsAkdI2Ftn1hbUKOQdA3wGeA029uWsvm2t6w3sm6SfsSLowkXY/sdyzGciJ5kOHy0wVeoaly3Ac+Mcm5TrGH7lkFjSJq4rMmX6w4gYqySuKINNrI9re4gxuhRSZtRajOS9gceqTekxdm+pu4YIsYqiSva4AZJW9meV3cgY/AxYAawuaSHqSbdPbjekIYnaR6LNxkuBGYB/9jEtc9i5ZU+rmisji/TVYDJwL1UTYWimupp6xrDG5Gkl1JNVDuJ6v6tP1LF3Mh+OUlforrF4LxS9H5gDeC/gN1sv72u2CIGS40rmmzfugNYChfzYr/cb2qOpRd72d6uY3+epNtsbyfpkNqiihhCElc0lu1f1x3DUmhbv9wESTvavgVA0g7AhHKsiYNKYiWWxBWxbLStX+7DwLckrVX2nwAOk7Qm8MX6wopYXPq4IsZRm/vlACStC2B74aDyv7N9dj1RRXRL4ooYR5I2Gel4W5s/B/q76o4jAtJUGDGu2pqYetD02fhjJZJlTSKiF2maicZI4oqIXqTGFY2RxBURvbi+7gAiBmRwRkQMXkhywEJgtu05yzueiJEkcUUEks4Dtgd+VIr2BeZSTVl1ge0v1RRaxGKSuCICSdcCb7P9ZNlfC7gEmEZV65pSZ3wRndLHFREAf0H3WmfPUa3e/GfaswZarCRyH1dEAJwL3Czp4rL/duC8MuXTnfWFFbG4NBVGBACStgd2LbvX255VZzwRw0niiggkfRU43/YNdccSMZr0cUUEwGzgGEm/kvTlUvuKaKTUuCLiBZJeDuxHtQLyxrYn1xxSxGJS44qITn8JbA5sAtxVcywRQ0qNKyKQ9CXg3cCvgPOBi2w/Xm9UEUPLcPiIgCphvR54DfBSYGtJ2L623rAiFpfEFREA/cCVwEbAHGBn4EZgzzqDihhK+rgiAuAoYAfg17bfBGwLpKkwGimJKyIAnrb9NICkl9q+C3hdzTFFDClNhREB8JCklwEXAT+R9Bjw65pjihhSRhVGRBdJbwTWBS6z/Wzd8UQMlsQVERGtkj6uiIholSSuiIholSSuiIholSSuiIholSSuiIholf8HIAMKSnFPLI8AAAAASUVORK5CYII=\n"
          },
          "metadata": {
            "needs_background": "light"
          }
        }
      ]
    },
    {
      "cell_type": "markdown",
      "source": [
        "## Machine learning modelling"
      ],
      "metadata": {
        "id": "tKMAtPfWF_Aq"
      }
    },
    {
      "cell_type": "code",
      "source": [
        "import pandas as pd\n",
        "import numpy as np\n",
        "from matplotlib import pyplot as plt\n",
        "import seaborn as sns\n",
        "from sklearn import metrics\n",
        "from sklearn import ensemble\n",
        "from sklearn import preprocessing\n",
        "from sklearn import model_selection\n",
        "from sklearn.metrics import classification_report, confusion_matrix, roc_curve, roc_auc_score,auc, accuracy_score\n",
        "from sklearn.preprocessing import StandardScaler, MinMaxScaler\n",
        "from sklearn.model_selection import train_test_split\n",
        "from IPython.core.display import HTML "
      ],
      "metadata": {
        "id": "_Yi7MTU7FScT"
      },
      "execution_count": 129,
      "outputs": []
    },
    {
      "cell_type": "markdown",
      "source": [
        "### Visualisation"
      ],
      "metadata": {
        "id": "eiClatpHGEAD"
      }
    },
    {
      "cell_type": "code",
      "source": [
        "from matplotlib import pyplot as plt\n",
        "import seaborn as sns"
      ],
      "metadata": {
        "id": "WoGzmc7oFUOy"
      },
      "execution_count": 131,
      "outputs": []
    },
    {
      "cell_type": "code",
      "source": [
        "sns.violinplot(x=stroke_df[\"stroke\"], y=stroke_df[\"avg_glucose_level\"], data=stroke_df)\n",
        "plt.savefig('avg_glucose_level.png', bbox_inches='tight')"
      ],
      "metadata": {
        "colab": {
          "base_uri": "https://localhost:8080/",
          "height": 279
        },
        "id": "LhkwEwRpHGPU",
        "outputId": "99e77dac-212b-473a-cc9f-eb81892e3e1d"
      },
      "execution_count": 134,
      "outputs": [
        {
          "output_type": "display_data",
          "data": {
            "text/plain": [
              "<Figure size 432x288 with 1 Axes>"
            ],
            "image/png": "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\n"
          },
          "metadata": {
            "needs_background": "light"
          }
        }
      ]
    },
    {
      "cell_type": "code",
      "source": [
        "sns.violinplot(x=stroke_df[\"stroke\"], y=stroke_df[\"age\"], data=stroke_df)\n",
        "plt.savefig('age.png', bbox_inches='tight')"
      ],
      "metadata": {
        "colab": {
          "base_uri": "https://localhost:8080/",
          "height": 279
        },
        "id": "NGKX_ml1HKhj",
        "outputId": "99577c8a-fb16-48ab-c867-bbbbba53a98d"
      },
      "execution_count": 135,
      "outputs": [
        {
          "output_type": "display_data",
          "data": {
            "text/plain": [
              "<Figure size 432x288 with 1 Axes>"
            ],
            "image/png": "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\n"
          },
          "metadata": {
            "needs_background": "light"
          }
        }
      ]
    },
    {
      "cell_type": "code",
      "source": [
        "df.drop(df[df[\"gender\"] == \"Other\"].index, inplace=True) \n",
        "df['gender'].unique()"
      ],
      "metadata": {
        "colab": {
          "base_uri": "https://localhost:8080/"
        },
        "id": "eiiVvKhKH4Iy",
        "outputId": "a4a69526-c3b9-4e37-8f8a-c826feed8d67"
      },
      "execution_count": 137,
      "outputs": [
        {
          "output_type": "execute_result",
          "data": {
            "text/plain": [
              "array(['Male', 'Female'], dtype=object)"
            ]
          },
          "metadata": {},
          "execution_count": 137
        }
      ]
    },
    {
      "cell_type": "code",
      "source": [
        "print(df.isnull().sum())"
      ],
      "metadata": {
        "colab": {
          "base_uri": "https://localhost:8080/"
        },
        "id": "Duy3vYWUH_ui",
        "outputId": "0eeb720f-9d8e-4b85-edbe-eed07c49a8b8"
      },
      "execution_count": 138,
      "outputs": [
        {
          "output_type": "stream",
          "name": "stdout",
          "text": [
            "gender               0\n",
            "age                  0\n",
            "hypertension         0\n",
            "heart_disease        0\n",
            "ever_married         0\n",
            "work_type            0\n",
            "Residence_type       0\n",
            "avg_glucose_level    0\n",
            "bmi                  0\n",
            "smoking_status       0\n",
            "stroke               0\n",
            "dtype: int64\n"
          ]
        }
      ]
    },
    {
      "cell_type": "code",
      "source": [
        "df = df.fillna(np.mean(df['bmi']))\n",
        "print(df.isnull().sum())"
      ],
      "metadata": {
        "colab": {
          "base_uri": "https://localhost:8080/"
        },
        "id": "xuPqBrpMIBhK",
        "outputId": "934301e4-e750-48bb-e1bf-98c66cc4e575"
      },
      "execution_count": 139,
      "outputs": [
        {
          "output_type": "stream",
          "name": "stdout",
          "text": [
            "gender               0\n",
            "age                  0\n",
            "hypertension         0\n",
            "heart_disease        0\n",
            "ever_married         0\n",
            "work_type            0\n",
            "Residence_type       0\n",
            "avg_glucose_level    0\n",
            "bmi                  0\n",
            "smoking_status       0\n",
            "stroke               0\n",
            "dtype: int64\n"
          ]
        }
      ]
    },
    {
      "cell_type": "code",
      "source": [
        "df = pd.get_dummies(df, columns=['work_type', 'smoking_status'], prefix=['work', 'smoke'])\n",
        "df.head()"
      ],
      "metadata": {
        "colab": {
          "base_uri": "https://localhost:8080/",
          "height": 287
        },
        "id": "bNgwVfwZIDCi",
        "outputId": "c0d37ee7-f634-43a0-dd69-9e0beb5dfb82"
      },
      "execution_count": 140,
      "outputs": [
        {
          "output_type": "execute_result",
          "data": {
            "text/plain": [
              "   gender   age  hypertension  heart_disease ever_married Residence_type  \\\n",
              "0    Male  67.0             0              1          Yes          Urban   \n",
              "1  Female  61.0             0              0          Yes          Rural   \n",
              "2    Male  80.0             0              1          Yes          Rural   \n",
              "3  Female  49.0             0              0          Yes          Urban   \n",
              "4  Female  79.0             1              0          Yes          Rural   \n",
              "\n",
              "   avg_glucose_level        bmi  stroke  work_Govt_job  work_Never_worked  \\\n",
              "0             228.69  36.600000       1              0                  0   \n",
              "1             202.21  28.893237       1              0                  0   \n",
              "2             105.92  32.500000       1              0                  0   \n",
              "3             171.23  34.400000       1              0                  0   \n",
              "4             174.12  24.000000       1              0                  0   \n",
              "\n",
              "   work_Private  work_Self-employed  work_children  smoke_Unknown  \\\n",
              "0             1                   0              0              0   \n",
              "1             0                   1              0              0   \n",
              "2             1                   0              0              0   \n",
              "3             1                   0              0              0   \n",
              "4             0                   1              0              0   \n",
              "\n",
              "   smoke_formerly smoked  smoke_never smoked  smoke_smokes  \n",
              "0                      1                   0             0  \n",
              "1                      0                   1             0  \n",
              "2                      0                   1             0  \n",
              "3                      0                   0             1  \n",
              "4                      0                   1             0  "
            ],
            "text/html": [
              "\n",
              "  <div id=\"df-53ec939e-7520-459a-ae3c-2c3f8b53df22\">\n",
              "    <div class=\"colab-df-container\">\n",
              "      <div>\n",
              "<style scoped>\n",
              "    .dataframe tbody tr th:only-of-type {\n",
              "        vertical-align: middle;\n",
              "    }\n",
              "\n",
              "    .dataframe tbody tr th {\n",
              "        vertical-align: top;\n",
              "    }\n",
              "\n",
              "    .dataframe thead th {\n",
              "        text-align: right;\n",
              "    }\n",
              "</style>\n",
              "<table border=\"1\" class=\"dataframe\">\n",
              "  <thead>\n",
              "    <tr style=\"text-align: right;\">\n",
              "      <th></th>\n",
              "      <th>gender</th>\n",
              "      <th>age</th>\n",
              "      <th>hypertension</th>\n",
              "      <th>heart_disease</th>\n",
              "      <th>ever_married</th>\n",
              "      <th>Residence_type</th>\n",
              "      <th>avg_glucose_level</th>\n",
              "      <th>bmi</th>\n",
              "      <th>stroke</th>\n",
              "      <th>work_Govt_job</th>\n",
              "      <th>work_Never_worked</th>\n",
              "      <th>work_Private</th>\n",
              "      <th>work_Self-employed</th>\n",
              "      <th>work_children</th>\n",
              "      <th>smoke_Unknown</th>\n",
              "      <th>smoke_formerly smoked</th>\n",
              "      <th>smoke_never smoked</th>\n",
              "      <th>smoke_smokes</th>\n",
              "    </tr>\n",
              "  </thead>\n",
              "  <tbody>\n",
              "    <tr>\n",
              "      <th>0</th>\n",
              "      <td>Male</td>\n",
              "      <td>67.0</td>\n",
              "      <td>0</td>\n",
              "      <td>1</td>\n",
              "      <td>Yes</td>\n",
              "      <td>Urban</td>\n",
              "      <td>228.69</td>\n",
              "      <td>36.600000</td>\n",
              "      <td>1</td>\n",
              "      <td>0</td>\n",
              "      <td>0</td>\n",
              "      <td>1</td>\n",
              "      <td>0</td>\n",
              "      <td>0</td>\n",
              "      <td>0</td>\n",
              "      <td>1</td>\n",
              "      <td>0</td>\n",
              "      <td>0</td>\n",
              "    </tr>\n",
              "    <tr>\n",
              "      <th>1</th>\n",
              "      <td>Female</td>\n",
              "      <td>61.0</td>\n",
              "      <td>0</td>\n",
              "      <td>0</td>\n",
              "      <td>Yes</td>\n",
              "      <td>Rural</td>\n",
              "      <td>202.21</td>\n",
              "      <td>28.893237</td>\n",
              "      <td>1</td>\n",
              "      <td>0</td>\n",
              "      <td>0</td>\n",
              "      <td>0</td>\n",
              "      <td>1</td>\n",
              "      <td>0</td>\n",
              "      <td>0</td>\n",
              "      <td>0</td>\n",
              "      <td>1</td>\n",
              "      <td>0</td>\n",
              "    </tr>\n",
              "    <tr>\n",
              "      <th>2</th>\n",
              "      <td>Male</td>\n",
              "      <td>80.0</td>\n",
              "      <td>0</td>\n",
              "      <td>1</td>\n",
              "      <td>Yes</td>\n",
              "      <td>Rural</td>\n",
              "      <td>105.92</td>\n",
              "      <td>32.500000</td>\n",
              "      <td>1</td>\n",
              "      <td>0</td>\n",
              "      <td>0</td>\n",
              "      <td>1</td>\n",
              "      <td>0</td>\n",
              "      <td>0</td>\n",
              "      <td>0</td>\n",
              "      <td>0</td>\n",
              "      <td>1</td>\n",
              "      <td>0</td>\n",
              "    </tr>\n",
              "    <tr>\n",
              "      <th>3</th>\n",
              "      <td>Female</td>\n",
              "      <td>49.0</td>\n",
              "      <td>0</td>\n",
              "      <td>0</td>\n",
              "      <td>Yes</td>\n",
              "      <td>Urban</td>\n",
              "      <td>171.23</td>\n",
              "      <td>34.400000</td>\n",
              "      <td>1</td>\n",
              "      <td>0</td>\n",
              "      <td>0</td>\n",
              "      <td>1</td>\n",
              "      <td>0</td>\n",
              "      <td>0</td>\n",
              "      <td>0</td>\n",
              "      <td>0</td>\n",
              "      <td>0</td>\n",
              "      <td>1</td>\n",
              "    </tr>\n",
              "    <tr>\n",
              "      <th>4</th>\n",
              "      <td>Female</td>\n",
              "      <td>79.0</td>\n",
              "      <td>1</td>\n",
              "      <td>0</td>\n",
              "      <td>Yes</td>\n",
              "      <td>Rural</td>\n",
              "      <td>174.12</td>\n",
              "      <td>24.000000</td>\n",
              "      <td>1</td>\n",
              "      <td>0</td>\n",
              "      <td>0</td>\n",
              "      <td>0</td>\n",
              "      <td>1</td>\n",
              "      <td>0</td>\n",
              "      <td>0</td>\n",
              "      <td>0</td>\n",
              "      <td>1</td>\n",
              "      <td>0</td>\n",
              "    </tr>\n",
              "  </tbody>\n",
              "</table>\n",
              "</div>\n",
              "      <button class=\"colab-df-convert\" onclick=\"convertToInteractive('df-53ec939e-7520-459a-ae3c-2c3f8b53df22')\"\n",
              "              title=\"Convert this dataframe to an interactive table.\"\n",
              "              style=\"display:none;\">\n",
              "        \n",
              "  <svg xmlns=\"http://www.w3.org/2000/svg\" height=\"24px\"viewBox=\"0 0 24 24\"\n",
              "       width=\"24px\">\n",
              "    <path d=\"M0 0h24v24H0V0z\" fill=\"none\"/>\n",
              "    <path d=\"M18.56 5.44l.94 2.06.94-2.06 2.06-.94-2.06-.94-.94-2.06-.94 2.06-2.06.94zm-11 1L8.5 8.5l.94-2.06 2.06-.94-2.06-.94L8.5 2.5l-.94 2.06-2.06.94zm10 10l.94 2.06.94-2.06 2.06-.94-2.06-.94-.94-2.06-.94 2.06-2.06.94z\"/><path d=\"M17.41 7.96l-1.37-1.37c-.4-.4-.92-.59-1.43-.59-.52 0-1.04.2-1.43.59L10.3 9.45l-7.72 7.72c-.78.78-.78 2.05 0 2.83L4 21.41c.39.39.9.59 1.41.59.51 0 1.02-.2 1.41-.59l7.78-7.78 2.81-2.81c.8-.78.8-2.07 0-2.86zM5.41 20L4 18.59l7.72-7.72 1.47 1.35L5.41 20z\"/>\n",
              "  </svg>\n",
              "      </button>\n",
              "      \n",
              "  <style>\n",
              "    .colab-df-container {\n",
              "      display:flex;\n",
              "      flex-wrap:wrap;\n",
              "      gap: 12px;\n",
              "    }\n",
              "\n",
              "    .colab-df-convert {\n",
              "      background-color: #E8F0FE;\n",
              "      border: none;\n",
              "      border-radius: 50%;\n",
              "      cursor: pointer;\n",
              "      display: none;\n",
              "      fill: #1967D2;\n",
              "      height: 32px;\n",
              "      padding: 0 0 0 0;\n",
              "      width: 32px;\n",
              "    }\n",
              "\n",
              "    .colab-df-convert:hover {\n",
              "      background-color: #E2EBFA;\n",
              "      box-shadow: 0px 1px 2px rgba(60, 64, 67, 0.3), 0px 1px 3px 1px rgba(60, 64, 67, 0.15);\n",
              "      fill: #174EA6;\n",
              "    }\n",
              "\n",
              "    [theme=dark] .colab-df-convert {\n",
              "      background-color: #3B4455;\n",
              "      fill: #D2E3FC;\n",
              "    }\n",
              "\n",
              "    [theme=dark] .colab-df-convert:hover {\n",
              "      background-color: #434B5C;\n",
              "      box-shadow: 0px 1px 3px 1px rgba(0, 0, 0, 0.15);\n",
              "      filter: drop-shadow(0px 1px 2px rgba(0, 0, 0, 0.3));\n",
              "      fill: #FFFFFF;\n",
              "    }\n",
              "  </style>\n",
              "\n",
              "      <script>\n",
              "        const buttonEl =\n",
              "          document.querySelector('#df-53ec939e-7520-459a-ae3c-2c3f8b53df22 button.colab-df-convert');\n",
              "        buttonEl.style.display =\n",
              "          google.colab.kernel.accessAllowed ? 'block' : 'none';\n",
              "\n",
              "        async function convertToInteractive(key) {\n",
              "          const element = document.querySelector('#df-53ec939e-7520-459a-ae3c-2c3f8b53df22');\n",
              "          const dataTable =\n",
              "            await google.colab.kernel.invokeFunction('convertToInteractive',\n",
              "                                                     [key], {});\n",
              "          if (!dataTable) return;\n",
              "\n",
              "          const docLinkHtml = 'Like what you see? Visit the ' +\n",
              "            '<a target=\"_blank\" href=https://colab.research.google.com/notebooks/data_table.ipynb>data table notebook</a>'\n",
              "            + ' to learn more about interactive tables.';\n",
              "          element.innerHTML = '';\n",
              "          dataTable['output_type'] = 'display_data';\n",
              "          await google.colab.output.renderOutput(dataTable, element);\n",
              "          const docLink = document.createElement('div');\n",
              "          docLink.innerHTML = docLinkHtml;\n",
              "          element.appendChild(docLink);\n",
              "        }\n",
              "      </script>\n",
              "    </div>\n",
              "  </div>\n",
              "  "
            ]
          },
          "metadata": {},
          "execution_count": 140
        }
      ]
    },
    {
      "cell_type": "code",
      "source": [
        "df['ever_married'] = np.where(df['ever_married'] == 'Yes', 1, 0)\n",
        "df['gender'] = np.where(df['gender'] == 'Male', 1, 0)\n",
        "df['Residence_type'] = np.where(df['Residence_type'] == 'Urban', 1, 0)\n",
        "df.head()"
      ],
      "metadata": {
        "colab": {
          "base_uri": "https://localhost:8080/",
          "height": 287
        },
        "id": "c3KjX8f2IE5S",
        "outputId": "be95673f-ebf3-4aa5-fbb7-57abcb72b0b0"
      },
      "execution_count": 141,
      "outputs": [
        {
          "output_type": "execute_result",
          "data": {
            "text/plain": [
              "   gender   age  hypertension  heart_disease  ever_married  Residence_type  \\\n",
              "0       1  67.0             0              1             1               1   \n",
              "1       0  61.0             0              0             1               0   \n",
              "2       1  80.0             0              1             1               0   \n",
              "3       0  49.0             0              0             1               1   \n",
              "4       0  79.0             1              0             1               0   \n",
              "\n",
              "   avg_glucose_level        bmi  stroke  work_Govt_job  work_Never_worked  \\\n",
              "0             228.69  36.600000       1              0                  0   \n",
              "1             202.21  28.893237       1              0                  0   \n",
              "2             105.92  32.500000       1              0                  0   \n",
              "3             171.23  34.400000       1              0                  0   \n",
              "4             174.12  24.000000       1              0                  0   \n",
              "\n",
              "   work_Private  work_Self-employed  work_children  smoke_Unknown  \\\n",
              "0             1                   0              0              0   \n",
              "1             0                   1              0              0   \n",
              "2             1                   0              0              0   \n",
              "3             1                   0              0              0   \n",
              "4             0                   1              0              0   \n",
              "\n",
              "   smoke_formerly smoked  smoke_never smoked  smoke_smokes  \n",
              "0                      1                   0             0  \n",
              "1                      0                   1             0  \n",
              "2                      0                   1             0  \n",
              "3                      0                   0             1  \n",
              "4                      0                   1             0  "
            ],
            "text/html": [
              "\n",
              "  <div id=\"df-e29706e7-b6f0-4da0-9808-2980e846ca49\">\n",
              "    <div class=\"colab-df-container\">\n",
              "      <div>\n",
              "<style scoped>\n",
              "    .dataframe tbody tr th:only-of-type {\n",
              "        vertical-align: middle;\n",
              "    }\n",
              "\n",
              "    .dataframe tbody tr th {\n",
              "        vertical-align: top;\n",
              "    }\n",
              "\n",
              "    .dataframe thead th {\n",
              "        text-align: right;\n",
              "    }\n",
              "</style>\n",
              "<table border=\"1\" class=\"dataframe\">\n",
              "  <thead>\n",
              "    <tr style=\"text-align: right;\">\n",
              "      <th></th>\n",
              "      <th>gender</th>\n",
              "      <th>age</th>\n",
              "      <th>hypertension</th>\n",
              "      <th>heart_disease</th>\n",
              "      <th>ever_married</th>\n",
              "      <th>Residence_type</th>\n",
              "      <th>avg_glucose_level</th>\n",
              "      <th>bmi</th>\n",
              "      <th>stroke</th>\n",
              "      <th>work_Govt_job</th>\n",
              "      <th>work_Never_worked</th>\n",
              "      <th>work_Private</th>\n",
              "      <th>work_Self-employed</th>\n",
              "      <th>work_children</th>\n",
              "      <th>smoke_Unknown</th>\n",
              "      <th>smoke_formerly smoked</th>\n",
              "      <th>smoke_never smoked</th>\n",
              "      <th>smoke_smokes</th>\n",
              "    </tr>\n",
              "  </thead>\n",
              "  <tbody>\n",
              "    <tr>\n",
              "      <th>0</th>\n",
              "      <td>1</td>\n",
              "      <td>67.0</td>\n",
              "      <td>0</td>\n",
              "      <td>1</td>\n",
              "      <td>1</td>\n",
              "      <td>1</td>\n",
              "      <td>228.69</td>\n",
              "      <td>36.600000</td>\n",
              "      <td>1</td>\n",
              "      <td>0</td>\n",
              "      <td>0</td>\n",
              "      <td>1</td>\n",
              "      <td>0</td>\n",
              "      <td>0</td>\n",
              "      <td>0</td>\n",
              "      <td>1</td>\n",
              "      <td>0</td>\n",
              "      <td>0</td>\n",
              "    </tr>\n",
              "    <tr>\n",
              "      <th>1</th>\n",
              "      <td>0</td>\n",
              "      <td>61.0</td>\n",
              "      <td>0</td>\n",
              "      <td>0</td>\n",
              "      <td>1</td>\n",
              "      <td>0</td>\n",
              "      <td>202.21</td>\n",
              "      <td>28.893237</td>\n",
              "      <td>1</td>\n",
              "      <td>0</td>\n",
              "      <td>0</td>\n",
              "      <td>0</td>\n",
              "      <td>1</td>\n",
              "      <td>0</td>\n",
              "      <td>0</td>\n",
              "      <td>0</td>\n",
              "      <td>1</td>\n",
              "      <td>0</td>\n",
              "    </tr>\n",
              "    <tr>\n",
              "      <th>2</th>\n",
              "      <td>1</td>\n",
              "      <td>80.0</td>\n",
              "      <td>0</td>\n",
              "      <td>1</td>\n",
              "      <td>1</td>\n",
              "      <td>0</td>\n",
              "      <td>105.92</td>\n",
              "      <td>32.500000</td>\n",
              "      <td>1</td>\n",
              "      <td>0</td>\n",
              "      <td>0</td>\n",
              "      <td>1</td>\n",
              "      <td>0</td>\n",
              "      <td>0</td>\n",
              "      <td>0</td>\n",
              "      <td>0</td>\n",
              "      <td>1</td>\n",
              "      <td>0</td>\n",
              "    </tr>\n",
              "    <tr>\n",
              "      <th>3</th>\n",
              "      <td>0</td>\n",
              "      <td>49.0</td>\n",
              "      <td>0</td>\n",
              "      <td>0</td>\n",
              "      <td>1</td>\n",
              "      <td>1</td>\n",
              "      <td>171.23</td>\n",
              "      <td>34.400000</td>\n",
              "      <td>1</td>\n",
              "      <td>0</td>\n",
              "      <td>0</td>\n",
              "      <td>1</td>\n",
              "      <td>0</td>\n",
              "      <td>0</td>\n",
              "      <td>0</td>\n",
              "      <td>0</td>\n",
              "      <td>0</td>\n",
              "      <td>1</td>\n",
              "    </tr>\n",
              "    <tr>\n",
              "      <th>4</th>\n",
              "      <td>0</td>\n",
              "      <td>79.0</td>\n",
              "      <td>1</td>\n",
              "      <td>0</td>\n",
              "      <td>1</td>\n",
              "      <td>0</td>\n",
              "      <td>174.12</td>\n",
              "      <td>24.000000</td>\n",
              "      <td>1</td>\n",
              "      <td>0</td>\n",
              "      <td>0</td>\n",
              "      <td>0</td>\n",
              "      <td>1</td>\n",
              "      <td>0</td>\n",
              "      <td>0</td>\n",
              "      <td>0</td>\n",
              "      <td>1</td>\n",
              "      <td>0</td>\n",
              "    </tr>\n",
              "  </tbody>\n",
              "</table>\n",
              "</div>\n",
              "      <button class=\"colab-df-convert\" onclick=\"convertToInteractive('df-e29706e7-b6f0-4da0-9808-2980e846ca49')\"\n",
              "              title=\"Convert this dataframe to an interactive table.\"\n",
              "              style=\"display:none;\">\n",
              "        \n",
              "  <svg xmlns=\"http://www.w3.org/2000/svg\" height=\"24px\"viewBox=\"0 0 24 24\"\n",
              "       width=\"24px\">\n",
              "    <path d=\"M0 0h24v24H0V0z\" fill=\"none\"/>\n",
              "    <path d=\"M18.56 5.44l.94 2.06.94-2.06 2.06-.94-2.06-.94-.94-2.06-.94 2.06-2.06.94zm-11 1L8.5 8.5l.94-2.06 2.06-.94-2.06-.94L8.5 2.5l-.94 2.06-2.06.94zm10 10l.94 2.06.94-2.06 2.06-.94-2.06-.94-.94-2.06-.94 2.06-2.06.94z\"/><path d=\"M17.41 7.96l-1.37-1.37c-.4-.4-.92-.59-1.43-.59-.52 0-1.04.2-1.43.59L10.3 9.45l-7.72 7.72c-.78.78-.78 2.05 0 2.83L4 21.41c.39.39.9.59 1.41.59.51 0 1.02-.2 1.41-.59l7.78-7.78 2.81-2.81c.8-.78.8-2.07 0-2.86zM5.41 20L4 18.59l7.72-7.72 1.47 1.35L5.41 20z\"/>\n",
              "  </svg>\n",
              "      </button>\n",
              "      \n",
              "  <style>\n",
              "    .colab-df-container {\n",
              "      display:flex;\n",
              "      flex-wrap:wrap;\n",
              "      gap: 12px;\n",
              "    }\n",
              "\n",
              "    .colab-df-convert {\n",
              "      background-color: #E8F0FE;\n",
              "      border: none;\n",
              "      border-radius: 50%;\n",
              "      cursor: pointer;\n",
              "      display: none;\n",
              "      fill: #1967D2;\n",
              "      height: 32px;\n",
              "      padding: 0 0 0 0;\n",
              "      width: 32px;\n",
              "    }\n",
              "\n",
              "    .colab-df-convert:hover {\n",
              "      background-color: #E2EBFA;\n",
              "      box-shadow: 0px 1px 2px rgba(60, 64, 67, 0.3), 0px 1px 3px 1px rgba(60, 64, 67, 0.15);\n",
              "      fill: #174EA6;\n",
              "    }\n",
              "\n",
              "    [theme=dark] .colab-df-convert {\n",
              "      background-color: #3B4455;\n",
              "      fill: #D2E3FC;\n",
              "    }\n",
              "\n",
              "    [theme=dark] .colab-df-convert:hover {\n",
              "      background-color: #434B5C;\n",
              "      box-shadow: 0px 1px 3px 1px rgba(0, 0, 0, 0.15);\n",
              "      filter: drop-shadow(0px 1px 2px rgba(0, 0, 0, 0.3));\n",
              "      fill: #FFFFFF;\n",
              "    }\n",
              "  </style>\n",
              "\n",
              "      <script>\n",
              "        const buttonEl =\n",
              "          document.querySelector('#df-e29706e7-b6f0-4da0-9808-2980e846ca49 button.colab-df-convert');\n",
              "        buttonEl.style.display =\n",
              "          google.colab.kernel.accessAllowed ? 'block' : 'none';\n",
              "\n",
              "        async function convertToInteractive(key) {\n",
              "          const element = document.querySelector('#df-e29706e7-b6f0-4da0-9808-2980e846ca49');\n",
              "          const dataTable =\n",
              "            await google.colab.kernel.invokeFunction('convertToInteractive',\n",
              "                                                     [key], {});\n",
              "          if (!dataTable) return;\n",
              "\n",
              "          const docLinkHtml = 'Like what you see? Visit the ' +\n",
              "            '<a target=\"_blank\" href=https://colab.research.google.com/notebooks/data_table.ipynb>data table notebook</a>'\n",
              "            + ' to learn more about interactive tables.';\n",
              "          element.innerHTML = '';\n",
              "          dataTable['output_type'] = 'display_data';\n",
              "          await google.colab.output.renderOutput(dataTable, element);\n",
              "          const docLink = document.createElement('div');\n",
              "          docLink.innerHTML = docLinkHtml;\n",
              "          element.appendChild(docLink);\n",
              "        }\n",
              "      </script>\n",
              "    </div>\n",
              "  </div>\n",
              "  "
            ]
          },
          "metadata": {},
          "execution_count": 141
        }
      ]
    },
    {
      "cell_type": "markdown",
      "source": [
        "## Logistic Regression, Random Forest, ExtraTrees, and Gradient Boosting"
      ],
      "metadata": {
        "id": "MzE61XPPIINr"
      }
    },
    {
      "cell_type": "code",
      "source": [
        "from sklearn.model_selection import train_test_split, cross_val_score\n",
        "from sklearn.metrics import accuracy_score, classification_report\n",
        "from sklearn.linear_model import LogisticRegression\n",
        "from sklearn.ensemble import RandomForestClassifier,ExtraTreesClassifier,GradientBoostingClassifier,VotingClassifier\n",
        "from sklearn.impute import KNNImputer\n",
        "from sklearn.metrics import accuracy_score, f1_score, confusion_matrix, precision_score, recall_score\n",
        "from imblearn.over_sampling import SMOTE"
      ],
      "metadata": {
        "id": "xgtBtP2rII8i"
      },
      "execution_count": 143,
      "outputs": []
    },
    {
      "cell_type": "code",
      "source": [
        "from sklearn.model_selection import learning_curve\n",
        "def plot_learning_curve(est, X_train, y_train) :\n",
        "    train_sizes, train_scores, test_scores = learning_curve(estimator=est, X=X_train, y=y_train, train_sizes=np.linspace(0.1, 1.0, 10),\n",
        "                                                        cv=5,\n",
        "                                                        n_jobs=-1)\n",
        "    train_mean = np.mean(train_scores, axis=1)\n",
        "    train_std = np.std(train_scores, axis=1)\n",
        "    test_mean = np.mean(test_scores, axis=1)\n",
        "    test_std = np.std(test_scores, axis=1)\n",
        "    plt.figure(figsize=(8,10))\n",
        "    plt.plot(train_sizes, train_mean, color='blue', marker='o', markersize=5, label='training accuracy')\n",
        "    plt.fill_between(train_sizes, train_mean + train_std, train_mean - train_std, alpha=0.15, color='blue')\n",
        "    plt.plot(train_sizes, test_mean,color='green', linestyle='--',marker='s', markersize=5,label='validation accuracy')\n",
        "    plt.fill_between(train_sizes,test_mean + test_std,test_mean - test_std,alpha=0.15, color='green')\n",
        "    plt.grid(b='on')\n",
        "    plt.xlabel('Number of training samples')\n",
        "    plt.ylabel('Accuracy')\n",
        "    plt.legend(loc='lower right')\n",
        "    plt.ylim([0.6, 1.0])\n",
        "    plt.title('%s'%est) \n",
        "    plt.show()"
      ],
      "metadata": {
        "id": "urEm1NxrIMiS"
      },
      "execution_count": 145,
      "outputs": []
    },
    {
      "cell_type": "code",
      "source": [
        "def plot_roc_curve(est,X_test,y_test) :\n",
        "    probas = est.predict_proba(X_test)\n",
        "    false_positive_rate, true_positive_rate, thresholds = roc_curve(y_test,probas[:, 1])\n",
        "    roc_auc = auc(false_positive_rate, true_positive_rate)\n",
        "    plt.figure(figsize=(8,8))\n",
        "    plt.title('Receiver Operating Characteristic')\n",
        "    plt.plot(false_positive_rate, true_positive_rate, 'b', label='AUC = %0.2f'% roc_auc)\n",
        "    plt.legend(loc='lower right')\n",
        "    plt.plot([0,1],[0,1],'r--')        \n",
        "    plt.plot([0,0,1],[0,1,1],'g:')     \n",
        "    plt.xlim([-0.05,1.2])\n",
        "    plt.ylim([-0.05,1.2])\n",
        "    plt.ylabel('Taux de vrais positifs')\n",
        "    plt.xlabel('Taux de faux positifs')\n",
        "    plt.show"
      ],
      "metadata": {
        "id": "RQEbzit3INjy"
      },
      "execution_count": 146,
      "outputs": []
    },
    {
      "cell_type": "code",
      "source": [
        "X = df.drop(['stroke'],axis=1)\n",
        "y = df['stroke']\n",
        "sm = SMOTE(random_state=2)\n",
        "X, y = sm.fit_resample(X, y)\n",
        "X_train, X_test, y_train, y_test = train_test_split(X, y, test_size=0.2, random_state=0)"
      ],
      "metadata": {
        "id": "THWj5j7hIPRS"
      },
      "execution_count": 147,
      "outputs": []
    },
    {
      "cell_type": "code",
      "source": [
        "# Logistic Regression\n",
        "logit = LogisticRegression()\n",
        "logit.fit(X_train, y_train)\n",
        "logit.pred = logit.predict(X_test)\n",
        "logit_accuracy = accuracy_score(logit.pred, y_test)\n",
        "print('Accuracy:', logit_accuracy)\n",
        "precision = precision_score(y_test, logit.pred)\n",
        "print('Precision:', precision)\n",
        "print(classification_report(y_test, logit.pred))"
      ],
      "metadata": {
        "colab": {
          "base_uri": "https://localhost:8080/"
        },
        "id": "HdyiHleIIREy",
        "outputId": "7909fb6c-1328-4cbb-d4b3-b7567a771434"
      },
      "execution_count": 148,
      "outputs": [
        {
          "output_type": "stream",
          "name": "stdout",
          "text": [
            "Accuracy: 0.9192386831275721\n",
            "Precision: 0.9484083424807903\n",
            "              precision    recall  f1-score   support\n",
            "\n",
            "           0       0.89      0.95      0.92       970\n",
            "           1       0.95      0.89      0.92       974\n",
            "\n",
            "    accuracy                           0.92      1944\n",
            "   macro avg       0.92      0.92      0.92      1944\n",
            "weighted avg       0.92      0.92      0.92      1944\n",
            "\n"
          ]
        },
        {
          "output_type": "stream",
          "name": "stderr",
          "text": [
            "/usr/local/lib/python3.7/dist-packages/sklearn/linear_model/_logistic.py:818: ConvergenceWarning: lbfgs failed to converge (status=1):\n",
            "STOP: TOTAL NO. of ITERATIONS REACHED LIMIT.\n",
            "\n",
            "Increase the number of iterations (max_iter) or scale the data as shown in:\n",
            "    https://scikit-learn.org/stable/modules/preprocessing.html\n",
            "Please also refer to the documentation for alternative solver options:\n",
            "    https://scikit-learn.org/stable/modules/linear_model.html#logistic-regression\n",
            "  extra_warning_msg=_LOGISTIC_SOLVER_CONVERGENCE_MSG,\n"
          ]
        }
      ]
    },
    {
      "cell_type": "code",
      "source": [
        "plot_learning_curve(logit, X_train, y_train)"
      ],
      "metadata": {
        "colab": {
          "base_uri": "https://localhost:8080/",
          "height": 621
        },
        "id": "0KL6y7fNITWC",
        "outputId": "eb26a0b9-2633-454c-c020-6ff81cd32635"
      },
      "execution_count": 149,
      "outputs": [
        {
          "output_type": "display_data",
          "data": {
            "text/plain": [
              "<Figure size 576x720 with 1 Axes>"
            ],
            "image/png": "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\n"
          },
          "metadata": {
            "needs_background": "light"
          }
        }
      ]
    },
    {
      "cell_type": "code",
      "source": [
        "# Random Forest\n",
        "RF = RandomForestClassifier()\n",
        "RF.fit(X_train, y_train)\n",
        "RF.pred = RF.predict(X_test)\n",
        "RF_accuracy = accuracy_score(RF.pred, y_test)\n",
        "print('Accuracy:', RF_accuracy)\n",
        "precision = precision_score(y_test, RF.pred)\n",
        "print('Precision:', precision)\n",
        "print(classification_report(y_test, RF.pred))"
      ],
      "metadata": {
        "colab": {
          "base_uri": "https://localhost:8080/"
        },
        "id": "Eytejy2OIXCi",
        "outputId": "2e139be2-b72f-4dba-ece6-b6e14901709e"
      },
      "execution_count": 150,
      "outputs": [
        {
          "output_type": "stream",
          "name": "stdout",
          "text": [
            "Accuracy: 0.9696502057613169\n",
            "Precision: 0.9800629590766002\n",
            "              precision    recall  f1-score   support\n",
            "\n",
            "           0       0.96      0.98      0.97       970\n",
            "           1       0.98      0.96      0.97       974\n",
            "\n",
            "    accuracy                           0.97      1944\n",
            "   macro avg       0.97      0.97      0.97      1944\n",
            "weighted avg       0.97      0.97      0.97      1944\n",
            "\n"
          ]
        }
      ]
    },
    {
      "cell_type": "code",
      "source": [
        "plot_learning_curve(RF, X_train, y_train)"
      ],
      "metadata": {
        "colab": {
          "base_uri": "https://localhost:8080/",
          "height": 621
        },
        "id": "gEndHn6zIfkS",
        "outputId": "bf0c1293-45fc-4d15-cb63-3cd9d6a94fed"
      },
      "execution_count": 151,
      "outputs": [
        {
          "output_type": "display_data",
          "data": {
            "text/plain": [
              "<Figure size 576x720 with 1 Axes>"
            ],
            "image/png": "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\n"
          },
          "metadata": {
            "needs_background": "light"
          }
        }
      ]
    },
    {
      "cell_type": "code",
      "source": [
        "# ExtraTrees\n",
        "ET = ExtraTreesClassifier()\n",
        "ET.fit(X_train, y_train)\n",
        "ET.pred = ET.predict(X_test)\n",
        "ET_accuracy = accuracy_score(ET.pred, y_test)\n",
        "print('Accuracy:', ET_accuracy)\n",
        "precision = precision_score(y_test, ET.pred)\n",
        "print('Precision:', precision)\n",
        "print(classification_report(y_test, ET.pred))"
      ],
      "metadata": {
        "colab": {
          "base_uri": "https://localhost:8080/"
        },
        "id": "XxozxLiTI2oK",
        "outputId": "653be2ad-1793-4039-d39f-0b907e2cce67"
      },
      "execution_count": 152,
      "outputs": [
        {
          "output_type": "stream",
          "name": "stdout",
          "text": [
            "Accuracy: 0.9686213991769548\n",
            "Precision: 0.9790136411332634\n",
            "              precision    recall  f1-score   support\n",
            "\n",
            "           0       0.96      0.98      0.97       970\n",
            "           1       0.98      0.96      0.97       974\n",
            "\n",
            "    accuracy                           0.97      1944\n",
            "   macro avg       0.97      0.97      0.97      1944\n",
            "weighted avg       0.97      0.97      0.97      1944\n",
            "\n"
          ]
        }
      ]
    },
    {
      "cell_type": "code",
      "source": [
        "plot_learning_curve(ET, X_train, y_train)"
      ],
      "metadata": {
        "colab": {
          "base_uri": "https://localhost:8080/",
          "height": 621
        },
        "id": "xWkU5hl4I3Ii",
        "outputId": "e2e0ff6e-d92c-494b-d43f-dca68550476c"
      },
      "execution_count": 153,
      "outputs": [
        {
          "output_type": "display_data",
          "data": {
            "text/plain": [
              "<Figure size 576x720 with 1 Axes>"
            ],
            "image/png": "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\n"
          },
          "metadata": {
            "needs_background": "light"
          }
        }
      ]
    },
    {
      "cell_type": "code",
      "source": [
        "# Gradient Boosting\n",
        "GB = GradientBoostingClassifier()\n",
        "GB.fit(X_train, y_train)\n",
        "GB.pred = GB.predict(X_test)\n",
        "GB_accuracy = accuracy_score(GB.pred, y_test)\n",
        "print('Accuracy:', GB_accuracy)\n",
        "precision = precision_score(y_test, GB.pred)\n",
        "print('Precision:', precision)\n",
        "print(classification_report(y_test, GB.pred))"
      ],
      "metadata": {
        "colab": {
          "base_uri": "https://localhost:8080/"
        },
        "id": "KaRPm8mtI5XC",
        "outputId": "9f6357e2-7fe6-42ae-c2b0-59cb349de3b8"
      },
      "execution_count": 154,
      "outputs": [
        {
          "output_type": "stream",
          "name": "stdout",
          "text": [
            "Accuracy: 0.9454732510288066\n",
            "Precision: 0.9617021276595744\n",
            "              precision    recall  f1-score   support\n",
            "\n",
            "           0       0.93      0.96      0.95       970\n",
            "           1       0.96      0.93      0.94       974\n",
            "\n",
            "    accuracy                           0.95      1944\n",
            "   macro avg       0.95      0.95      0.95      1944\n",
            "weighted avg       0.95      0.95      0.95      1944\n",
            "\n"
          ]
        }
      ]
    },
    {
      "cell_type": "code",
      "source": [
        "plot_learning_curve(GB, X_train, y_train)"
      ],
      "metadata": {
        "colab": {
          "base_uri": "https://localhost:8080/",
          "height": 621
        },
        "id": "vrPmWvLmI_WC",
        "outputId": "fa1a89b6-4260-4a50-8675-8513e9c2c30d"
      },
      "execution_count": 155,
      "outputs": [
        {
          "output_type": "display_data",
          "data": {
            "text/plain": [
              "<Figure size 576x720 with 1 Axes>"
            ],
            "image/png": "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\n"
          },
          "metadata": {
            "needs_background": "light"
          }
        }
      ]
    },
    {
      "cell_type": "code",
      "source": [
        ""
      ],
      "metadata": {
        "id": "IE8E8xhCJBRC"
      },
      "execution_count": null,
      "outputs": []
>>>>>>> 6d47ab829f0c201a4be644f487dbf5d2d1ebe9bb
    }
   ],
   "source": [
    "import os\n",
    "spark_version = 'spark-3.2.1'\n",
    "os.environ['SPARK_VERSION']=spark_version\n",
    "\n",
    "# Install Spark and Java\n",
    "!apt-get update\n",
    "!apt-get install openjdk-8-jdk-headless -qq > /dev/null\n",
    "!wget -q http://www.apache.org/dist/spark/$SPARK_VERSION/$SPARK_VERSION-bin-hadoop2.7.tgz\n",
    "!tar xf $SPARK_VERSION-bin-hadoop2.7.tgz\n",
    "!pip install -q findspark\n",
    "\n",
    "# Set Environment Variables\n",
    "import os\n",
    "os.environ[\"JAVA_HOME\"] = \"/usr/lib/jvm/java-8-openjdk-amd64\"\n",
    "os.environ[\"SPARK_HOME\"] = f\"/content/{spark_version}-bin-hadoop2.7\"\n",
    "\n",
    "# Start a SparkSession\n",
    "import findspark\n",
    "findspark.init()\n",
    "import pandas as pd"
   ]
  },
  {
   "cell_type": "code",
   "execution_count": null,
   "metadata": {
    "colab": {
     "base_uri": "https://localhost:8080/"
    },
    "id": "HkBJThkYIkcG",
    "outputId": "2453f05b-8e12-4c93-fbca-8391317fc1bf"
   },
   "outputs": [],
   "source": [
    "!wget https://jdbc.postgresql.org/download/postgresql-42.2.9.jar"
   ]
  },
  {
   "cell_type": "code",
   "execution_count": null,
   "metadata": {
    "id": "uNO_W0k9JafF"
   },
   "outputs": [],
   "source": [
    "from pyspark.sql import SparkSession\n",
    "spark = SparkSession.builder.appName(\"CloudETL\").config(\"spark.driver.extraClassPath\",\"/content/postgresql-42.2.9.jar\").getOrCreate()"
   ]
  },
  {
   "cell_type": "code",
   "execution_count": null,
   "metadata": {
    "colab": {
     "base_uri": "https://localhost:8080/"
    },
    "id": "aajogngcJdo0",
    "outputId": "de209cc2-4ea4-4f66-b7fe-a82566fad718"
   },
   "outputs": [],
   "source": [
    "from pyspark import SparkFiles\n",
    "url =\"https://project-4.s3.eu-west-2.amazonaws.com/stroke-dataset.csv\"\n",
    "spark.sparkContext.addFile(url)\n",
    "stroke_data = spark.read.csv(SparkFiles.get(\"stroke-dataset.csv\"), header=True, inferSchema=True)\n",
    "\n",
    "stroke_data.show(10)"
   ]
  },
  {
   "cell_type": "code",
   "execution_count": null,
   "metadata": {
    "id": "28ehZGm-KARV"
   },
   "outputs": [],
   "source": [
    "import numpy as np\n",
    "import pandas as pd"
   ]
  },
  {
   "cell_type": "code",
   "execution_count": null,
   "metadata": {
    "colab": {
     "base_uri": "https://localhost:8080/",
     "height": 206
    },
    "id": "Pt4slDmpKPjl",
    "outputId": "9bb137de-8208-440a-b878-7fff079c0ff0"
   },
   "outputs": [],
   "source": [
    "stroke_df = stroke_data.toPandas()\n",
    "stroke_df.head()"
   ]
  },
  {
   "cell_type": "code",
   "execution_count": null,
   "metadata": {
    "colab": {
     "base_uri": "https://localhost:8080/"
    },
    "id": "It_77wCOKQv1",
    "outputId": "ad2433a0-ba0b-483e-ae94-4ba40f07f330"
   },
   "outputs": [],
   "source": [
    "stroke_df = stroke_df.drop('id', 1)"
   ]
  },
  {
   "cell_type": "code",
   "execution_count": null,
   "metadata": {
    "colab": {
     "base_uri": "https://localhost:8080/",
     "height": 423
    },
    "id": "bUJ2Pkv7KSAl",
    "outputId": "6ccbbeb0-6ab1-485f-fb4f-b978584de048"
   },
   "outputs": [],
   "source": [
    "stroke_df"
   ]
  },
  {
   "cell_type": "markdown",
   "metadata": {
    "id": "mcDMkqRUKaZu"
   },
   "source": [
    "### Machine learning modelling "
   ]
  },
  {
   "cell_type": "code",
   "execution_count": null,
   "metadata": {
    "id": "uV2gehoKKTEV"
   },
   "outputs": [],
   "source": [
    "import pandas as pd\n",
    "import numpy as np\n",
    "from matplotlib import pyplot as plt\n",
    "import seaborn as sns\n",
    "from sklearn import metrics\n",
    "from sklearn import ensemble\n",
    "from sklearn import preprocessing\n",
    "from sklearn import model_selection\n",
    "from sklearn.metrics import classification_report, confusion_matrix, roc_curve, roc_auc_score,auc, accuracy_score\n",
    "from sklearn.preprocessing import StandardScaler, MinMaxScaler\n",
    "from sklearn.model_selection import train_test_split\n",
    "from IPython.core.display import HTML "
   ]
  },
  {
   "cell_type": "markdown",
   "metadata": {
    "id": "U97apRt7Kibl"
   },
   "source": [
    "### Visualisation"
   ]
  },
  {
   "cell_type": "code",
   "execution_count": null,
   "metadata": {
    "id": "JHJCls2hKeg0"
   },
   "outputs": [],
   "source": [
    "from matplotlib import pyplot as plt\n",
    "import seaborn as sns"
   ]
  },
  {
   "cell_type": "code",
   "execution_count": 13,
   "metadata": {
    "colab": {
     "base_uri": "https://localhost:8080/",
     "height": 368
    },
    "id": "efhZ4YbHKkvV",
    "outputId": "67a84d35-8ca9-415a-a053-eb9b9354d38f"
   },
   "outputs": [
    {
     "data": {
      "text/plain": [
       "<matplotlib.axes._subplots.AxesSubplot at 0x7f15b6c13d90>"
      ]
     },
     "execution_count": 13,
     "metadata": {},
     "output_type": "execute_result"
    },
    {
     "data": {
      "image/png": "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\n",
      "text/plain": [
       "<Figure size 432x288 with 2 Axes>"
      ]
     },
     "metadata": {
      "needs_background": "light"
     },
     "output_type": "display_data"
    }
   ],
   "source": [
    "sns.heatmap(abs(stroke_df.corr()), cmap=\"coolwarm\")\n",
    "plt.savefig('pearsons.png', bbox_inches='tight')"
   ]
  },
  {
   "cell_type": "code",
   "execution_count": 15,
   "metadata": {
    "colab": {
     "base_uri": "https://localhost:8080/",
     "height": 297
    },
    "id": "Yo0LqzoeKpd0",
    "outputId": "9226bc9a-c7ce-4c2b-ea5d-8ad426cf757e"
   },
   "outputs": [
    {
     "data": {
      "text/plain": [
       "<matplotlib.axes._subplots.AxesSubplot at 0x7f15b40fa610>"
      ]
     },
     "execution_count": 15,
     "metadata": {},
     "output_type": "execute_result"
    },
    {
     "data": {
      "image/png": "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\n",
      "text/plain": [
       "<Figure size 432x288 with 1 Axes>"
      ]
     },
     "metadata": {
      "needs_background": "light"
     },
     "output_type": "display_data"
    }
   ],
   "source": [
    "sns.violinplot(x=stroke_df[\"stroke\"], y=stroke_df[\"avg_glucose_level\"], data=stroke_df)"
   ]
  },
  {
   "cell_type": "code",
   "execution_count": 16,
   "metadata": {
    "colab": {
     "base_uri": "https://localhost:8080/",
     "height": 297
    },
    "id": "H4Nr7kBgKvFl",
    "outputId": "7c9367b4-8a19-49e1-cd11-bd2d8ea9a909"
   },
   "outputs": [
    {
     "data": {
      "text/plain": [
       "<matplotlib.axes._subplots.AxesSubplot at 0x7f15b1b41fd0>"
      ]
     },
     "execution_count": 16,
     "metadata": {},
     "output_type": "execute_result"
    },
    {
     "data": {
      "image/png": "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\n",
      "text/plain": [
       "<Figure size 432x288 with 1 Axes>"
      ]
     },
     "metadata": {
      "needs_background": "light"
     },
     "output_type": "display_data"
    }
   ],
   "source": [
    "sns.violinplot(x=stroke_df[\"stroke\"], y=stroke_df[\"age\"], data=stroke_df)"
   ]
  },
  {
   "cell_type": "markdown",
   "metadata": {
    "id": "cw5xcqCbQ6EU"
   },
   "source": [
    "### Data analysis"
   ]
  },
  {
   "cell_type": "code",
   "execution_count": 20,
   "metadata": {
    "colab": {
     "base_uri": "https://localhost:8080/"
    },
    "id": "SPpeM9KnQ1gC",
    "outputId": "a7156019-d39a-444f-dd43-e634684ec25e"
   },
   "outputs": [
    {
     "data": {
      "text/plain": [
       "array(['formerly smoked', 'never smoked', 'smokes'], dtype=object)"
      ]
     },
     "execution_count": 20,
     "metadata": {},
     "output_type": "execute_result"
    }
   ],
   "source": [
    "stroke_df.drop(stroke_df[stroke_df[\"smoking_status\"] == \"Unknown\"].index, inplace=True)  # Observations decreased from 5110 to 3566\n",
    "stroke_df['smoking_status'].unique()"
   ]
  },
  {
   "cell_type": "code",
   "execution_count": 21,
   "metadata": {
    "colab": {
     "base_uri": "https://localhost:8080/"
    },
    "id": "QK3SEM83Q9Dy",
    "outputId": "15c3f6a5-1236-4c3e-8d6e-34376765dded"
   },
   "outputs": [
    {
     "data": {
      "text/plain": [
       "array(['Male', 'Female'], dtype=object)"
      ]
     },
     "execution_count": 21,
     "metadata": {},
     "output_type": "execute_result"
    }
   ],
   "source": [
    "stroke_df.drop(stroke_df[stroke_df[\"gender\"] == \"Other\"].index, inplace=True)  # Observations decreased from 3566 to 3565\n",
    "stroke_df['gender'].unique()"
   ]
  },
  {
   "cell_type": "code",
   "execution_count": 22,
   "metadata": {
    "colab": {
     "base_uri": "https://localhost:8080/"
    },
    "id": "NO6NGRZBRaIR",
    "outputId": "95da4695-94d8-4f23-8af2-e815b6586f4e"
   },
   "outputs": [
    {
     "name": "stdout",
     "output_type": "stream",
     "text": [
      "gender               0\n",
      "age                  0\n",
      "hypertension         0\n",
      "heart_disease        0\n",
      "ever_married         0\n",
      "work_type            0\n",
      "Residence_type       0\n",
      "avg_glucose_level    0\n",
      "bmi                  0\n",
      "smoking_status       0\n",
      "stroke               0\n",
      "dtype: int64\n"
     ]
    }
   ],
   "source": [
    "print(stroke_df.isnull().sum())"
   ]
  },
  {
   "cell_type": "code",
   "execution_count": 63,
   "metadata": {
    "colab": {
     "base_uri": "https://localhost:8080/",
     "height": 635
    },
    "id": "zp8rl15mWgaI",
    "outputId": "86edaec4-03f4-4066-9e20-3161102c41fc"
   },
   "outputs": [
    {
     "ename": "TypeError",
     "evalue": "ignored",
     "output_type": "error",
     "traceback": [
      "\u001b[0;31m---------------------------------------------------------------------------\u001b[0m",
      "\u001b[0;31mValueError\u001b[0m                                Traceback (most recent call last)",
      "\u001b[0;32m/usr/local/lib/python3.7/dist-packages/pandas/core/nanops.py\u001b[0m in \u001b[0;36m_ensure_numeric\u001b[0;34m(x)\u001b[0m\n\u001b[1;32m   1602\u001b[0m         \u001b[0;32mtry\u001b[0m\u001b[0;34m:\u001b[0m\u001b[0;34m\u001b[0m\u001b[0;34m\u001b[0m\u001b[0m\n\u001b[0;32m-> 1603\u001b[0;31m             \u001b[0mx\u001b[0m \u001b[0;34m=\u001b[0m \u001b[0mfloat\u001b[0m\u001b[0;34m(\u001b[0m\u001b[0mx\u001b[0m\u001b[0;34m)\u001b[0m\u001b[0;34m\u001b[0m\u001b[0;34m\u001b[0m\u001b[0m\n\u001b[0m\u001b[1;32m   1604\u001b[0m         \u001b[0;32mexcept\u001b[0m \u001b[0;34m(\u001b[0m\u001b[0mTypeError\u001b[0m\u001b[0;34m,\u001b[0m \u001b[0mValueError\u001b[0m\u001b[0;34m)\u001b[0m\u001b[0;34m:\u001b[0m\u001b[0;34m\u001b[0m\u001b[0;34m\u001b[0m\u001b[0m\n",
      "\u001b[0;31mValueError\u001b[0m: could not convert string to float: '36.6N/A32.534.4242927.422.829.736.827.328.230.937.525.837.822.448.926.627.223.528.228.3N/A44.222.230.529.726.533.723.129.923.928.526.4N/A20.233.638.633.739.2N/A27.731.4N/A36.533.2N/A32.827.740.422.225.330.22447.53028.9N/A28.131.127.426.421.72724.1N/A22.929.729.127.332.341.129.826.337.529.432.324.431.427.72831.434.6N/A30.340.424.241.522.624.2N/A56.630.927.331.324312831.735.828.4N/A2936.520.136.5N/A26.738.729.9272523.821.836.83027.5N/A24.632.926.131.934.127.525.636.931.437.334.125N/AN/A45.734.223.6N/A22.331.4N/AN/A26.432.9N/A37.14525.530.83229.937.431.734.527.929.54642.535.531.126.935.845.5N/A26.631.53230.831.13323.426.926.327.330.720.521.53127.140N/A28.628.128.442.225.831.927.5N/A29.635.416.921.534.42832.628.435.921.234.542.440.529.339.235.917.72732.354.62239.426.142.43319.722.524.625.260.931.527.323.724.528.426.926.731.227.525.130.929.43627.528.526.833.634.925.135.326.431.536.729.327.934.33127.73638.727.624.334.340.121.938.426.130.525.954.724.925.219.42948.2N/A34.624.625.826.12927.220.73037.334.123.625.239.523.523.364.828.1N/A24.429.832.343.62147.337.524.231.621.63131.135.641.841.929.227.137.944.622.833.222.326.439.628.139.23637.840.341.521.223.824.837.931.136.136.325.446.546.626.426.234.422.240.328.431.734.254.724.6N/A36.931.131.931.828.529.52229.436.83129.415.337.138.223.230.245.249.827.825.126.860.227.528.127.422.222.926.62332.622.5N/A31.631.221.72529.75139.734.721.323.93641.227.125.430.734.835.737.829.735.823.6...",
      "\nDuring handling of the above exception, another exception occurred:\n",
      "\u001b[0;31mValueError\u001b[0m                                Traceback (most recent call last)",
      "\u001b[0;32m/usr/local/lib/python3.7/dist-packages/pandas/core/nanops.py\u001b[0m in \u001b[0;36m_ensure_numeric\u001b[0;34m(x)\u001b[0m\n\u001b[1;32m   1606\u001b[0m             \u001b[0;32mtry\u001b[0m\u001b[0;34m:\u001b[0m\u001b[0;34m\u001b[0m\u001b[0;34m\u001b[0m\u001b[0m\n\u001b[0;32m-> 1607\u001b[0;31m                 \u001b[0mx\u001b[0m \u001b[0;34m=\u001b[0m \u001b[0mcomplex\u001b[0m\u001b[0;34m(\u001b[0m\u001b[0mx\u001b[0m\u001b[0;34m)\u001b[0m\u001b[0;34m\u001b[0m\u001b[0;34m\u001b[0m\u001b[0m\n\u001b[0m\u001b[1;32m   1608\u001b[0m             \u001b[0;32mexcept\u001b[0m \u001b[0mValueError\u001b[0m \u001b[0;32mas\u001b[0m \u001b[0merr\u001b[0m\u001b[0;34m:\u001b[0m\u001b[0;34m\u001b[0m\u001b[0;34m\u001b[0m\u001b[0m\n",
      "\u001b[0;31mValueError\u001b[0m: complex() arg is a malformed string",
      "\nThe above exception was the direct cause of the following exception:\n",
      "\u001b[0;31mTypeError\u001b[0m                                 Traceback (most recent call last)",
      "\u001b[0;32m<ipython-input-63-3e33171695db>\u001b[0m in \u001b[0;36m<module>\u001b[0;34m()\u001b[0m\n\u001b[0;32m----> 1\u001b[0;31m \u001b[0mstroke_df\u001b[0m \u001b[0;34m=\u001b[0m \u001b[0mstroke_df\u001b[0m\u001b[0;34m.\u001b[0m\u001b[0mfillna\u001b[0m\u001b[0;34m(\u001b[0m\u001b[0mnp\u001b[0m\u001b[0;34m.\u001b[0m\u001b[0mmean\u001b[0m\u001b[0;34m(\u001b[0m\u001b[0mstroke_df\u001b[0m\u001b[0;34m[\u001b[0m\u001b[0;34m'bmi'\u001b[0m\u001b[0;34m]\u001b[0m\u001b[0;34m)\u001b[0m\u001b[0;34m)\u001b[0m\u001b[0;34m\u001b[0m\u001b[0;34m\u001b[0m\u001b[0m\n\u001b[0m\u001b[1;32m      2\u001b[0m \u001b[0mprint\u001b[0m\u001b[0;34m(\u001b[0m\u001b[0mstroke_df\u001b[0m\u001b[0;34m.\u001b[0m\u001b[0misnull\u001b[0m\u001b[0;34m(\u001b[0m\u001b[0;34m)\u001b[0m\u001b[0;34m.\u001b[0m\u001b[0msum\u001b[0m\u001b[0;34m(\u001b[0m\u001b[0;34m)\u001b[0m\u001b[0;34m)\u001b[0m\u001b[0;34m\u001b[0m\u001b[0;34m\u001b[0m\u001b[0m\n",
      "\u001b[0;32m<__array_function__ internals>\u001b[0m in \u001b[0;36mmean\u001b[0;34m(*args, **kwargs)\u001b[0m\n",
      "\u001b[0;32m/usr/local/lib/python3.7/dist-packages/numpy/core/fromnumeric.py\u001b[0m in \u001b[0;36mmean\u001b[0;34m(a, axis, dtype, out, keepdims, where)\u001b[0m\n\u001b[1;32m   3436\u001b[0m             \u001b[0;32mpass\u001b[0m\u001b[0;34m\u001b[0m\u001b[0;34m\u001b[0m\u001b[0m\n\u001b[1;32m   3437\u001b[0m         \u001b[0;32melse\u001b[0m\u001b[0;34m:\u001b[0m\u001b[0;34m\u001b[0m\u001b[0;34m\u001b[0m\u001b[0m\n\u001b[0;32m-> 3438\u001b[0;31m             \u001b[0;32mreturn\u001b[0m \u001b[0mmean\u001b[0m\u001b[0;34m(\u001b[0m\u001b[0maxis\u001b[0m\u001b[0;34m=\u001b[0m\u001b[0maxis\u001b[0m\u001b[0;34m,\u001b[0m \u001b[0mdtype\u001b[0m\u001b[0;34m=\u001b[0m\u001b[0mdtype\u001b[0m\u001b[0;34m,\u001b[0m \u001b[0mout\u001b[0m\u001b[0;34m=\u001b[0m\u001b[0mout\u001b[0m\u001b[0;34m,\u001b[0m \u001b[0;34m**\u001b[0m\u001b[0mkwargs\u001b[0m\u001b[0;34m)\u001b[0m\u001b[0;34m\u001b[0m\u001b[0;34m\u001b[0m\u001b[0m\n\u001b[0m\u001b[1;32m   3439\u001b[0m \u001b[0;34m\u001b[0m\u001b[0m\n\u001b[1;32m   3440\u001b[0m     return _methods._mean(a, axis=axis, dtype=dtype,\n",
      "\u001b[0;32m/usr/local/lib/python3.7/dist-packages/pandas/core/generic.py\u001b[0m in \u001b[0;36mmean\u001b[0;34m(self, axis, skipna, level, numeric_only, **kwargs)\u001b[0m\n\u001b[1;32m  10749\u001b[0m         )\n\u001b[1;32m  10750\u001b[0m         \u001b[0;32mdef\u001b[0m \u001b[0mmean\u001b[0m\u001b[0;34m(\u001b[0m\u001b[0mself\u001b[0m\u001b[0;34m,\u001b[0m \u001b[0maxis\u001b[0m\u001b[0;34m=\u001b[0m\u001b[0;32mNone\u001b[0m\u001b[0;34m,\u001b[0m \u001b[0mskipna\u001b[0m\u001b[0;34m=\u001b[0m\u001b[0;32mNone\u001b[0m\u001b[0;34m,\u001b[0m \u001b[0mlevel\u001b[0m\u001b[0;34m=\u001b[0m\u001b[0;32mNone\u001b[0m\u001b[0;34m,\u001b[0m \u001b[0mnumeric_only\u001b[0m\u001b[0;34m=\u001b[0m\u001b[0;32mNone\u001b[0m\u001b[0;34m,\u001b[0m \u001b[0;34m**\u001b[0m\u001b[0mkwargs\u001b[0m\u001b[0;34m)\u001b[0m\u001b[0;34m:\u001b[0m\u001b[0;34m\u001b[0m\u001b[0;34m\u001b[0m\u001b[0m\n\u001b[0;32m> 10751\u001b[0;31m             \u001b[0;32mreturn\u001b[0m \u001b[0mNDFrame\u001b[0m\u001b[0;34m.\u001b[0m\u001b[0mmean\u001b[0m\u001b[0;34m(\u001b[0m\u001b[0mself\u001b[0m\u001b[0;34m,\u001b[0m \u001b[0maxis\u001b[0m\u001b[0;34m,\u001b[0m \u001b[0mskipna\u001b[0m\u001b[0;34m,\u001b[0m \u001b[0mlevel\u001b[0m\u001b[0;34m,\u001b[0m \u001b[0mnumeric_only\u001b[0m\u001b[0;34m,\u001b[0m \u001b[0;34m**\u001b[0m\u001b[0mkwargs\u001b[0m\u001b[0;34m)\u001b[0m\u001b[0;34m\u001b[0m\u001b[0;34m\u001b[0m\u001b[0m\n\u001b[0m\u001b[1;32m  10752\u001b[0m \u001b[0;34m\u001b[0m\u001b[0m\n\u001b[1;32m  10753\u001b[0m         \u001b[0msetattr\u001b[0m\u001b[0;34m(\u001b[0m\u001b[0mcls\u001b[0m\u001b[0;34m,\u001b[0m \u001b[0;34m\"mean\"\u001b[0m\u001b[0;34m,\u001b[0m \u001b[0mmean\u001b[0m\u001b[0;34m)\u001b[0m\u001b[0;34m\u001b[0m\u001b[0;34m\u001b[0m\u001b[0m\n",
      "\u001b[0;32m/usr/local/lib/python3.7/dist-packages/pandas/core/generic.py\u001b[0m in \u001b[0;36mmean\u001b[0;34m(self, axis, skipna, level, numeric_only, **kwargs)\u001b[0m\n\u001b[1;32m  10368\u001b[0m     \u001b[0;32mdef\u001b[0m \u001b[0mmean\u001b[0m\u001b[0;34m(\u001b[0m\u001b[0mself\u001b[0m\u001b[0;34m,\u001b[0m \u001b[0maxis\u001b[0m\u001b[0;34m=\u001b[0m\u001b[0;32mNone\u001b[0m\u001b[0;34m,\u001b[0m \u001b[0mskipna\u001b[0m\u001b[0;34m=\u001b[0m\u001b[0;32mNone\u001b[0m\u001b[0;34m,\u001b[0m \u001b[0mlevel\u001b[0m\u001b[0;34m=\u001b[0m\u001b[0;32mNone\u001b[0m\u001b[0;34m,\u001b[0m \u001b[0mnumeric_only\u001b[0m\u001b[0;34m=\u001b[0m\u001b[0;32mNone\u001b[0m\u001b[0;34m,\u001b[0m \u001b[0;34m**\u001b[0m\u001b[0mkwargs\u001b[0m\u001b[0;34m)\u001b[0m\u001b[0;34m:\u001b[0m\u001b[0;34m\u001b[0m\u001b[0;34m\u001b[0m\u001b[0m\n\u001b[1;32m  10369\u001b[0m         return self._stat_function(\n\u001b[0;32m> 10370\u001b[0;31m             \u001b[0;34m\"mean\"\u001b[0m\u001b[0;34m,\u001b[0m \u001b[0mnanops\u001b[0m\u001b[0;34m.\u001b[0m\u001b[0mnanmean\u001b[0m\u001b[0;34m,\u001b[0m \u001b[0maxis\u001b[0m\u001b[0;34m,\u001b[0m \u001b[0mskipna\u001b[0m\u001b[0;34m,\u001b[0m \u001b[0mlevel\u001b[0m\u001b[0;34m,\u001b[0m \u001b[0mnumeric_only\u001b[0m\u001b[0;34m,\u001b[0m \u001b[0;34m**\u001b[0m\u001b[0mkwargs\u001b[0m\u001b[0;34m\u001b[0m\u001b[0;34m\u001b[0m\u001b[0m\n\u001b[0m\u001b[1;32m  10371\u001b[0m         )\n\u001b[1;32m  10372\u001b[0m \u001b[0;34m\u001b[0m\u001b[0m\n",
      "\u001b[0;32m/usr/local/lib/python3.7/dist-packages/pandas/core/generic.py\u001b[0m in \u001b[0;36m_stat_function\u001b[0;34m(self, name, func, axis, skipna, level, numeric_only, **kwargs)\u001b[0m\n\u001b[1;32m  10353\u001b[0m             )\n\u001b[1;32m  10354\u001b[0m         return self._reduce(\n\u001b[0;32m> 10355\u001b[0;31m             \u001b[0mfunc\u001b[0m\u001b[0;34m,\u001b[0m \u001b[0mname\u001b[0m\u001b[0;34m=\u001b[0m\u001b[0mname\u001b[0m\u001b[0;34m,\u001b[0m \u001b[0maxis\u001b[0m\u001b[0;34m=\u001b[0m\u001b[0maxis\u001b[0m\u001b[0;34m,\u001b[0m \u001b[0mskipna\u001b[0m\u001b[0;34m=\u001b[0m\u001b[0mskipna\u001b[0m\u001b[0;34m,\u001b[0m \u001b[0mnumeric_only\u001b[0m\u001b[0;34m=\u001b[0m\u001b[0mnumeric_only\u001b[0m\u001b[0;34m\u001b[0m\u001b[0;34m\u001b[0m\u001b[0m\n\u001b[0m\u001b[1;32m  10356\u001b[0m         )\n\u001b[1;32m  10357\u001b[0m \u001b[0;34m\u001b[0m\u001b[0m\n",
      "\u001b[0;32m/usr/local/lib/python3.7/dist-packages/pandas/core/series.py\u001b[0m in \u001b[0;36m_reduce\u001b[0;34m(self, op, name, axis, skipna, numeric_only, filter_type, **kwds)\u001b[0m\n\u001b[1;32m   4390\u001b[0m                 )\n\u001b[1;32m   4391\u001b[0m             \u001b[0;32mwith\u001b[0m \u001b[0mnp\u001b[0m\u001b[0;34m.\u001b[0m\u001b[0merrstate\u001b[0m\u001b[0;34m(\u001b[0m\u001b[0mall\u001b[0m\u001b[0;34m=\u001b[0m\u001b[0;34m\"ignore\"\u001b[0m\u001b[0;34m)\u001b[0m\u001b[0;34m:\u001b[0m\u001b[0;34m\u001b[0m\u001b[0;34m\u001b[0m\u001b[0m\n\u001b[0;32m-> 4392\u001b[0;31m                 \u001b[0;32mreturn\u001b[0m \u001b[0mop\u001b[0m\u001b[0;34m(\u001b[0m\u001b[0mdelegate\u001b[0m\u001b[0;34m,\u001b[0m \u001b[0mskipna\u001b[0m\u001b[0;34m=\u001b[0m\u001b[0mskipna\u001b[0m\u001b[0;34m,\u001b[0m \u001b[0;34m**\u001b[0m\u001b[0mkwds\u001b[0m\u001b[0;34m)\u001b[0m\u001b[0;34m\u001b[0m\u001b[0;34m\u001b[0m\u001b[0m\n\u001b[0m\u001b[1;32m   4393\u001b[0m \u001b[0;34m\u001b[0m\u001b[0m\n\u001b[1;32m   4394\u001b[0m     def _reindex_indexer(\n",
      "\u001b[0;32m/usr/local/lib/python3.7/dist-packages/pandas/core/nanops.py\u001b[0m in \u001b[0;36m_f\u001b[0;34m(*args, **kwargs)\u001b[0m\n\u001b[1;32m     92\u001b[0m             \u001b[0;32mtry\u001b[0m\u001b[0;34m:\u001b[0m\u001b[0;34m\u001b[0m\u001b[0;34m\u001b[0m\u001b[0m\n\u001b[1;32m     93\u001b[0m                 \u001b[0;32mwith\u001b[0m \u001b[0mnp\u001b[0m\u001b[0;34m.\u001b[0m\u001b[0merrstate\u001b[0m\u001b[0;34m(\u001b[0m\u001b[0minvalid\u001b[0m\u001b[0;34m=\u001b[0m\u001b[0;34m\"ignore\"\u001b[0m\u001b[0;34m)\u001b[0m\u001b[0;34m:\u001b[0m\u001b[0;34m\u001b[0m\u001b[0;34m\u001b[0m\u001b[0m\n\u001b[0;32m---> 94\u001b[0;31m                     \u001b[0;32mreturn\u001b[0m \u001b[0mf\u001b[0m\u001b[0;34m(\u001b[0m\u001b[0;34m*\u001b[0m\u001b[0margs\u001b[0m\u001b[0;34m,\u001b[0m \u001b[0;34m**\u001b[0m\u001b[0mkwargs\u001b[0m\u001b[0;34m)\u001b[0m\u001b[0;34m\u001b[0m\u001b[0;34m\u001b[0m\u001b[0m\n\u001b[0m\u001b[1;32m     95\u001b[0m             \u001b[0;32mexcept\u001b[0m \u001b[0mValueError\u001b[0m \u001b[0;32mas\u001b[0m \u001b[0me\u001b[0m\u001b[0;34m:\u001b[0m\u001b[0;34m\u001b[0m\u001b[0;34m\u001b[0m\u001b[0m\n\u001b[1;32m     96\u001b[0m                 \u001b[0;31m# we want to transform an object array\u001b[0m\u001b[0;34m\u001b[0m\u001b[0;34m\u001b[0m\u001b[0;34m\u001b[0m\u001b[0m\n",
      "\u001b[0;32m/usr/local/lib/python3.7/dist-packages/pandas/core/nanops.py\u001b[0m in \u001b[0;36mf\u001b[0;34m(values, axis, skipna, **kwds)\u001b[0m\n\u001b[1;32m    154\u001b[0m                     \u001b[0mresult\u001b[0m \u001b[0;34m=\u001b[0m \u001b[0malt\u001b[0m\u001b[0;34m(\u001b[0m\u001b[0mvalues\u001b[0m\u001b[0;34m,\u001b[0m \u001b[0maxis\u001b[0m\u001b[0;34m=\u001b[0m\u001b[0maxis\u001b[0m\u001b[0;34m,\u001b[0m \u001b[0mskipna\u001b[0m\u001b[0;34m=\u001b[0m\u001b[0mskipna\u001b[0m\u001b[0;34m,\u001b[0m \u001b[0;34m**\u001b[0m\u001b[0mkwds\u001b[0m\u001b[0;34m)\u001b[0m\u001b[0;34m\u001b[0m\u001b[0;34m\u001b[0m\u001b[0m\n\u001b[1;32m    155\u001b[0m             \u001b[0;32melse\u001b[0m\u001b[0;34m:\u001b[0m\u001b[0;34m\u001b[0m\u001b[0;34m\u001b[0m\u001b[0m\n\u001b[0;32m--> 156\u001b[0;31m                 \u001b[0mresult\u001b[0m \u001b[0;34m=\u001b[0m \u001b[0malt\u001b[0m\u001b[0;34m(\u001b[0m\u001b[0mvalues\u001b[0m\u001b[0;34m,\u001b[0m \u001b[0maxis\u001b[0m\u001b[0;34m=\u001b[0m\u001b[0maxis\u001b[0m\u001b[0;34m,\u001b[0m \u001b[0mskipna\u001b[0m\u001b[0;34m=\u001b[0m\u001b[0mskipna\u001b[0m\u001b[0;34m,\u001b[0m \u001b[0;34m**\u001b[0m\u001b[0mkwds\u001b[0m\u001b[0;34m)\u001b[0m\u001b[0;34m\u001b[0m\u001b[0;34m\u001b[0m\u001b[0m\n\u001b[0m\u001b[1;32m    157\u001b[0m \u001b[0;34m\u001b[0m\u001b[0m\n\u001b[1;32m    158\u001b[0m             \u001b[0;32mreturn\u001b[0m \u001b[0mresult\u001b[0m\u001b[0;34m\u001b[0m\u001b[0;34m\u001b[0m\u001b[0m\n",
      "\u001b[0;32m/usr/local/lib/python3.7/dist-packages/pandas/core/nanops.py\u001b[0m in \u001b[0;36mnew_func\u001b[0;34m(values, axis, skipna, mask, **kwargs)\u001b[0m\n\u001b[1;32m    409\u001b[0m             \u001b[0mmask\u001b[0m \u001b[0;34m=\u001b[0m \u001b[0misna\u001b[0m\u001b[0;34m(\u001b[0m\u001b[0mvalues\u001b[0m\u001b[0;34m)\u001b[0m\u001b[0;34m\u001b[0m\u001b[0;34m\u001b[0m\u001b[0m\n\u001b[1;32m    410\u001b[0m \u001b[0;34m\u001b[0m\u001b[0m\n\u001b[0;32m--> 411\u001b[0;31m         \u001b[0mresult\u001b[0m \u001b[0;34m=\u001b[0m \u001b[0mfunc\u001b[0m\u001b[0;34m(\u001b[0m\u001b[0mvalues\u001b[0m\u001b[0;34m,\u001b[0m \u001b[0maxis\u001b[0m\u001b[0;34m=\u001b[0m\u001b[0maxis\u001b[0m\u001b[0;34m,\u001b[0m \u001b[0mskipna\u001b[0m\u001b[0;34m=\u001b[0m\u001b[0mskipna\u001b[0m\u001b[0;34m,\u001b[0m \u001b[0mmask\u001b[0m\u001b[0;34m=\u001b[0m\u001b[0mmask\u001b[0m\u001b[0;34m,\u001b[0m \u001b[0;34m**\u001b[0m\u001b[0mkwargs\u001b[0m\u001b[0;34m)\u001b[0m\u001b[0;34m\u001b[0m\u001b[0;34m\u001b[0m\u001b[0m\n\u001b[0m\u001b[1;32m    412\u001b[0m \u001b[0;34m\u001b[0m\u001b[0m\n\u001b[1;32m    413\u001b[0m         \u001b[0;32mif\u001b[0m \u001b[0mdatetimelike\u001b[0m\u001b[0;34m:\u001b[0m\u001b[0;34m\u001b[0m\u001b[0;34m\u001b[0m\u001b[0m\n",
      "\u001b[0;32m/usr/local/lib/python3.7/dist-packages/pandas/core/nanops.py\u001b[0m in \u001b[0;36mnanmean\u001b[0;34m(values, axis, skipna, mask)\u001b[0m\n\u001b[1;32m    664\u001b[0m \u001b[0;34m\u001b[0m\u001b[0m\n\u001b[1;32m    665\u001b[0m     \u001b[0mcount\u001b[0m \u001b[0;34m=\u001b[0m \u001b[0m_get_counts\u001b[0m\u001b[0;34m(\u001b[0m\u001b[0mvalues\u001b[0m\u001b[0;34m.\u001b[0m\u001b[0mshape\u001b[0m\u001b[0;34m,\u001b[0m \u001b[0mmask\u001b[0m\u001b[0;34m,\u001b[0m \u001b[0maxis\u001b[0m\u001b[0;34m,\u001b[0m \u001b[0mdtype\u001b[0m\u001b[0;34m=\u001b[0m\u001b[0mdtype_count\u001b[0m\u001b[0;34m)\u001b[0m\u001b[0;34m\u001b[0m\u001b[0;34m\u001b[0m\u001b[0m\n\u001b[0;32m--> 666\u001b[0;31m     \u001b[0mthe_sum\u001b[0m \u001b[0;34m=\u001b[0m \u001b[0m_ensure_numeric\u001b[0m\u001b[0;34m(\u001b[0m\u001b[0mvalues\u001b[0m\u001b[0;34m.\u001b[0m\u001b[0msum\u001b[0m\u001b[0;34m(\u001b[0m\u001b[0maxis\u001b[0m\u001b[0;34m,\u001b[0m \u001b[0mdtype\u001b[0m\u001b[0;34m=\u001b[0m\u001b[0mdtype_sum\u001b[0m\u001b[0;34m)\u001b[0m\u001b[0;34m)\u001b[0m\u001b[0;34m\u001b[0m\u001b[0;34m\u001b[0m\u001b[0m\n\u001b[0m\u001b[1;32m    667\u001b[0m \u001b[0;34m\u001b[0m\u001b[0m\n\u001b[1;32m    668\u001b[0m     \u001b[0;32mif\u001b[0m \u001b[0maxis\u001b[0m \u001b[0;32mis\u001b[0m \u001b[0;32mnot\u001b[0m \u001b[0;32mNone\u001b[0m \u001b[0;32mand\u001b[0m \u001b[0mgetattr\u001b[0m\u001b[0;34m(\u001b[0m\u001b[0mthe_sum\u001b[0m\u001b[0;34m,\u001b[0m \u001b[0;34m\"ndim\"\u001b[0m\u001b[0;34m,\u001b[0m \u001b[0;32mFalse\u001b[0m\u001b[0;34m)\u001b[0m\u001b[0;34m:\u001b[0m\u001b[0;34m\u001b[0m\u001b[0;34m\u001b[0m\u001b[0m\n",
      "\u001b[0;32m/usr/local/lib/python3.7/dist-packages/pandas/core/nanops.py\u001b[0m in \u001b[0;36m_ensure_numeric\u001b[0;34m(x)\u001b[0m\n\u001b[1;32m   1608\u001b[0m             \u001b[0;32mexcept\u001b[0m \u001b[0mValueError\u001b[0m \u001b[0;32mas\u001b[0m \u001b[0merr\u001b[0m\u001b[0;34m:\u001b[0m\u001b[0;34m\u001b[0m\u001b[0;34m\u001b[0m\u001b[0m\n\u001b[1;32m   1609\u001b[0m                 \u001b[0;31m# e.g. \"foo\"\u001b[0m\u001b[0;34m\u001b[0m\u001b[0;34m\u001b[0m\u001b[0;34m\u001b[0m\u001b[0m\n\u001b[0;32m-> 1610\u001b[0;31m                 \u001b[0;32mraise\u001b[0m \u001b[0mTypeError\u001b[0m\u001b[0;34m(\u001b[0m\u001b[0;34mf\"Could not convert {x} to numeric\"\u001b[0m\u001b[0;34m)\u001b[0m \u001b[0;32mfrom\u001b[0m \u001b[0merr\u001b[0m\u001b[0;34m\u001b[0m\u001b[0;34m\u001b[0m\u001b[0m\n\u001b[0m\u001b[1;32m   1611\u001b[0m     \u001b[0;32mreturn\u001b[0m \u001b[0mx\u001b[0m\u001b[0;34m\u001b[0m\u001b[0;34m\u001b[0m\u001b[0m\n\u001b[1;32m   1612\u001b[0m \u001b[0;34m\u001b[0m\u001b[0m\n",
      "\u001b[0;31mTypeError\u001b[0m: Could not convert 36.6N/A32.534.4242927.422.829.736.827.328.230.937.525.837.822.448.926.627.223.528.228.3N/A44.222.230.529.726.533.723.129.923.928.526.4N/A20.233.638.633.739.2N/A27.731.4N/A36.533.2N/A32.827.740.422.225.330.22447.53028.9N/A28.131.127.426.421.72724.1N/A22.929.729.127.332.341.129.826.337.529.432.324.431.427.72831.434.6N/A30.340.424.241.522.624.2N/A56.630.927.331.324312831.735.828.4N/A2936.520.136.5N/A26.738.729.9272523.821.836.83027.5N/A24.632.926.131.934.127.525.636.931.437.334.125N/AN/A45.734.223.6N/A22.331.4N/AN/A26.432.9N/A37.14525.530.83229.937.431.734.527.929.54642.535.531.126.935.845.5N/A26.631.53230.831.13323.426.926.327.330.720.521.53127.140N/A28.628.128.442.225.831.927.5N/A29.635.416.921.534.42832.628.435.921.234.542.440.529.339.235.917.72732.354.62239.426.142.43319.722.524.625.260.931.527.323.724.528.426.926.731.227.525.130.929.43627.528.526.833.634.925.135.326.431.536.729.327.934.33127.73638.727.624.334.340.121.938.426.130.525.954.724.925.219.42948.2N/A34.624.625.826.12927.220.73037.334.123.625.239.523.523.364.828.1N/A24.429.832.343.62147.337.524.231.621.63131.135.641.841.929.227.137.944.622.833.222.326.439.628.139.23637.840.341.521.223.824.837.931.136.136.325.446.546.626.426.234.422.240.328.431.734.254.724.6N/A36.931.131.931.828.529.52229.436.83129.415.337.138.223.230.245.249.827.825.126.860.227.528.127.422.222.926.62332.622.5N/A31.631.221.72529.75139.734.721.323.93641.227.125.430.734.835.737.829.735.823.639.740.521.440.8452..."
     ]
    }
   ],
   "source": [
    "stroke_df = stroke_df.fillna(np.mean(stroke_df['bmi']))\n",
    "print(stroke_df.isnull().sum())"
   ]
  },
  {
   "cell_type": "code",
   "execution_count": 27,
   "metadata": {
    "colab": {
     "base_uri": "https://localhost:8080/",
     "height": 287
    },
    "id": "apFuqVUpRdjB",
    "outputId": "75b91b56-f2b8-489f-ca9f-2cc6fbc4ae5d"
   },
   "outputs": [
    {
     "data": {
      "text/html": [
       "\n",
       "  <div id=\"df-c75d3622-85fb-415f-8174-8925d07a7615\">\n",
       "    <div class=\"colab-df-container\">\n",
       "      <div>\n",
       "<style scoped>\n",
       "    .dataframe tbody tr th:only-of-type {\n",
       "        vertical-align: middle;\n",
       "    }\n",
       "\n",
       "    .dataframe tbody tr th {\n",
       "        vertical-align: top;\n",
       "    }\n",
       "\n",
       "    .dataframe thead th {\n",
       "        text-align: right;\n",
       "    }\n",
       "</style>\n",
       "<table border=\"1\" class=\"dataframe\">\n",
       "  <thead>\n",
       "    <tr style=\"text-align: right;\">\n",
       "      <th></th>\n",
       "      <th>gender</th>\n",
       "      <th>age</th>\n",
       "      <th>hypertension</th>\n",
       "      <th>heart_disease</th>\n",
       "      <th>ever_married</th>\n",
       "      <th>Residence_type</th>\n",
       "      <th>avg_glucose_level</th>\n",
       "      <th>bmi</th>\n",
       "      <th>stroke</th>\n",
       "      <th>work_Govt_job</th>\n",
       "      <th>work_Never_worked</th>\n",
       "      <th>work_Private</th>\n",
       "      <th>work_Self-employed</th>\n",
       "      <th>work_children</th>\n",
       "      <th>smoke_formerly smoked</th>\n",
       "      <th>smoke_never smoked</th>\n",
       "      <th>smoke_smokes</th>\n",
       "    </tr>\n",
       "  </thead>\n",
       "  <tbody>\n",
       "    <tr>\n",
       "      <th>0</th>\n",
       "      <td>Male</td>\n",
       "      <td>67.0</td>\n",
       "      <td>0</td>\n",
       "      <td>1</td>\n",
       "      <td>Yes</td>\n",
       "      <td>Urban</td>\n",
       "      <td>228.69</td>\n",
       "      <td>36.6</td>\n",
       "      <td>1</td>\n",
       "      <td>0</td>\n",
       "      <td>0</td>\n",
       "      <td>1</td>\n",
       "      <td>0</td>\n",
       "      <td>0</td>\n",
       "      <td>1</td>\n",
       "      <td>0</td>\n",
       "      <td>0</td>\n",
       "    </tr>\n",
       "    <tr>\n",
       "      <th>1</th>\n",
       "      <td>Female</td>\n",
       "      <td>61.0</td>\n",
       "      <td>0</td>\n",
       "      <td>0</td>\n",
       "      <td>Yes</td>\n",
       "      <td>Rural</td>\n",
       "      <td>202.21</td>\n",
       "      <td>N/A</td>\n",
       "      <td>1</td>\n",
       "      <td>0</td>\n",
       "      <td>0</td>\n",
       "      <td>0</td>\n",
       "      <td>1</td>\n",
       "      <td>0</td>\n",
       "      <td>0</td>\n",
       "      <td>1</td>\n",
       "      <td>0</td>\n",
       "    </tr>\n",
       "    <tr>\n",
       "      <th>2</th>\n",
       "      <td>Male</td>\n",
       "      <td>80.0</td>\n",
       "      <td>0</td>\n",
       "      <td>1</td>\n",
       "      <td>Yes</td>\n",
       "      <td>Rural</td>\n",
       "      <td>105.92</td>\n",
       "      <td>32.5</td>\n",
       "      <td>1</td>\n",
       "      <td>0</td>\n",
       "      <td>0</td>\n",
       "      <td>1</td>\n",
       "      <td>0</td>\n",
       "      <td>0</td>\n",
       "      <td>0</td>\n",
       "      <td>1</td>\n",
       "      <td>0</td>\n",
       "    </tr>\n",
       "    <tr>\n",
       "      <th>3</th>\n",
       "      <td>Female</td>\n",
       "      <td>49.0</td>\n",
       "      <td>0</td>\n",
       "      <td>0</td>\n",
       "      <td>Yes</td>\n",
       "      <td>Urban</td>\n",
       "      <td>171.23</td>\n",
       "      <td>34.4</td>\n",
       "      <td>1</td>\n",
       "      <td>0</td>\n",
       "      <td>0</td>\n",
       "      <td>1</td>\n",
       "      <td>0</td>\n",
       "      <td>0</td>\n",
       "      <td>0</td>\n",
       "      <td>0</td>\n",
       "      <td>1</td>\n",
       "    </tr>\n",
       "    <tr>\n",
       "      <th>4</th>\n",
       "      <td>Female</td>\n",
       "      <td>79.0</td>\n",
       "      <td>1</td>\n",
       "      <td>0</td>\n",
       "      <td>Yes</td>\n",
       "      <td>Rural</td>\n",
       "      <td>174.12</td>\n",
       "      <td>24</td>\n",
       "      <td>1</td>\n",
       "      <td>0</td>\n",
       "      <td>0</td>\n",
       "      <td>0</td>\n",
       "      <td>1</td>\n",
       "      <td>0</td>\n",
       "      <td>0</td>\n",
       "      <td>1</td>\n",
       "      <td>0</td>\n",
       "    </tr>\n",
       "  </tbody>\n",
       "</table>\n",
       "</div>\n",
       "      <button class=\"colab-df-convert\" onclick=\"convertToInteractive('df-c75d3622-85fb-415f-8174-8925d07a7615')\"\n",
       "              title=\"Convert this dataframe to an interactive table.\"\n",
       "              style=\"display:none;\">\n",
       "        \n",
       "  <svg xmlns=\"http://www.w3.org/2000/svg\" height=\"24px\"viewBox=\"0 0 24 24\"\n",
       "       width=\"24px\">\n",
       "    <path d=\"M0 0h24v24H0V0z\" fill=\"none\"/>\n",
       "    <path d=\"M18.56 5.44l.94 2.06.94-2.06 2.06-.94-2.06-.94-.94-2.06-.94 2.06-2.06.94zm-11 1L8.5 8.5l.94-2.06 2.06-.94-2.06-.94L8.5 2.5l-.94 2.06-2.06.94zm10 10l.94 2.06.94-2.06 2.06-.94-2.06-.94-.94-2.06-.94 2.06-2.06.94z\"/><path d=\"M17.41 7.96l-1.37-1.37c-.4-.4-.92-.59-1.43-.59-.52 0-1.04.2-1.43.59L10.3 9.45l-7.72 7.72c-.78.78-.78 2.05 0 2.83L4 21.41c.39.39.9.59 1.41.59.51 0 1.02-.2 1.41-.59l7.78-7.78 2.81-2.81c.8-.78.8-2.07 0-2.86zM5.41 20L4 18.59l7.72-7.72 1.47 1.35L5.41 20z\"/>\n",
       "  </svg>\n",
       "      </button>\n",
       "      \n",
       "  <style>\n",
       "    .colab-df-container {\n",
       "      display:flex;\n",
       "      flex-wrap:wrap;\n",
       "      gap: 12px;\n",
       "    }\n",
       "\n",
       "    .colab-df-convert {\n",
       "      background-color: #E8F0FE;\n",
       "      border: none;\n",
       "      border-radius: 50%;\n",
       "      cursor: pointer;\n",
       "      display: none;\n",
       "      fill: #1967D2;\n",
       "      height: 32px;\n",
       "      padding: 0 0 0 0;\n",
       "      width: 32px;\n",
       "    }\n",
       "\n",
       "    .colab-df-convert:hover {\n",
       "      background-color: #E2EBFA;\n",
       "      box-shadow: 0px 1px 2px rgba(60, 64, 67, 0.3), 0px 1px 3px 1px rgba(60, 64, 67, 0.15);\n",
       "      fill: #174EA6;\n",
       "    }\n",
       "\n",
       "    [theme=dark] .colab-df-convert {\n",
       "      background-color: #3B4455;\n",
       "      fill: #D2E3FC;\n",
       "    }\n",
       "\n",
       "    [theme=dark] .colab-df-convert:hover {\n",
       "      background-color: #434B5C;\n",
       "      box-shadow: 0px 1px 3px 1px rgba(0, 0, 0, 0.15);\n",
       "      filter: drop-shadow(0px 1px 2px rgba(0, 0, 0, 0.3));\n",
       "      fill: #FFFFFF;\n",
       "    }\n",
       "  </style>\n",
       "\n",
       "      <script>\n",
       "        const buttonEl =\n",
       "          document.querySelector('#df-c75d3622-85fb-415f-8174-8925d07a7615 button.colab-df-convert');\n",
       "        buttonEl.style.display =\n",
       "          google.colab.kernel.accessAllowed ? 'block' : 'none';\n",
       "\n",
       "        async function convertToInteractive(key) {\n",
       "          const element = document.querySelector('#df-c75d3622-85fb-415f-8174-8925d07a7615');\n",
       "          const dataTable =\n",
       "            await google.colab.kernel.invokeFunction('convertToInteractive',\n",
       "                                                     [key], {});\n",
       "          if (!dataTable) return;\n",
       "\n",
       "          const docLinkHtml = 'Like what you see? Visit the ' +\n",
       "            '<a target=\"_blank\" href=https://colab.research.google.com/notebooks/data_table.ipynb>data table notebook</a>'\n",
       "            + ' to learn more about interactive tables.';\n",
       "          element.innerHTML = '';\n",
       "          dataTable['output_type'] = 'display_data';\n",
       "          await google.colab.output.renderOutput(dataTable, element);\n",
       "          const docLink = document.createElement('div');\n",
       "          docLink.innerHTML = docLinkHtml;\n",
       "          element.appendChild(docLink);\n",
       "        }\n",
       "      </script>\n",
       "    </div>\n",
       "  </div>\n",
       "  "
      ],
      "text/plain": [
       "   gender   age  hypertension  heart_disease ever_married Residence_type  \\\n",
       "0    Male  67.0             0              1          Yes          Urban   \n",
       "1  Female  61.0             0              0          Yes          Rural   \n",
       "2    Male  80.0             0              1          Yes          Rural   \n",
       "3  Female  49.0             0              0          Yes          Urban   \n",
       "4  Female  79.0             1              0          Yes          Rural   \n",
       "\n",
       "   avg_glucose_level   bmi  stroke  work_Govt_job  work_Never_worked  \\\n",
       "0             228.69  36.6       1              0                  0   \n",
       "1             202.21   N/A       1              0                  0   \n",
       "2             105.92  32.5       1              0                  0   \n",
       "3             171.23  34.4       1              0                  0   \n",
       "4             174.12    24       1              0                  0   \n",
       "\n",
       "   work_Private  work_Self-employed  work_children  smoke_formerly smoked  \\\n",
       "0             1                   0              0                      1   \n",
       "1             0                   1              0                      0   \n",
       "2             1                   0              0                      0   \n",
       "3             1                   0              0                      0   \n",
       "4             0                   1              0                      0   \n",
       "\n",
       "   smoke_never smoked  smoke_smokes  \n",
       "0                   0             0  \n",
       "1                   1             0  \n",
       "2                   1             0  \n",
       "3                   0             1  \n",
       "4                   1             0  "
      ]
     },
     "execution_count": 27,
     "metadata": {},
     "output_type": "execute_result"
    }
   ],
   "source": [
    "df = pd.get_dummies(stroke_df, columns=['work_type', 'smoking_status'], prefix=['work', 'smoke'])\n",
    "df.head()"
   ]
  },
  {
   "cell_type": "code",
   "execution_count": 28,
   "metadata": {
    "colab": {
     "base_uri": "https://localhost:8080/",
     "height": 287
    },
    "id": "lNHLah9WRidh",
    "outputId": "53b7126a-dec7-4d3b-cdf1-33671887109c"
   },
   "outputs": [
    {
     "data": {
      "text/html": [
       "\n",
       "  <div id=\"df-f7a7f2dc-2081-45c9-824b-7dc7e6b9bcae\">\n",
       "    <div class=\"colab-df-container\">\n",
       "      <div>\n",
       "<style scoped>\n",
       "    .dataframe tbody tr th:only-of-type {\n",
       "        vertical-align: middle;\n",
       "    }\n",
       "\n",
       "    .dataframe tbody tr th {\n",
       "        vertical-align: top;\n",
       "    }\n",
       "\n",
       "    .dataframe thead th {\n",
       "        text-align: right;\n",
       "    }\n",
       "</style>\n",
       "<table border=\"1\" class=\"dataframe\">\n",
       "  <thead>\n",
       "    <tr style=\"text-align: right;\">\n",
       "      <th></th>\n",
       "      <th>gender</th>\n",
       "      <th>age</th>\n",
       "      <th>hypertension</th>\n",
       "      <th>heart_disease</th>\n",
       "      <th>ever_married</th>\n",
       "      <th>Residence_type</th>\n",
       "      <th>avg_glucose_level</th>\n",
       "      <th>bmi</th>\n",
       "      <th>stroke</th>\n",
       "      <th>work_Govt_job</th>\n",
       "      <th>work_Never_worked</th>\n",
       "      <th>work_Private</th>\n",
       "      <th>work_Self-employed</th>\n",
       "      <th>work_children</th>\n",
       "      <th>smoke_formerly smoked</th>\n",
       "      <th>smoke_never smoked</th>\n",
       "      <th>smoke_smokes</th>\n",
       "    </tr>\n",
       "  </thead>\n",
       "  <tbody>\n",
       "    <tr>\n",
       "      <th>0</th>\n",
       "      <td>1</td>\n",
       "      <td>67.0</td>\n",
       "      <td>0</td>\n",
       "      <td>1</td>\n",
       "      <td>1</td>\n",
       "      <td>1</td>\n",
       "      <td>228.69</td>\n",
       "      <td>36.6</td>\n",
       "      <td>1</td>\n",
       "      <td>0</td>\n",
       "      <td>0</td>\n",
       "      <td>1</td>\n",
       "      <td>0</td>\n",
       "      <td>0</td>\n",
       "      <td>1</td>\n",
       "      <td>0</td>\n",
       "      <td>0</td>\n",
       "    </tr>\n",
       "    <tr>\n",
       "      <th>1</th>\n",
       "      <td>0</td>\n",
       "      <td>61.0</td>\n",
       "      <td>0</td>\n",
       "      <td>0</td>\n",
       "      <td>1</td>\n",
       "      <td>0</td>\n",
       "      <td>202.21</td>\n",
       "      <td>N/A</td>\n",
       "      <td>1</td>\n",
       "      <td>0</td>\n",
       "      <td>0</td>\n",
       "      <td>0</td>\n",
       "      <td>1</td>\n",
       "      <td>0</td>\n",
       "      <td>0</td>\n",
       "      <td>1</td>\n",
       "      <td>0</td>\n",
       "    </tr>\n",
       "    <tr>\n",
       "      <th>2</th>\n",
       "      <td>1</td>\n",
       "      <td>80.0</td>\n",
       "      <td>0</td>\n",
       "      <td>1</td>\n",
       "      <td>1</td>\n",
       "      <td>0</td>\n",
       "      <td>105.92</td>\n",
       "      <td>32.5</td>\n",
       "      <td>1</td>\n",
       "      <td>0</td>\n",
       "      <td>0</td>\n",
       "      <td>1</td>\n",
       "      <td>0</td>\n",
       "      <td>0</td>\n",
       "      <td>0</td>\n",
       "      <td>1</td>\n",
       "      <td>0</td>\n",
       "    </tr>\n",
       "    <tr>\n",
       "      <th>3</th>\n",
       "      <td>0</td>\n",
       "      <td>49.0</td>\n",
       "      <td>0</td>\n",
       "      <td>0</td>\n",
       "      <td>1</td>\n",
       "      <td>1</td>\n",
       "      <td>171.23</td>\n",
       "      <td>34.4</td>\n",
       "      <td>1</td>\n",
       "      <td>0</td>\n",
       "      <td>0</td>\n",
       "      <td>1</td>\n",
       "      <td>0</td>\n",
       "      <td>0</td>\n",
       "      <td>0</td>\n",
       "      <td>0</td>\n",
       "      <td>1</td>\n",
       "    </tr>\n",
       "    <tr>\n",
       "      <th>4</th>\n",
       "      <td>0</td>\n",
       "      <td>79.0</td>\n",
       "      <td>1</td>\n",
       "      <td>0</td>\n",
       "      <td>1</td>\n",
       "      <td>0</td>\n",
       "      <td>174.12</td>\n",
       "      <td>24</td>\n",
       "      <td>1</td>\n",
       "      <td>0</td>\n",
       "      <td>0</td>\n",
       "      <td>0</td>\n",
       "      <td>1</td>\n",
       "      <td>0</td>\n",
       "      <td>0</td>\n",
       "      <td>1</td>\n",
       "      <td>0</td>\n",
       "    </tr>\n",
       "  </tbody>\n",
       "</table>\n",
       "</div>\n",
       "      <button class=\"colab-df-convert\" onclick=\"convertToInteractive('df-f7a7f2dc-2081-45c9-824b-7dc7e6b9bcae')\"\n",
       "              title=\"Convert this dataframe to an interactive table.\"\n",
       "              style=\"display:none;\">\n",
       "        \n",
       "  <svg xmlns=\"http://www.w3.org/2000/svg\" height=\"24px\"viewBox=\"0 0 24 24\"\n",
       "       width=\"24px\">\n",
       "    <path d=\"M0 0h24v24H0V0z\" fill=\"none\"/>\n",
       "    <path d=\"M18.56 5.44l.94 2.06.94-2.06 2.06-.94-2.06-.94-.94-2.06-.94 2.06-2.06.94zm-11 1L8.5 8.5l.94-2.06 2.06-.94-2.06-.94L8.5 2.5l-.94 2.06-2.06.94zm10 10l.94 2.06.94-2.06 2.06-.94-2.06-.94-.94-2.06-.94 2.06-2.06.94z\"/><path d=\"M17.41 7.96l-1.37-1.37c-.4-.4-.92-.59-1.43-.59-.52 0-1.04.2-1.43.59L10.3 9.45l-7.72 7.72c-.78.78-.78 2.05 0 2.83L4 21.41c.39.39.9.59 1.41.59.51 0 1.02-.2 1.41-.59l7.78-7.78 2.81-2.81c.8-.78.8-2.07 0-2.86zM5.41 20L4 18.59l7.72-7.72 1.47 1.35L5.41 20z\"/>\n",
       "  </svg>\n",
       "      </button>\n",
       "      \n",
       "  <style>\n",
       "    .colab-df-container {\n",
       "      display:flex;\n",
       "      flex-wrap:wrap;\n",
       "      gap: 12px;\n",
       "    }\n",
       "\n",
       "    .colab-df-convert {\n",
       "      background-color: #E8F0FE;\n",
       "      border: none;\n",
       "      border-radius: 50%;\n",
       "      cursor: pointer;\n",
       "      display: none;\n",
       "      fill: #1967D2;\n",
       "      height: 32px;\n",
       "      padding: 0 0 0 0;\n",
       "      width: 32px;\n",
       "    }\n",
       "\n",
       "    .colab-df-convert:hover {\n",
       "      background-color: #E2EBFA;\n",
       "      box-shadow: 0px 1px 2px rgba(60, 64, 67, 0.3), 0px 1px 3px 1px rgba(60, 64, 67, 0.15);\n",
       "      fill: #174EA6;\n",
       "    }\n",
       "\n",
       "    [theme=dark] .colab-df-convert {\n",
       "      background-color: #3B4455;\n",
       "      fill: #D2E3FC;\n",
       "    }\n",
       "\n",
       "    [theme=dark] .colab-df-convert:hover {\n",
       "      background-color: #434B5C;\n",
       "      box-shadow: 0px 1px 3px 1px rgba(0, 0, 0, 0.15);\n",
       "      filter: drop-shadow(0px 1px 2px rgba(0, 0, 0, 0.3));\n",
       "      fill: #FFFFFF;\n",
       "    }\n",
       "  </style>\n",
       "\n",
       "      <script>\n",
       "        const buttonEl =\n",
       "          document.querySelector('#df-f7a7f2dc-2081-45c9-824b-7dc7e6b9bcae button.colab-df-convert');\n",
       "        buttonEl.style.display =\n",
       "          google.colab.kernel.accessAllowed ? 'block' : 'none';\n",
       "\n",
       "        async function convertToInteractive(key) {\n",
       "          const element = document.querySelector('#df-f7a7f2dc-2081-45c9-824b-7dc7e6b9bcae');\n",
       "          const dataTable =\n",
       "            await google.colab.kernel.invokeFunction('convertToInteractive',\n",
       "                                                     [key], {});\n",
       "          if (!dataTable) return;\n",
       "\n",
       "          const docLinkHtml = 'Like what you see? Visit the ' +\n",
       "            '<a target=\"_blank\" href=https://colab.research.google.com/notebooks/data_table.ipynb>data table notebook</a>'\n",
       "            + ' to learn more about interactive tables.';\n",
       "          element.innerHTML = '';\n",
       "          dataTable['output_type'] = 'display_data';\n",
       "          await google.colab.output.renderOutput(dataTable, element);\n",
       "          const docLink = document.createElement('div');\n",
       "          docLink.innerHTML = docLinkHtml;\n",
       "          element.appendChild(docLink);\n",
       "        }\n",
       "      </script>\n",
       "    </div>\n",
       "  </div>\n",
       "  "
      ],
      "text/plain": [
       "   gender   age  hypertension  heart_disease  ever_married  Residence_type  \\\n",
       "0       1  67.0             0              1             1               1   \n",
       "1       0  61.0             0              0             1               0   \n",
       "2       1  80.0             0              1             1               0   \n",
       "3       0  49.0             0              0             1               1   \n",
       "4       0  79.0             1              0             1               0   \n",
       "\n",
       "   avg_glucose_level   bmi  stroke  work_Govt_job  work_Never_worked  \\\n",
       "0             228.69  36.6       1              0                  0   \n",
       "1             202.21   N/A       1              0                  0   \n",
       "2             105.92  32.5       1              0                  0   \n",
       "3             171.23  34.4       1              0                  0   \n",
       "4             174.12    24       1              0                  0   \n",
       "\n",
       "   work_Private  work_Self-employed  work_children  smoke_formerly smoked  \\\n",
       "0             1                   0              0                      1   \n",
       "1             0                   1              0                      0   \n",
       "2             1                   0              0                      0   \n",
       "3             1                   0              0                      0   \n",
       "4             0                   1              0                      0   \n",
       "\n",
       "   smoke_never smoked  smoke_smokes  \n",
       "0                   0             0  \n",
       "1                   1             0  \n",
       "2                   1             0  \n",
       "3                   0             1  \n",
       "4                   1             0  "
      ]
     },
     "execution_count": 28,
     "metadata": {},
     "output_type": "execute_result"
    }
   ],
   "source": [
    "df['ever_married'] = np.where(df['ever_married'] == 'Yes', 1, 0)\n",
    "df['gender'] = np.where(df['gender'] == 'Male', 1, 0)\n",
    "df['Residence_type'] = np.where(df['Residence_type'] == 'Urban', 1, 0)\n",
    "df.head()"
   ]
  },
  {
   "cell_type": "markdown",
   "metadata": {
    "id": "BAsnjMmnR19R"
   },
   "source": [
    "### Machine learning modelling"
   ]
  },
  {
   "cell_type": "code",
   "execution_count": 29,
   "metadata": {
    "id": "m4WEDUCrRzvR"
   },
   "outputs": [],
   "source": [
    "from sklearn.model_selection import train_test_split, cross_val_score\n",
    "from sklearn.metrics import accuracy_score, classification_report\n",
    "from sklearn.linear_model import LogisticRegression\n",
    "from sklearn.ensemble import RandomForestClassifier,ExtraTreesClassifier,GradientBoostingClassifier,VotingClassifier\n",
    "from sklearn.impute import KNNImputer\n",
    "from sklearn.metrics import accuracy_score, f1_score, confusion_matrix, precision_score, recall_score\n",
    "from imblearn.over_sampling import SMOTE"
   ]
  },
  {
   "cell_type": "code",
   "execution_count": 30,
   "metadata": {
    "id": "4bdZMc0BR6cx"
   },
   "outputs": [],
   "source": [
    "from sklearn.model_selection import learning_curve\n",
    "def plot_learning_curve(est, X_train, y_train) :\n",
    "    train_sizes, train_scores, test_scores = learning_curve(estimator=est, X=X_train, y=y_train, train_sizes=np.linspace(0.1, 1.0, 10),\n",
    "                                                        cv=5,\n",
    "                                                        n_jobs=-1)\n",
    "    train_mean = np.mean(train_scores, axis=1)\n",
    "    train_std = np.std(train_scores, axis=1)\n",
    "    test_mean = np.mean(test_scores, axis=1)\n",
    "    test_std = np.std(test_scores, axis=1)\n",
    "    plt.figure(figsize=(8,10))\n",
    "    plt.plot(train_sizes, train_mean, color='blue', marker='o', markersize=5, label='training accuracy')\n",
    "    plt.fill_between(train_sizes, train_mean + train_std, train_mean - train_std, alpha=0.15, color='blue')\n",
    "    plt.plot(train_sizes, test_mean,color='green', linestyle='--',marker='s', markersize=5,label='validation accuracy')\n",
    "    plt.fill_between(train_sizes,test_mean + test_std,test_mean - test_std,alpha=0.15, color='green')\n",
    "    plt.grid(b='on')\n",
    "    plt.xlabel('Number of training samples')\n",
    "    plt.ylabel('Accuracy')\n",
    "    plt.legend(loc='lower right')\n",
    "    plt.ylim([0.6, 1.0])\n",
    "    plt.title('%s'%est) \n",
    "    plt.show()"
   ]
  },
  {
   "cell_type": "code",
   "execution_count": 32,
   "metadata": {
    "id": "FR2DYE1nR8dA"
   },
   "outputs": [],
   "source": [
    "def plot_roc_curve(est,X_test,y_test) :\n",
    "    probas = est.predict_proba(X_test)\n",
    "    false_positive_rate, true_positive_rate, thresholds = roc_curve(y_test,probas[:, 1])\n",
    "    roc_auc = auc(false_positive_rate, true_positive_rate)\n",
    "    plt.figure(figsize=(8,8))\n",
    "    plt.title('Receiver Operating Characteristic')\n",
    "    plt.plot(false_positive_rate, true_positive_rate, 'b', label='AUC = %0.2f'% roc_auc)\n",
    "    plt.legend(loc='lower right')\n",
    "    plt.plot([0,1],[0,1],'r--')        \n",
    "    plt.plot([0,0,1],[0,1,1],'g:')     # plus mauvaise courbe\n",
    "    plt.xlim([-0.05,1.2])\n",
    "    plt.ylim([-0.05,1.2])\n",
    "    plt.ylabel('Taux de vrais positifs')\n",
    "    plt.xlabel('Taux de faux positifs')\n",
    "    plt.show"
   ]
  },
  {
   "cell_type": "code",
   "execution_count": 62,
   "metadata": {
    "colab": {
     "base_uri": "https://localhost:8080/",
     "height": 378
    },
    "id": "oY2m6UD7R-dh",
    "outputId": "c77f3063-2d93-4f2e-cb84-03c924a83fca"
   },
   "outputs": [
    {
     "ename": "ValueError",
     "evalue": "ignored",
     "output_type": "error",
     "traceback": [
      "\u001b[0;31m---------------------------------------------------------------------------\u001b[0m",
      "\u001b[0;31mValueError\u001b[0m                                Traceback (most recent call last)",
      "\u001b[0;32m<ipython-input-62-b7c0cfe10362>\u001b[0m in \u001b[0;36m<module>\u001b[0;34m()\u001b[0m\n\u001b[1;32m      2\u001b[0m \u001b[0my\u001b[0m \u001b[0;34m=\u001b[0m \u001b[0mdf\u001b[0m\u001b[0;34m[\u001b[0m\u001b[0;34m'stroke'\u001b[0m\u001b[0;34m]\u001b[0m\u001b[0;34m\u001b[0m\u001b[0;34m\u001b[0m\u001b[0m\n\u001b[1;32m      3\u001b[0m \u001b[0msm\u001b[0m \u001b[0;34m=\u001b[0m \u001b[0mSMOTE\u001b[0m\u001b[0;34m(\u001b[0m\u001b[0mrandom_state\u001b[0m\u001b[0;34m=\u001b[0m\u001b[0;36m2\u001b[0m\u001b[0;34m)\u001b[0m\u001b[0;34m\u001b[0m\u001b[0;34m\u001b[0m\u001b[0m\n\u001b[0;32m----> 4\u001b[0;31m \u001b[0mX\u001b[0m\u001b[0;34m,\u001b[0m \u001b[0my\u001b[0m \u001b[0;34m=\u001b[0m \u001b[0msm\u001b[0m\u001b[0;34m.\u001b[0m\u001b[0mfit_resample\u001b[0m\u001b[0;34m(\u001b[0m\u001b[0mX\u001b[0m\u001b[0;34m,\u001b[0m \u001b[0my\u001b[0m\u001b[0;34m)\u001b[0m\u001b[0;34m\u001b[0m\u001b[0;34m\u001b[0m\u001b[0m\n\u001b[0m\u001b[1;32m      5\u001b[0m \u001b[0mX_train\u001b[0m\u001b[0;34m,\u001b[0m \u001b[0mX_test\u001b[0m\u001b[0;34m,\u001b[0m \u001b[0my_train\u001b[0m\u001b[0;34m,\u001b[0m \u001b[0my_test\u001b[0m \u001b[0;34m=\u001b[0m \u001b[0mtrain_test_split\u001b[0m\u001b[0;34m(\u001b[0m\u001b[0mX\u001b[0m\u001b[0;34m,\u001b[0m \u001b[0my\u001b[0m\u001b[0;34m,\u001b[0m \u001b[0mtest_size\u001b[0m\u001b[0;34m=\u001b[0m\u001b[0;36m0.2\u001b[0m\u001b[0;34m,\u001b[0m \u001b[0mrandom_state\u001b[0m\u001b[0;34m=\u001b[0m\u001b[0;36m0\u001b[0m\u001b[0;34m)\u001b[0m\u001b[0;34m\u001b[0m\u001b[0;34m\u001b[0m\u001b[0m\n",
      "\u001b[0;32m/usr/local/lib/python3.7/dist-packages/imblearn/base.py\u001b[0m in \u001b[0;36mfit_resample\u001b[0;34m(self, X, y)\u001b[0m\n\u001b[1;32m     75\u001b[0m         \u001b[0mcheck_classification_targets\u001b[0m\u001b[0;34m(\u001b[0m\u001b[0my\u001b[0m\u001b[0;34m)\u001b[0m\u001b[0;34m\u001b[0m\u001b[0;34m\u001b[0m\u001b[0m\n\u001b[1;32m     76\u001b[0m         \u001b[0marrays_transformer\u001b[0m \u001b[0;34m=\u001b[0m \u001b[0mArraysTransformer\u001b[0m\u001b[0;34m(\u001b[0m\u001b[0mX\u001b[0m\u001b[0;34m,\u001b[0m \u001b[0my\u001b[0m\u001b[0;34m)\u001b[0m\u001b[0;34m\u001b[0m\u001b[0;34m\u001b[0m\u001b[0m\n\u001b[0;32m---> 77\u001b[0;31m         \u001b[0mX\u001b[0m\u001b[0;34m,\u001b[0m \u001b[0my\u001b[0m\u001b[0;34m,\u001b[0m \u001b[0mbinarize_y\u001b[0m \u001b[0;34m=\u001b[0m \u001b[0mself\u001b[0m\u001b[0;34m.\u001b[0m\u001b[0m_check_X_y\u001b[0m\u001b[0;34m(\u001b[0m\u001b[0mX\u001b[0m\u001b[0;34m,\u001b[0m \u001b[0my\u001b[0m\u001b[0;34m)\u001b[0m\u001b[0;34m\u001b[0m\u001b[0;34m\u001b[0m\u001b[0m\n\u001b[0m\u001b[1;32m     78\u001b[0m \u001b[0;34m\u001b[0m\u001b[0m\n\u001b[1;32m     79\u001b[0m         self.sampling_strategy_ = check_sampling_strategy(\n",
      "\u001b[0;32m/usr/local/lib/python3.7/dist-packages/imblearn/base.py\u001b[0m in \u001b[0;36m_check_X_y\u001b[0;34m(self, X, y, accept_sparse)\u001b[0m\n\u001b[1;32m    130\u001b[0m             \u001b[0maccept_sparse\u001b[0m \u001b[0;34m=\u001b[0m \u001b[0;34m[\u001b[0m\u001b[0;34m\"csr\"\u001b[0m\u001b[0;34m,\u001b[0m \u001b[0;34m\"csc\"\u001b[0m\u001b[0;34m]\u001b[0m\u001b[0;34m\u001b[0m\u001b[0;34m\u001b[0m\u001b[0m\n\u001b[1;32m    131\u001b[0m         \u001b[0my\u001b[0m\u001b[0;34m,\u001b[0m \u001b[0mbinarize_y\u001b[0m \u001b[0;34m=\u001b[0m \u001b[0mcheck_target_type\u001b[0m\u001b[0;34m(\u001b[0m\u001b[0my\u001b[0m\u001b[0;34m,\u001b[0m \u001b[0mindicate_one_vs_all\u001b[0m\u001b[0;34m=\u001b[0m\u001b[0;32mTrue\u001b[0m\u001b[0;34m)\u001b[0m\u001b[0;34m\u001b[0m\u001b[0;34m\u001b[0m\u001b[0m\n\u001b[0;32m--> 132\u001b[0;31m         \u001b[0mX\u001b[0m\u001b[0;34m,\u001b[0m \u001b[0my\u001b[0m \u001b[0;34m=\u001b[0m \u001b[0mself\u001b[0m\u001b[0;34m.\u001b[0m\u001b[0m_validate_data\u001b[0m\u001b[0;34m(\u001b[0m\u001b[0mX\u001b[0m\u001b[0;34m,\u001b[0m \u001b[0my\u001b[0m\u001b[0;34m,\u001b[0m \u001b[0mreset\u001b[0m\u001b[0;34m=\u001b[0m\u001b[0;32mTrue\u001b[0m\u001b[0;34m,\u001b[0m \u001b[0maccept_sparse\u001b[0m\u001b[0;34m=\u001b[0m\u001b[0maccept_sparse\u001b[0m\u001b[0;34m)\u001b[0m\u001b[0;34m\u001b[0m\u001b[0;34m\u001b[0m\u001b[0m\n\u001b[0m\u001b[1;32m    133\u001b[0m         \u001b[0;32mreturn\u001b[0m \u001b[0mX\u001b[0m\u001b[0;34m,\u001b[0m \u001b[0my\u001b[0m\u001b[0;34m,\u001b[0m \u001b[0mbinarize_y\u001b[0m\u001b[0;34m\u001b[0m\u001b[0;34m\u001b[0m\u001b[0m\n\u001b[1;32m    134\u001b[0m \u001b[0;34m\u001b[0m\u001b[0m\n",
      "\u001b[0;32m/usr/local/lib/python3.7/dist-packages/sklearn/base.py\u001b[0m in \u001b[0;36m_validate_data\u001b[0;34m(self, X, y, reset, validate_separately, **check_params)\u001b[0m\n\u001b[1;32m    579\u001b[0m                 \u001b[0my\u001b[0m \u001b[0;34m=\u001b[0m \u001b[0mcheck_array\u001b[0m\u001b[0;34m(\u001b[0m\u001b[0my\u001b[0m\u001b[0;34m,\u001b[0m \u001b[0;34m**\u001b[0m\u001b[0mcheck_y_params\u001b[0m\u001b[0;34m)\u001b[0m\u001b[0;34m\u001b[0m\u001b[0;34m\u001b[0m\u001b[0m\n\u001b[1;32m    580\u001b[0m             \u001b[0;32melse\u001b[0m\u001b[0;34m:\u001b[0m\u001b[0;34m\u001b[0m\u001b[0;34m\u001b[0m\u001b[0m\n\u001b[0;32m--> 581\u001b[0;31m                 \u001b[0mX\u001b[0m\u001b[0;34m,\u001b[0m \u001b[0my\u001b[0m \u001b[0;34m=\u001b[0m \u001b[0mcheck_X_y\u001b[0m\u001b[0;34m(\u001b[0m\u001b[0mX\u001b[0m\u001b[0;34m,\u001b[0m \u001b[0my\u001b[0m\u001b[0;34m,\u001b[0m \u001b[0;34m**\u001b[0m\u001b[0mcheck_params\u001b[0m\u001b[0;34m)\u001b[0m\u001b[0;34m\u001b[0m\u001b[0;34m\u001b[0m\u001b[0m\n\u001b[0m\u001b[1;32m    582\u001b[0m             \u001b[0mout\u001b[0m \u001b[0;34m=\u001b[0m \u001b[0mX\u001b[0m\u001b[0;34m,\u001b[0m \u001b[0my\u001b[0m\u001b[0;34m\u001b[0m\u001b[0;34m\u001b[0m\u001b[0m\n\u001b[1;32m    583\u001b[0m \u001b[0;34m\u001b[0m\u001b[0m\n",
      "\u001b[0;32m/usr/local/lib/python3.7/dist-packages/sklearn/utils/validation.py\u001b[0m in \u001b[0;36mcheck_X_y\u001b[0;34m(X, y, accept_sparse, accept_large_sparse, dtype, order, copy, force_all_finite, ensure_2d, allow_nd, multi_output, ensure_min_samples, ensure_min_features, y_numeric, estimator)\u001b[0m\n\u001b[1;32m    974\u001b[0m         \u001b[0mensure_min_samples\u001b[0m\u001b[0;34m=\u001b[0m\u001b[0mensure_min_samples\u001b[0m\u001b[0;34m,\u001b[0m\u001b[0;34m\u001b[0m\u001b[0;34m\u001b[0m\u001b[0m\n\u001b[1;32m    975\u001b[0m         \u001b[0mensure_min_features\u001b[0m\u001b[0;34m=\u001b[0m\u001b[0mensure_min_features\u001b[0m\u001b[0;34m,\u001b[0m\u001b[0;34m\u001b[0m\u001b[0;34m\u001b[0m\u001b[0m\n\u001b[0;32m--> 976\u001b[0;31m         \u001b[0mestimator\u001b[0m\u001b[0;34m=\u001b[0m\u001b[0mestimator\u001b[0m\u001b[0;34m,\u001b[0m\u001b[0;34m\u001b[0m\u001b[0;34m\u001b[0m\u001b[0m\n\u001b[0m\u001b[1;32m    977\u001b[0m     )\n\u001b[1;32m    978\u001b[0m \u001b[0;34m\u001b[0m\u001b[0m\n",
      "\u001b[0;32m/usr/local/lib/python3.7/dist-packages/sklearn/utils/validation.py\u001b[0m in \u001b[0;36mcheck_array\u001b[0;34m(array, accept_sparse, accept_large_sparse, dtype, order, copy, force_all_finite, ensure_2d, allow_nd, ensure_min_samples, ensure_min_features, estimator)\u001b[0m\n\u001b[1;32m    744\u001b[0m                     \u001b[0marray\u001b[0m \u001b[0;34m=\u001b[0m \u001b[0marray\u001b[0m\u001b[0;34m.\u001b[0m\u001b[0mastype\u001b[0m\u001b[0;34m(\u001b[0m\u001b[0mdtype\u001b[0m\u001b[0;34m,\u001b[0m \u001b[0mcasting\u001b[0m\u001b[0;34m=\u001b[0m\u001b[0;34m\"unsafe\"\u001b[0m\u001b[0;34m,\u001b[0m \u001b[0mcopy\u001b[0m\u001b[0;34m=\u001b[0m\u001b[0;32mFalse\u001b[0m\u001b[0;34m)\u001b[0m\u001b[0;34m\u001b[0m\u001b[0;34m\u001b[0m\u001b[0m\n\u001b[1;32m    745\u001b[0m                 \u001b[0;32melse\u001b[0m\u001b[0;34m:\u001b[0m\u001b[0;34m\u001b[0m\u001b[0;34m\u001b[0m\u001b[0m\n\u001b[0;32m--> 746\u001b[0;31m                     \u001b[0marray\u001b[0m \u001b[0;34m=\u001b[0m \u001b[0mnp\u001b[0m\u001b[0;34m.\u001b[0m\u001b[0masarray\u001b[0m\u001b[0;34m(\u001b[0m\u001b[0marray\u001b[0m\u001b[0;34m,\u001b[0m \u001b[0morder\u001b[0m\u001b[0;34m=\u001b[0m\u001b[0morder\u001b[0m\u001b[0;34m,\u001b[0m \u001b[0mdtype\u001b[0m\u001b[0;34m=\u001b[0m\u001b[0mdtype\u001b[0m\u001b[0;34m)\u001b[0m\u001b[0;34m\u001b[0m\u001b[0;34m\u001b[0m\u001b[0m\n\u001b[0m\u001b[1;32m    747\u001b[0m             \u001b[0;32mexcept\u001b[0m \u001b[0mComplexWarning\u001b[0m \u001b[0;32mas\u001b[0m \u001b[0mcomplex_warning\u001b[0m\u001b[0;34m:\u001b[0m\u001b[0;34m\u001b[0m\u001b[0;34m\u001b[0m\u001b[0m\n\u001b[1;32m    748\u001b[0m                 raise ValueError(\n",
      "\u001b[0;32m/usr/local/lib/python3.7/dist-packages/pandas/core/generic.py\u001b[0m in \u001b[0;36m__array__\u001b[0;34m(self, dtype)\u001b[0m\n\u001b[1;32m   1991\u001b[0m \u001b[0;34m\u001b[0m\u001b[0m\n\u001b[1;32m   1992\u001b[0m     \u001b[0;32mdef\u001b[0m \u001b[0m__array__\u001b[0m\u001b[0;34m(\u001b[0m\u001b[0mself\u001b[0m\u001b[0;34m,\u001b[0m \u001b[0mdtype\u001b[0m\u001b[0;34m:\u001b[0m \u001b[0mNpDtype\u001b[0m \u001b[0;34m|\u001b[0m \u001b[0;32mNone\u001b[0m \u001b[0;34m=\u001b[0m \u001b[0;32mNone\u001b[0m\u001b[0;34m)\u001b[0m \u001b[0;34m->\u001b[0m \u001b[0mnp\u001b[0m\u001b[0;34m.\u001b[0m\u001b[0mndarray\u001b[0m\u001b[0;34m:\u001b[0m\u001b[0;34m\u001b[0m\u001b[0;34m\u001b[0m\u001b[0m\n\u001b[0;32m-> 1993\u001b[0;31m         \u001b[0;32mreturn\u001b[0m \u001b[0mnp\u001b[0m\u001b[0;34m.\u001b[0m\u001b[0masarray\u001b[0m\u001b[0;34m(\u001b[0m\u001b[0mself\u001b[0m\u001b[0;34m.\u001b[0m\u001b[0m_values\u001b[0m\u001b[0;34m,\u001b[0m \u001b[0mdtype\u001b[0m\u001b[0;34m=\u001b[0m\u001b[0mdtype\u001b[0m\u001b[0;34m)\u001b[0m\u001b[0;34m\u001b[0m\u001b[0;34m\u001b[0m\u001b[0m\n\u001b[0m\u001b[1;32m   1994\u001b[0m \u001b[0;34m\u001b[0m\u001b[0m\n\u001b[1;32m   1995\u001b[0m     def __array_wrap__(\n",
      "\u001b[0;31mValueError\u001b[0m: could not convert string to float: 'N/A'"
     ]
    }
   ],
   "source": [
    "X = df.drop(['stroke'],axis=1)\n",
    "y = df['stroke']\n",
    "sm = SMOTE(random_state=2)\n",
    "X, y = sm.fit_resample(X, y)\n",
    "X_train, X_test, y_train, y_test = train_test_split(X, y, test_size=0.2, random_state=0)\n"
   ]
  },
  {
   "cell_type": "code",
   "execution_count": 34,
   "metadata": {
    "colab": {
     "base_uri": "https://localhost:8080/",
     "height": 244
    },
    "id": "s_QSlo2wShrZ",
    "outputId": "efe3f4a8-97bb-4ed6-91b4-c9368a781a2e"
   },
   "outputs": [
    {
     "ename": "NameError",
     "evalue": "ignored",
     "output_type": "error",
     "traceback": [
      "\u001b[0;31m---------------------------------------------------------------------------\u001b[0m",
      "\u001b[0;31mNameError\u001b[0m                                 Traceback (most recent call last)",
      "\u001b[0;32m<ipython-input-34-e2c74ed8677e>\u001b[0m in \u001b[0;36m<module>\u001b[0;34m()\u001b[0m\n\u001b[1;32m      1\u001b[0m \u001b[0;31m# Logistic Regression\u001b[0m\u001b[0;34m\u001b[0m\u001b[0;34m\u001b[0m\u001b[0;34m\u001b[0m\u001b[0m\n\u001b[1;32m      2\u001b[0m \u001b[0mlogit\u001b[0m \u001b[0;34m=\u001b[0m \u001b[0mLogisticRegression\u001b[0m\u001b[0;34m(\u001b[0m\u001b[0;34m)\u001b[0m\u001b[0;34m\u001b[0m\u001b[0;34m\u001b[0m\u001b[0m\n\u001b[0;32m----> 3\u001b[0;31m \u001b[0mlogit\u001b[0m\u001b[0;34m.\u001b[0m\u001b[0mfit\u001b[0m\u001b[0;34m(\u001b[0m\u001b[0mX_train\u001b[0m\u001b[0;34m,\u001b[0m \u001b[0my_train\u001b[0m\u001b[0;34m)\u001b[0m\u001b[0;34m\u001b[0m\u001b[0;34m\u001b[0m\u001b[0m\n\u001b[0m\u001b[1;32m      4\u001b[0m \u001b[0mlogit\u001b[0m\u001b[0;34m.\u001b[0m\u001b[0mpred\u001b[0m \u001b[0;34m=\u001b[0m \u001b[0mlogit\u001b[0m\u001b[0;34m.\u001b[0m\u001b[0mpredict\u001b[0m\u001b[0;34m(\u001b[0m\u001b[0mX_test\u001b[0m\u001b[0;34m)\u001b[0m\u001b[0;34m\u001b[0m\u001b[0;34m\u001b[0m\u001b[0m\n\u001b[1;32m      5\u001b[0m \u001b[0mlogit_accuracy\u001b[0m \u001b[0;34m=\u001b[0m \u001b[0maccuracy_score\u001b[0m\u001b[0;34m(\u001b[0m\u001b[0mlogit\u001b[0m\u001b[0;34m.\u001b[0m\u001b[0mpred\u001b[0m\u001b[0;34m,\u001b[0m \u001b[0my_test\u001b[0m\u001b[0;34m)\u001b[0m\u001b[0;34m\u001b[0m\u001b[0;34m\u001b[0m\u001b[0m\n",
      "\u001b[0;31mNameError\u001b[0m: name 'X_train' is not defined"
     ]
    }
   ],
   "source": [
    "# Logistic Regression\n",
    "logit = LogisticRegression()\n",
    "logit.fit(X_train, y_train)\n",
    "logit.pred = logit.predict(X_test)\n",
    "logit_accuracy = accuracy_score(logit.pred, y_test)\n",
    "print('Accuracy:', logit_accuracy)\n",
    "precision = precision_score(y_test, logit.pred)\n",
    "print('Precision:', precision)\n",
    "print(classification_report(y_test, logit.pred))"
   ]
  },
  {
   "cell_type": "code",
   "execution_count": 54,
   "metadata": {
    "colab": {
     "base_uri": "https://localhost:8080/",
     "height": 171
    },
    "id": "nxhVzF5GSmOh",
    "outputId": "d36ae03c-2857-40c9-af24-1f4869831643"
   },
   "outputs": [
    {
     "ename": "NameError",
     "evalue": "ignored",
     "output_type": "error",
     "traceback": [
      "\u001b[0;31m---------------------------------------------------------------------------\u001b[0m",
      "\u001b[0;31mNameError\u001b[0m                                 Traceback (most recent call last)",
      "\u001b[0;32m<ipython-input-54-7a373489d13d>\u001b[0m in \u001b[0;36m<module>\u001b[0;34m()\u001b[0m\n\u001b[0;32m----> 1\u001b[0;31m \u001b[0mplot_learning_curve\u001b[0m\u001b[0;34m(\u001b[0m\u001b[0mlogit\u001b[0m\u001b[0;34m,\u001b[0m \u001b[0mX_train\u001b[0m\u001b[0;34m,\u001b[0m \u001b[0my_train\u001b[0m\u001b[0;34m)\u001b[0m\u001b[0;34m\u001b[0m\u001b[0;34m\u001b[0m\u001b[0m\n\u001b[0m",
      "\u001b[0;31mNameError\u001b[0m: name 'X_train' is not defined"
     ]
    }
   ],
   "source": [
    "plot_learning_curve(logit, X_train, y_train)"
   ]
  },
  {
   "cell_type": "code",
   "execution_count": 55,
   "metadata": {
    "colab": {
     "base_uri": "https://localhost:8080/",
     "height": 244
    },
    "id": "ehHPizg1UVYg",
    "outputId": "ebeb1528-373e-4ce4-c496-aa8a2f42eb45"
   },
   "outputs": [
    {
     "ename": "NameError",
     "evalue": "ignored",
     "output_type": "error",
     "traceback": [
      "\u001b[0;31m---------------------------------------------------------------------------\u001b[0m",
      "\u001b[0;31mNameError\u001b[0m                                 Traceback (most recent call last)",
      "\u001b[0;32m<ipython-input-55-6f5e8aa1f771>\u001b[0m in \u001b[0;36m<module>\u001b[0;34m()\u001b[0m\n\u001b[1;32m      1\u001b[0m \u001b[0;31m# Random Forest\u001b[0m\u001b[0;34m\u001b[0m\u001b[0;34m\u001b[0m\u001b[0;34m\u001b[0m\u001b[0m\n\u001b[1;32m      2\u001b[0m \u001b[0mRF\u001b[0m \u001b[0;34m=\u001b[0m \u001b[0mRandomForestClassifier\u001b[0m\u001b[0;34m(\u001b[0m\u001b[0;34m)\u001b[0m\u001b[0;34m\u001b[0m\u001b[0;34m\u001b[0m\u001b[0m\n\u001b[0;32m----> 3\u001b[0;31m \u001b[0mRF\u001b[0m\u001b[0;34m.\u001b[0m\u001b[0mfit\u001b[0m\u001b[0;34m(\u001b[0m\u001b[0mX_train\u001b[0m\u001b[0;34m,\u001b[0m \u001b[0my_train\u001b[0m\u001b[0;34m)\u001b[0m\u001b[0;34m\u001b[0m\u001b[0;34m\u001b[0m\u001b[0m\n\u001b[0m\u001b[1;32m      4\u001b[0m \u001b[0mRF\u001b[0m\u001b[0;34m.\u001b[0m\u001b[0mpred\u001b[0m \u001b[0;34m=\u001b[0m \u001b[0mRF\u001b[0m\u001b[0;34m.\u001b[0m\u001b[0mpredict\u001b[0m\u001b[0;34m(\u001b[0m\u001b[0mX_test\u001b[0m\u001b[0;34m)\u001b[0m\u001b[0;34m\u001b[0m\u001b[0;34m\u001b[0m\u001b[0m\n\u001b[1;32m      5\u001b[0m \u001b[0mRF_accuracy\u001b[0m \u001b[0;34m=\u001b[0m \u001b[0maccuracy_score\u001b[0m\u001b[0;34m(\u001b[0m\u001b[0mRF\u001b[0m\u001b[0;34m.\u001b[0m\u001b[0mpred\u001b[0m\u001b[0;34m,\u001b[0m \u001b[0my_test\u001b[0m\u001b[0;34m)\u001b[0m\u001b[0;34m\u001b[0m\u001b[0;34m\u001b[0m\u001b[0m\n",
      "\u001b[0;31mNameError\u001b[0m: name 'X_train' is not defined"
     ]
    }
   ],
   "source": [
    "# Random Forest\n",
    "RF = RandomForestClassifier()\n",
    "RF.fit(X_train, y_train)\n",
    "RF.pred = RF.predict(X_test)\n",
    "RF_accuracy = accuracy_score(RF.pred, y_test)\n",
    "print('Accuracy:', RF_accuracy)\n",
    "precision = precision_score(y_test, RF.pred)\n",
    "print('Precision:', precision)\n",
    "print(classification_report(y_test, RF.pred))"
   ]
  },
  {
   "cell_type": "code",
   "execution_count": 56,
   "metadata": {
    "colab": {
     "base_uri": "https://localhost:8080/",
     "height": 171
    },
    "id": "Bq-a5cGcUY-Q",
    "outputId": "3120318b-fb1f-45ec-ca97-a77af6b562ba"
   },
   "outputs": [
    {
     "ename": "NameError",
     "evalue": "ignored",
     "output_type": "error",
     "traceback": [
      "\u001b[0;31m---------------------------------------------------------------------------\u001b[0m",
      "\u001b[0;31mNameError\u001b[0m                                 Traceback (most recent call last)",
      "\u001b[0;32m<ipython-input-56-454cc8a203dd>\u001b[0m in \u001b[0;36m<module>\u001b[0;34m()\u001b[0m\n\u001b[0;32m----> 1\u001b[0;31m \u001b[0mplot_learning_curve\u001b[0m\u001b[0;34m(\u001b[0m\u001b[0mRF\u001b[0m\u001b[0;34m,\u001b[0m \u001b[0mX_train\u001b[0m\u001b[0;34m,\u001b[0m \u001b[0my_train\u001b[0m\u001b[0;34m)\u001b[0m\u001b[0;34m\u001b[0m\u001b[0;34m\u001b[0m\u001b[0m\n\u001b[0m",
      "\u001b[0;31mNameError\u001b[0m: name 'X_train' is not defined"
     ]
    }
   ],
   "source": [
    "plot_learning_curve(RF, X_train, y_train)"
   ]
  },
  {
   "cell_type": "code",
   "execution_count": 57,
   "metadata": {
    "colab": {
     "base_uri": "https://localhost:8080/",
     "height": 244
    },
    "id": "dpiBnOdVUahw",
    "outputId": "19956aa0-1972-4c31-da5a-8d61ae7001d3"
   },
   "outputs": [
    {
     "ename": "NameError",
     "evalue": "ignored",
     "output_type": "error",
     "traceback": [
      "\u001b[0;31m---------------------------------------------------------------------------\u001b[0m",
      "\u001b[0;31mNameError\u001b[0m                                 Traceback (most recent call last)",
      "\u001b[0;32m<ipython-input-57-04364959782a>\u001b[0m in \u001b[0;36m<module>\u001b[0;34m()\u001b[0m\n\u001b[1;32m      1\u001b[0m \u001b[0;31m# ExtraTrees\u001b[0m\u001b[0;34m\u001b[0m\u001b[0;34m\u001b[0m\u001b[0;34m\u001b[0m\u001b[0m\n\u001b[1;32m      2\u001b[0m \u001b[0mET\u001b[0m \u001b[0;34m=\u001b[0m \u001b[0mExtraTreesClassifier\u001b[0m\u001b[0;34m(\u001b[0m\u001b[0;34m)\u001b[0m\u001b[0;34m\u001b[0m\u001b[0;34m\u001b[0m\u001b[0m\n\u001b[0;32m----> 3\u001b[0;31m \u001b[0mET\u001b[0m\u001b[0;34m.\u001b[0m\u001b[0mfit\u001b[0m\u001b[0;34m(\u001b[0m\u001b[0mX_train\u001b[0m\u001b[0;34m,\u001b[0m \u001b[0my_train\u001b[0m\u001b[0;34m)\u001b[0m\u001b[0;34m\u001b[0m\u001b[0;34m\u001b[0m\u001b[0m\n\u001b[0m\u001b[1;32m      4\u001b[0m \u001b[0mET\u001b[0m\u001b[0;34m.\u001b[0m\u001b[0mpred\u001b[0m \u001b[0;34m=\u001b[0m \u001b[0mET\u001b[0m\u001b[0;34m.\u001b[0m\u001b[0mpredict\u001b[0m\u001b[0;34m(\u001b[0m\u001b[0mX_test\u001b[0m\u001b[0;34m)\u001b[0m\u001b[0;34m\u001b[0m\u001b[0;34m\u001b[0m\u001b[0m\n\u001b[1;32m      5\u001b[0m \u001b[0mET_accuracy\u001b[0m \u001b[0;34m=\u001b[0m \u001b[0maccuracy_score\u001b[0m\u001b[0;34m(\u001b[0m\u001b[0mET\u001b[0m\u001b[0;34m.\u001b[0m\u001b[0mpred\u001b[0m\u001b[0;34m,\u001b[0m \u001b[0my_test\u001b[0m\u001b[0;34m)\u001b[0m\u001b[0;34m\u001b[0m\u001b[0;34m\u001b[0m\u001b[0m\n",
      "\u001b[0;31mNameError\u001b[0m: name 'X_train' is not defined"
     ]
    }
   ],
   "source": [
    "# ExtraTrees\n",
    "ET = ExtraTreesClassifier()\n",
    "ET.fit(X_train, y_train)\n",
    "ET.pred = ET.predict(X_test)\n",
    "ET_accuracy = accuracy_score(ET.pred, y_test)\n",
    "print('Accuracy:', ET_accuracy)\n",
    "precision = precision_score(y_test, ET.pred)\n",
    "print('Precision:', precision)\n",
    "print(classification_report(y_test, ET.pred))"
   ]
  },
  {
   "cell_type": "code",
   "execution_count": 58,
   "metadata": {
    "colab": {
     "base_uri": "https://localhost:8080/",
     "height": 171
    },
    "id": "ikPC-yisUcUg",
    "outputId": "c402bf04-a024-42e5-9b11-5a3ecc6c8085"
   },
   "outputs": [
    {
     "ename": "NameError",
     "evalue": "ignored",
     "output_type": "error",
     "traceback": [
      "\u001b[0;31m---------------------------------------------------------------------------\u001b[0m",
      "\u001b[0;31mNameError\u001b[0m                                 Traceback (most recent call last)",
      "\u001b[0;32m<ipython-input-58-a7c3e7c117b8>\u001b[0m in \u001b[0;36m<module>\u001b[0;34m()\u001b[0m\n\u001b[0;32m----> 1\u001b[0;31m \u001b[0mplot_learning_curve\u001b[0m\u001b[0;34m(\u001b[0m\u001b[0mET\u001b[0m\u001b[0;34m,\u001b[0m \u001b[0mX_train\u001b[0m\u001b[0;34m,\u001b[0m \u001b[0my_train\u001b[0m\u001b[0;34m)\u001b[0m\u001b[0;34m\u001b[0m\u001b[0;34m\u001b[0m\u001b[0m\n\u001b[0m",
      "\u001b[0;31mNameError\u001b[0m: name 'X_train' is not defined"
     ]
    }
   ],
   "source": [
    "plot_learning_curve(ET, X_train, y_train)"
   ]
  },
  {
   "cell_type": "code",
   "execution_count": 59,
   "metadata": {
    "colab": {
     "base_uri": "https://localhost:8080/",
     "height": 244
    },
    "id": "Gfv4U0sdUeBg",
    "outputId": "fa4e6c96-8501-4ba8-b34c-3f34c7bb8f94"
   },
   "outputs": [
    {
     "ename": "NameError",
     "evalue": "ignored",
     "output_type": "error",
     "traceback": [
      "\u001b[0;31m---------------------------------------------------------------------------\u001b[0m",
      "\u001b[0;31mNameError\u001b[0m                                 Traceback (most recent call last)",
      "\u001b[0;32m<ipython-input-59-d8fe4f78895a>\u001b[0m in \u001b[0;36m<module>\u001b[0;34m()\u001b[0m\n\u001b[1;32m      1\u001b[0m \u001b[0;31m# Gradient Boosting\u001b[0m\u001b[0;34m\u001b[0m\u001b[0;34m\u001b[0m\u001b[0;34m\u001b[0m\u001b[0m\n\u001b[1;32m      2\u001b[0m \u001b[0mGB\u001b[0m \u001b[0;34m=\u001b[0m \u001b[0mGradientBoostingClassifier\u001b[0m\u001b[0;34m(\u001b[0m\u001b[0;34m)\u001b[0m\u001b[0;34m\u001b[0m\u001b[0;34m\u001b[0m\u001b[0m\n\u001b[0;32m----> 3\u001b[0;31m \u001b[0mGB\u001b[0m\u001b[0;34m.\u001b[0m\u001b[0mfit\u001b[0m\u001b[0;34m(\u001b[0m\u001b[0mX_train\u001b[0m\u001b[0;34m,\u001b[0m \u001b[0my_train\u001b[0m\u001b[0;34m)\u001b[0m\u001b[0;34m\u001b[0m\u001b[0;34m\u001b[0m\u001b[0m\n\u001b[0m\u001b[1;32m      4\u001b[0m \u001b[0mGB\u001b[0m\u001b[0;34m.\u001b[0m\u001b[0mpred\u001b[0m \u001b[0;34m=\u001b[0m \u001b[0mGB\u001b[0m\u001b[0;34m.\u001b[0m\u001b[0mpredict\u001b[0m\u001b[0;34m(\u001b[0m\u001b[0mX_test\u001b[0m\u001b[0;34m)\u001b[0m\u001b[0;34m\u001b[0m\u001b[0;34m\u001b[0m\u001b[0m\n\u001b[1;32m      5\u001b[0m \u001b[0mGB_accuracy\u001b[0m \u001b[0;34m=\u001b[0m \u001b[0maccuracy_score\u001b[0m\u001b[0;34m(\u001b[0m\u001b[0mGB\u001b[0m\u001b[0;34m.\u001b[0m\u001b[0mpred\u001b[0m\u001b[0;34m,\u001b[0m \u001b[0my_test\u001b[0m\u001b[0;34m)\u001b[0m\u001b[0;34m\u001b[0m\u001b[0;34m\u001b[0m\u001b[0m\n",
      "\u001b[0;31mNameError\u001b[0m: name 'X_train' is not defined"
     ]
    }
   ],
   "source": [
    "# Gradient Boosting\n",
    "GB = GradientBoostingClassifier()\n",
    "GB.fit(X_train, y_train)\n",
    "GB.pred = GB.predict(X_test)\n",
    "GB_accuracy = accuracy_score(GB.pred, y_test)\n",
    "print('Accuracy:', GB_accuracy)\n",
    "precision = precision_score(y_test, GB.pred)\n",
    "print('Precision:', precision)\n",
    "print(classification_report(y_test, GB.pred))"
   ]
  },
  {
   "cell_type": "code",
   "execution_count": 60,
   "metadata": {
    "colab": {
     "base_uri": "https://localhost:8080/",
     "height": 171
    },
    "id": "bMC57LSFUf1A",
    "outputId": "a3ce5a26-afa1-4d8f-f326-e6bfc73bc9e9"
   },
   "outputs": [
    {
     "ename": "NameError",
     "evalue": "ignored",
     "output_type": "error",
     "traceback": [
      "\u001b[0;31m---------------------------------------------------------------------------\u001b[0m",
      "\u001b[0;31mNameError\u001b[0m                                 Traceback (most recent call last)",
      "\u001b[0;32m<ipython-input-60-e77a5987b4ac>\u001b[0m in \u001b[0;36m<module>\u001b[0;34m()\u001b[0m\n\u001b[0;32m----> 1\u001b[0;31m \u001b[0mplot_learning_curve\u001b[0m\u001b[0;34m(\u001b[0m\u001b[0mGB\u001b[0m\u001b[0;34m,\u001b[0m \u001b[0mX_train\u001b[0m\u001b[0;34m,\u001b[0m \u001b[0my_train\u001b[0m\u001b[0;34m)\u001b[0m\u001b[0;34m\u001b[0m\u001b[0;34m\u001b[0m\u001b[0m\n\u001b[0m",
      "\u001b[0;31mNameError\u001b[0m: name 'X_train' is not defined"
     ]
    }
   ],
   "source": [
    "plot_learning_curve(GB, X_train, y_train)"
   ]
  },
  {
   "cell_type": "code",
   "execution_count": null,
   "metadata": {
    "id": "5D3E5zXwUhZv"
   },
   "outputs": [],
   "source": []
  }
 ],
 "metadata": {
  "colab": {
   "authorship_tag": "ABX9TyOnLqgfr9WeaW4Lp1h0sd+d",
   "collapsed_sections": [],
   "include_colab_link": true,
   "name": "Stroke_model 3.ipynb",
   "provenance": []
  },
  "kernelspec": {
   "display_name": "Python 3 (ipykernel)",
   "language": "python",
   "name": "python3"
  },
  "language_info": {
   "codemirror_mode": {
    "name": "ipython",
    "version": 3
   },
   "file_extension": ".py",
   "mimetype": "text/x-python",
   "name": "python",
   "nbconvert_exporter": "python",
   "pygments_lexer": "ipython3",
   "version": "3.9.7"
  }
 },
 "nbformat": 4,
 "nbformat_minor": 1
}
