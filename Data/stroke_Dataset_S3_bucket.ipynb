{
 "cells": [
  {
   "cell_type": "markdown",
   "metadata": {
    "id": "Rdp0slOLzMMB"
   },
   "source": [
    "### Extracting the stroke dataset from S3 bucket"
   ]
  },
  {
   "cell_type": "code",
   "execution_count": null,
   "metadata": {
    "colab": {
     "base_uri": "https://localhost:8080/"
    },
    "id": "pZtnXBL7PzV6",
    "outputId": "4e06e9b4-0c9a-4133-aa26-604cf5630789"
   },
   "outputs": [],
   "source": [
    "import os\n",
    "spark_version = 'spark-3.2.1'\n",
    "os.environ['SPARK_VERSION']=spark_version\n",
    "\n",
    "# Install Spark and Java\n",
    "!apt-get update\n",
    "!apt-get install openjdk-8-jdk-headless -qq > /dev/null\n",
    "!wget -q http://www.apache.org/dist/spark/$SPARK_VERSION/$SPARK_VERSION-bin-hadoop2.7.tgz\n",
    "!tar xf $SPARK_VERSION-bin-hadoop2.7.tgz\n",
    "!pip install -q findspark\n",
    "\n",
    "# Set Environment Variables\n",
    "import os\n",
    "os.environ[\"JAVA_HOME\"] = \"/usr/lib/jvm/java-8-openjdk-amd64\"\n",
    "os.environ[\"SPARK_HOME\"] = f\"/content/{spark_version}-bin-hadoop2.7\"\n",
    "\n",
    "# Start a SparkSession\n",
    "import findspark\n",
    "findspark.init()\n",
    "import pandas as pd\n"
   ]
  },
  {
   "cell_type": "code",
   "execution_count": null,
   "metadata": {
    "colab": {
     "base_uri": "https://localhost:8080/"
    },
    "id": "Ngo81n4PP7lQ",
    "outputId": "c981e762-c063-4e15-e9a5-4131010481e9"
   },
   "outputs": [],
   "source": [
    "!wget https://jdbc.postgresql.org/download/postgresql-42.2.9.jar"
   ]
  },
  {
   "cell_type": "code",
   "execution_count": null,
   "metadata": {
    "id": "xq_WyoHHP8Ws"
   },
   "outputs": [],
   "source": [
    "from pyspark.sql import SparkSession\n",
    "spark = SparkSession.builder.appName(\"CloudETL\").config(\"spark.driver.extraClassPath\",\"/content/postgresql-42.2.9.jar\").getOrCreate()"
   ]
  },
  {
   "cell_type": "code",
   "execution_count": null,
   "metadata": {
    "colab": {
     "base_uri": "https://localhost:8080/"
    },
    "id": "7mfk0hh_P_U0",
    "outputId": "60c2d11b-5ffa-4d00-b871-7cc4987c05ee"
   },
   "outputs": [],
   "source": [
    "from pyspark import SparkFiles\n",
    "url =\"https://project-4.s3.eu-west-2.amazonaws.com/stroke-dataset.csv\"\n",
    "spark.sparkContext.addFile(url)\n",
    "stroke_data = spark.read.csv(SparkFiles.get(\"stroke-dataset.csv\"), header=True, inferSchema=True)\n",
    "\n",
    "stroke_data.show(10)"
   ]
  },
  {
   "cell_type": "code",
   "execution_count": null,
   "metadata": {
    "id": "9BQsC8vqzyoq"
   },
   "outputs": [],
   "source": [
    "import numpy as np\n",
    "import pandas as pd"
   ]
  },
  {
   "cell_type": "code",
   "execution_count": null,
   "metadata": {
    "colab": {
     "base_uri": "https://localhost:8080/",
     "height": 206
    },
    "id": "T1AkhiLqzwPb",
    "outputId": "a98bec6f-a63f-4c0f-9540-eb8d17048131"
   },
   "outputs": [],
   "source": [
    "stroke_df = stroke_data.toPandas()\n",
    "stroke_df.head()"
   ]
  },
  {
   "cell_type": "code",
   "execution_count": null,
   "metadata": {
    "colab": {
     "base_uri": "https://localhost:8080/"
    },
    "id": "V5pmy_5L1AOI",
    "outputId": "cbdd8de5-e925-4e37-ee4e-2bc2ba90011c"
   },
   "outputs": [],
   "source": [
    "stroke_df = stroke_df.drop('id', 1)"
   ]
  },
  {
   "cell_type": "code",
   "execution_count": null,
   "metadata": {
    "id": "wk_zJJ0Y3vfO"
   },
   "outputs": [],
   "source": [
    "stroke_df"
   ]
  }
 ],
 "metadata": {
  "colab": {
   "collapsed_sections": [],
   "name": "project 4_stroke_S3_bucket.ipynb",
   "provenance": []
  },
  "kernelspec": {
   "display_name": "Python 3",
   "language": "python",
   "name": "python3"
  },
  "language_info": {
   "codemirror_mode": {
    "name": "ipython",
    "version": 3
   },
   "file_extension": ".py",
   "mimetype": "text/x-python",
   "name": "python",
   "nbconvert_exporter": "python",
   "pygments_lexer": "ipython3",
   "version": "3.6.10"
  }
 },
 "nbformat": 4,
 "nbformat_minor": 1
}
