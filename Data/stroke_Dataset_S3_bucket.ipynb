{
  "cells": [
    {
      "cell_type": "markdown",
      "metadata": {
        "id": "Rdp0slOLzMMB"
      },
      "source": [
        "**Extracting the stroke dataset from S3 bucket**"
      ]
    },
    {
      "cell_type": "code",
      "execution_count": 2,
      "metadata": {
        "colab": {
          "base_uri": "https://localhost:8080/"
        },
        "id": "pZtnXBL7PzV6",
        "outputId": "2f3b6105-b1f7-4a3c-9793-8c18381aedff"
      },
      "outputs": [
        {
          "output_type": "stream",
          "name": "stdout",
          "text": [
            "\r0% [Working]\r            \rHit:1 http://archive.ubuntu.com/ubuntu bionic InRelease\n",
            "\r0% [Waiting for headers] [Waiting for headers] [Connected to cloud.r-project.or\r                                                                               \rHit:2 http://security.ubuntu.com/ubuntu bionic-security InRelease\n",
            "\r0% [Waiting for headers] [Connected to cloud.r-project.org (65.8.178.6)] [Conne\r0% [1 InRelease gpgv 242 kB] [Waiting for headers] [Connected to cloud.r-projec\r                                                                               \rHit:3 https://developer.download.nvidia.com/compute/cuda/repos/ubuntu1804/x86_64  InRelease\n",
            "\r0% [1 InRelease gpgv 242 kB] [Waiting for headers] [Connected to cloud.r-projec\r                                                                               \rHit:4 http://archive.ubuntu.com/ubuntu bionic-updates InRelease\n",
            "Hit:5 http://archive.ubuntu.com/ubuntu bionic-backports InRelease\n",
            "Hit:6 https://cloud.r-project.org/bin/linux/ubuntu bionic-cran40/ InRelease\n",
            "Ign:7 https://developer.download.nvidia.com/compute/machine-learning/repos/ubuntu1804/x86_64  InRelease\n",
            "Hit:8 https://developer.download.nvidia.com/compute/machine-learning/repos/ubuntu1804/x86_64  Release\n",
            "Hit:9 http://ppa.launchpad.net/c2d4u.team/c2d4u4.0+/ubuntu bionic InRelease\n",
            "Hit:10 http://ppa.launchpad.net/cran/libgit2/ubuntu bionic InRelease\n",
            "Hit:11 http://ppa.launchpad.net/deadsnakes/ppa/ubuntu bionic InRelease\n",
            "Hit:12 http://ppa.launchpad.net/graphics-drivers/ppa/ubuntu bionic InRelease\n",
            "Reading package lists... Done\n"
          ]
        }
      ],
      "source": [
        "import os\n",
        "spark_version = 'spark-3.2.1'\n",
        "os.environ['SPARK_VERSION']=spark_version\n",
        "\n",
        "# Install Spark and Java\n",
        "!apt-get update\n",
        "!apt-get install openjdk-8-jdk-headless -qq > /dev/null\n",
        "!wget -q http://www.apache.org/dist/spark/$SPARK_VERSION/$SPARK_VERSION-bin-hadoop2.7.tgz\n",
        "!tar xf $SPARK_VERSION-bin-hadoop2.7.tgz\n",
        "!pip install -q findspark\n",
        "\n",
        "# Set Environment Variables\n",
        "import os\n",
        "os.environ[\"JAVA_HOME\"] = \"/usr/lib/jvm/java-8-openjdk-amd64\"\n",
        "os.environ[\"SPARK_HOME\"] = f\"/content/{spark_version}-bin-hadoop2.7\"\n",
        "\n",
        "# Start a SparkSession\n",
        "import findspark\n",
        "findspark.init()\n",
        "import pandas as pd\n"
      ]
    },
    {
      "cell_type": "code",
      "execution_count": 3,
      "metadata": {
        "colab": {
          "base_uri": "https://localhost:8080/"
        },
        "id": "Ngo81n4PP7lQ",
        "outputId": "909e2c03-de95-4341-9ccf-9ed1712310d5"
      },
      "outputs": [
        {
          "output_type": "stream",
          "name": "stdout",
          "text": [
            "--2022-05-05 15:07:04--  https://jdbc.postgresql.org/download/postgresql-42.2.9.jar\n",
            "Resolving jdbc.postgresql.org (jdbc.postgresql.org)... 72.32.157.228, 2001:4800:3e1:1::228\n",
            "Connecting to jdbc.postgresql.org (jdbc.postgresql.org)|72.32.157.228|:443... connected.\n",
            "HTTP request sent, awaiting response... 200 OK\n",
            "Length: 914037 (893K) [application/java-archive]\n",
            "Saving to: ‘postgresql-42.2.9.jar.1’\n",
            "\n",
            "postgresql-42.2.9.j 100%[===================>] 892.61K  --.-KB/s    in 0.1s    \n",
            "\n",
            "2022-05-05 15:07:04 (5.97 MB/s) - ‘postgresql-42.2.9.jar.1’ saved [914037/914037]\n",
            "\n"
          ]
        }
      ],
      "source": [
        "!wget https://jdbc.postgresql.org/download/postgresql-42.2.9.jar"
      ]
    },
    {
      "cell_type": "code",
      "execution_count": 4,
      "metadata": {
        "id": "xq_WyoHHP8Ws"
      },
      "outputs": [],
      "source": [
        "from pyspark.sql import SparkSession\n",
        "spark = SparkSession.builder.appName(\"CloudETL\").config(\"spark.driver.extraClassPath\",\"/content/postgresql-42.2.9.jar\").getOrCreate()"
      ]
    },
    {
      "cell_type": "code",
      "execution_count": 5,
      "metadata": {
        "colab": {
          "base_uri": "https://localhost:8080/"
        },
        "id": "7mfk0hh_P_U0",
        "outputId": "3e933b5a-3dda-4db7-aff3-0c51ee4c6384"
      },
      "outputs": [
        {
          "output_type": "stream",
          "name": "stdout",
          "text": [
            "+---+-----+------+----+------------+-------------+------------+-------------+--------------+-----------------+-----------+---------------+------+\n",
            "|_c0|   id|gender| age|hypertension|heart_disease|ever_married|    work_type|Residence_type|avg_glucose_level|        bmi| smoking_status|stroke|\n",
            "+---+-----+------+----+------------+-------------+------------+-------------+--------------+-----------------+-----------+---------------+------+\n",
            "|  0| 9046|  Male|67.0|           0|            1|         Yes|      Private|         Urban|           228.69|       36.6|formerly smoked|     1|\n",
            "|  1|51676|Female|61.0|           0|            0|         Yes|Self-employed|         Rural|           202.21|28.89323691|   never smoked|     1|\n",
            "|  2|31112|  Male|80.0|           0|            1|         Yes|      Private|         Rural|           105.92|       32.5|   never smoked|     1|\n",
            "|  3|60182|Female|49.0|           0|            0|         Yes|      Private|         Urban|           171.23|       34.4|         smokes|     1|\n",
            "|  4| 1665|Female|79.0|           1|            0|         Yes|Self-employed|         Rural|           174.12|       24.0|   never smoked|     1|\n",
            "|  5|56669|  Male|81.0|           0|            0|         Yes|      Private|         Urban|           186.21|       29.0|formerly smoked|     1|\n",
            "|  6|53882|  Male|74.0|           1|            1|         Yes|      Private|         Rural|            70.09|       27.4|   never smoked|     1|\n",
            "|  7|10434|Female|69.0|           0|            0|          No|      Private|         Urban|            94.39|       22.8|   never smoked|     1|\n",
            "|  8|27419|Female|59.0|           0|            0|         Yes|      Private|         Rural|            76.15|28.89323691|        Unknown|     1|\n",
            "|  9|60491|Female|78.0|           0|            0|         Yes|      Private|         Urban|            58.57|       24.2|        Unknown|     1|\n",
            "+---+-----+------+----+------------+-------------+------------+-------------+--------------+-----------------+-----------+---------------+------+\n",
            "only showing top 10 rows\n",
            "\n"
          ]
        }
      ],
      "source": [
        "from pyspark import SparkFiles\n",
        "url =\"https://project-4.s3.eu-west-2.amazonaws.com/healthcare-dataset-stroke-data.csv\"\n",
        "spark.sparkContext.addFile(url)\n",
        "stroke_data = spark.read.csv(SparkFiles.get(\"healthcare-dataset-stroke-data.csv\"), header=True, inferSchema=True)\n",
        "\n",
        "stroke_data.show(10)"
      ]
    },
    {
      "cell_type": "code",
      "execution_count": 11,
      "metadata": {
        "colab": {
          "base_uri": "https://localhost:8080/"
        },
        "id": "gGTU3I_ymmPI",
        "outputId": "3fc13bee-bd0b-4641-93e4-7eab34d60c2a"
      },
      "outputs": [
        {
          "output_type": "stream",
          "name": "stdout",
          "text": [
            "root\n",
            " |-- id: integer (nullable = true)\n",
            " |-- gender: string (nullable = true)\n",
            " |-- age: double (nullable = true)\n",
            " |-- hypertension: integer (nullable = true)\n",
            " |-- heart_disease: integer (nullable = true)\n",
            " |-- ever_married: string (nullable = true)\n",
            " |-- work_type: string (nullable = true)\n",
            " |-- Residence_type: string (nullable = true)\n",
            " |-- avg_glucose_level: double (nullable = true)\n",
            " |-- bmi: double (nullable = true)\n",
            " |-- smoking_status: string (nullable = true)\n",
            " |-- stroke: integer (nullable = true)\n",
            "\n"
          ]
        }
      ],
      "source": [
        "stroke_df = stroke_data.select([\"id\",\"gender\", \"age\", \"hypertension\", \"heart_disease\", \"ever_married\",\"work_type\",\"Residence_type\",\"avg_glucose_level\",\"bmi\",\"smoking_status\",\"stroke\"])\n",
        "stroke_df.printSchema()"
      ]
    },
    {
      "cell_type": "markdown",
      "source": [
        " **Load the DataFrame**"
      ],
      "metadata": {
        "id": "cqwXKPnu1Vpf"
      }
    },
    {
      "cell_type": "code",
      "execution_count": 14,
      "metadata": {
        "id": "vygsXCndGISc"
      },
      "outputs": [],
      "source": [
        "mode=\"append\"\n",
        "jdbc_url = \"jdbc:postgresql://<ENDPOINT REMOVED>/stroke_data\"\n",
        "config = {\"user\":\"root\",\n",
        "          \"password\": \"<PASSWORD REMOVED>\",\n",
        "          \"driver\":\"org.postgresql.Driver\"}"
      ]
    },
    {
      "cell_type": "code",
      "execution_count": 15,
      "metadata": {
        "id": "7qTTAVSBlrH0"
      },
      "outputs": [],
      "source": [
        "#Write dataframe to stroke_dataset\n",
        "stroke_df.write.jdbc(url=jdbc_url, table='stroke_dataset', mode=mode, properties=config)"
      ]
    },
    {
      "cell_type": "code",
      "execution_count": null,
      "metadata": {
        "id": "MRotf9sDmbFy"
      },
      "outputs": [],
      "source": [
        ""
      ]
    }
  ],
  "metadata": {
    "colab": {
      "collapsed_sections": [],
      "name": "stroke_Dataset_S3_bucke.ipynb",
      "provenance": []
    },
    "kernelspec": {
      "display_name": "Python 3",
      "name": "python3"
    },
    "language_info": {
      "name": "python"
    }
  },
  "nbformat": 4,
  "nbformat_minor": 0
}