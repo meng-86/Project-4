{
 "cells": [
  {
   "cell_type": "code",
   "execution_count": 45,
   "id": "b573df1a",
   "metadata": {},
   "outputs": [],
   "source": [
    "# import libraries\n",
    "import numpy as np # linear algebra\n",
    "import pandas as pd # data processing, CSV file I/O (e.g. pd.read_csv)\n",
    "from sklearn.impute import KNNImputer\n",
    "import matplotlib.pyplot as plt\n",
    "import seaborn as sns\n",
    "from sklearn.preprocessing import LabelEncoder\n",
    "from sklearn.preprocessing import MinMaxScaler\n",
    "import scipy.stats as stats\n",
    "from sklearn.ensemble import RandomForestClassifier, AdaBoostClassifier, GradientBoostingClassifier, VotingClassifier\n",
    "from sklearn.linear_model import LogisticRegression\n",
    "from sklearn.neighbors import KNeighborsClassifier\n",
    "from sklearn.tree import DecisionTreeClassifier\n",
    "from sklearn.svm import SVC\n",
    "from sklearn.model_selection import GridSearchCV, cross_val_score, StratifiedKFold, learning_curve\n",
    "\n",
    "import os\n"
   ]
  },
  {
   "cell_type": "markdown",
   "id": "ef16adf4",
   "metadata": {},
   "source": [
    "# Data Analysis"
   ]
  },
  {
   "cell_type": "code",
   "execution_count": 46,
   "id": "eab6b88d",
   "metadata": {},
   "outputs": [
    {
     "data": {
      "text/html": [
       "<div>\n",
       "<style scoped>\n",
       "    .dataframe tbody tr th:only-of-type {\n",
       "        vertical-align: middle;\n",
       "    }\n",
       "\n",
       "    .dataframe tbody tr th {\n",
       "        vertical-align: top;\n",
       "    }\n",
       "\n",
       "    .dataframe thead th {\n",
       "        text-align: right;\n",
       "    }\n",
       "</style>\n",
       "<table border=\"1\" class=\"dataframe\">\n",
       "  <thead>\n",
       "    <tr style=\"text-align: right;\">\n",
       "      <th></th>\n",
       "      <th>id</th>\n",
       "      <th>age</th>\n",
       "      <th>hypertension</th>\n",
       "      <th>heart_disease</th>\n",
       "      <th>avg_glucose_level</th>\n",
       "      <th>bmi</th>\n",
       "      <th>stroke</th>\n",
       "    </tr>\n",
       "  </thead>\n",
       "  <tbody>\n",
       "    <tr>\n",
       "      <th>count</th>\n",
       "      <td>5110.000000</td>\n",
       "      <td>5110.000000</td>\n",
       "      <td>5110.000000</td>\n",
       "      <td>5110.000000</td>\n",
       "      <td>5110.000000</td>\n",
       "      <td>4909.000000</td>\n",
       "      <td>5110.000000</td>\n",
       "    </tr>\n",
       "    <tr>\n",
       "      <th>mean</th>\n",
       "      <td>36517.829354</td>\n",
       "      <td>43.226614</td>\n",
       "      <td>0.097456</td>\n",
       "      <td>0.054012</td>\n",
       "      <td>106.147677</td>\n",
       "      <td>28.893237</td>\n",
       "      <td>0.048728</td>\n",
       "    </tr>\n",
       "    <tr>\n",
       "      <th>std</th>\n",
       "      <td>21161.721625</td>\n",
       "      <td>22.612647</td>\n",
       "      <td>0.296607</td>\n",
       "      <td>0.226063</td>\n",
       "      <td>45.283560</td>\n",
       "      <td>7.854067</td>\n",
       "      <td>0.215320</td>\n",
       "    </tr>\n",
       "    <tr>\n",
       "      <th>min</th>\n",
       "      <td>67.000000</td>\n",
       "      <td>0.080000</td>\n",
       "      <td>0.000000</td>\n",
       "      <td>0.000000</td>\n",
       "      <td>55.120000</td>\n",
       "      <td>10.300000</td>\n",
       "      <td>0.000000</td>\n",
       "    </tr>\n",
       "    <tr>\n",
       "      <th>25%</th>\n",
       "      <td>17741.250000</td>\n",
       "      <td>25.000000</td>\n",
       "      <td>0.000000</td>\n",
       "      <td>0.000000</td>\n",
       "      <td>77.245000</td>\n",
       "      <td>23.500000</td>\n",
       "      <td>0.000000</td>\n",
       "    </tr>\n",
       "    <tr>\n",
       "      <th>50%</th>\n",
       "      <td>36932.000000</td>\n",
       "      <td>45.000000</td>\n",
       "      <td>0.000000</td>\n",
       "      <td>0.000000</td>\n",
       "      <td>91.885000</td>\n",
       "      <td>28.100000</td>\n",
       "      <td>0.000000</td>\n",
       "    </tr>\n",
       "    <tr>\n",
       "      <th>75%</th>\n",
       "      <td>54682.000000</td>\n",
       "      <td>61.000000</td>\n",
       "      <td>0.000000</td>\n",
       "      <td>0.000000</td>\n",
       "      <td>114.090000</td>\n",
       "      <td>33.100000</td>\n",
       "      <td>0.000000</td>\n",
       "    </tr>\n",
       "    <tr>\n",
       "      <th>max</th>\n",
       "      <td>72940.000000</td>\n",
       "      <td>82.000000</td>\n",
       "      <td>1.000000</td>\n",
       "      <td>1.000000</td>\n",
       "      <td>271.740000</td>\n",
       "      <td>97.600000</td>\n",
       "      <td>1.000000</td>\n",
       "    </tr>\n",
       "  </tbody>\n",
       "</table>\n",
       "</div>"
      ],
      "text/plain": [
       "                 id          age  hypertension  heart_disease  \\\n",
       "count   5110.000000  5110.000000   5110.000000    5110.000000   \n",
       "mean   36517.829354    43.226614      0.097456       0.054012   \n",
       "std    21161.721625    22.612647      0.296607       0.226063   \n",
       "min       67.000000     0.080000      0.000000       0.000000   \n",
       "25%    17741.250000    25.000000      0.000000       0.000000   \n",
       "50%    36932.000000    45.000000      0.000000       0.000000   \n",
       "75%    54682.000000    61.000000      0.000000       0.000000   \n",
       "max    72940.000000    82.000000      1.000000       1.000000   \n",
       "\n",
       "       avg_glucose_level          bmi       stroke  \n",
       "count        5110.000000  4909.000000  5110.000000  \n",
       "mean          106.147677    28.893237     0.048728  \n",
       "std            45.283560     7.854067     0.215320  \n",
       "min            55.120000    10.300000     0.000000  \n",
       "25%            77.245000    23.500000     0.000000  \n",
       "50%            91.885000    28.100000     0.000000  \n",
       "75%           114.090000    33.100000     0.000000  \n",
       "max           271.740000    97.600000     1.000000  "
      ]
     },
     "execution_count": 46,
     "metadata": {},
     "output_type": "execute_result"
    }
   ],
   "source": [
    "df = pd.read_csv('Data/healthcare-dataset-stroke-data.csv')\n",
    "df.describe()"
   ]
  },
  {
   "cell_type": "code",
   "execution_count": 47,
   "id": "fb0602b2",
   "metadata": {},
   "outputs": [
    {
     "data": {
      "text/plain": [
       "id                     int64\n",
       "gender                object\n",
       "age                  float64\n",
       "hypertension           int64\n",
       "heart_disease          int64\n",
       "ever_married          object\n",
       "work_type             object\n",
       "Residence_type        object\n",
       "avg_glucose_level    float64\n",
       "bmi                  float64\n",
       "smoking_status        object\n",
       "stroke                 int64\n",
       "dtype: object"
      ]
     },
     "execution_count": 47,
     "metadata": {},
     "output_type": "execute_result"
    }
   ],
   "source": [
    "df.dtypes"
   ]
  },
  {
   "cell_type": "code",
   "execution_count": 48,
   "id": "a17c1eb0",
   "metadata": {},
   "outputs": [
    {
     "data": {
      "text/plain": [
       "id                     0\n",
       "gender                 0\n",
       "age                    0\n",
       "hypertension           0\n",
       "heart_disease          0\n",
       "ever_married           0\n",
       "work_type              0\n",
       "Residence_type         0\n",
       "avg_glucose_level      0\n",
       "bmi                  201\n",
       "smoking_status         0\n",
       "stroke                 0\n",
       "dtype: int64"
      ]
     },
     "execution_count": 48,
     "metadata": {},
     "output_type": "execute_result"
    }
   ],
   "source": [
    "df.isna().sum()"
   ]
  },
  {
   "cell_type": "code",
   "execution_count": 49,
   "id": "618eb192",
   "metadata": {},
   "outputs": [],
   "source": [
    "df['bmi']=df['bmi'].fillna(np.mean(df['bmi']))"
   ]
  },
  {
   "cell_type": "code",
   "execution_count": 50,
   "id": "1a2ba163",
   "metadata": {},
   "outputs": [
    {
     "data": {
      "text/html": [
       "<div>\n",
       "<style scoped>\n",
       "    .dataframe tbody tr th:only-of-type {\n",
       "        vertical-align: middle;\n",
       "    }\n",
       "\n",
       "    .dataframe tbody tr th {\n",
       "        vertical-align: top;\n",
       "    }\n",
       "\n",
       "    .dataframe thead th {\n",
       "        text-align: right;\n",
       "    }\n",
       "</style>\n",
       "<table border=\"1\" class=\"dataframe\">\n",
       "  <thead>\n",
       "    <tr style=\"text-align: right;\">\n",
       "      <th></th>\n",
       "      <th>number of null values</th>\n",
       "    </tr>\n",
       "  </thead>\n",
       "  <tbody>\n",
       "    <tr>\n",
       "      <th>id</th>\n",
       "      <td>0</td>\n",
       "    </tr>\n",
       "    <tr>\n",
       "      <th>gender</th>\n",
       "      <td>0</td>\n",
       "    </tr>\n",
       "    <tr>\n",
       "      <th>age</th>\n",
       "      <td>0</td>\n",
       "    </tr>\n",
       "    <tr>\n",
       "      <th>hypertension</th>\n",
       "      <td>0</td>\n",
       "    </tr>\n",
       "    <tr>\n",
       "      <th>heart_disease</th>\n",
       "      <td>0</td>\n",
       "    </tr>\n",
       "    <tr>\n",
       "      <th>ever_married</th>\n",
       "      <td>0</td>\n",
       "    </tr>\n",
       "    <tr>\n",
       "      <th>work_type</th>\n",
       "      <td>0</td>\n",
       "    </tr>\n",
       "    <tr>\n",
       "      <th>Residence_type</th>\n",
       "      <td>0</td>\n",
       "    </tr>\n",
       "    <tr>\n",
       "      <th>avg_glucose_level</th>\n",
       "      <td>0</td>\n",
       "    </tr>\n",
       "    <tr>\n",
       "      <th>bmi</th>\n",
       "      <td>0</td>\n",
       "    </tr>\n",
       "    <tr>\n",
       "      <th>smoking_status</th>\n",
       "      <td>0</td>\n",
       "    </tr>\n",
       "    <tr>\n",
       "      <th>stroke</th>\n",
       "      <td>0</td>\n",
       "    </tr>\n",
       "  </tbody>\n",
       "</table>\n",
       "</div>"
      ],
      "text/plain": [
       "                   number of null values\n",
       "id                                     0\n",
       "gender                                 0\n",
       "age                                    0\n",
       "hypertension                           0\n",
       "heart_disease                          0\n",
       "ever_married                           0\n",
       "work_type                              0\n",
       "Residence_type                         0\n",
       "avg_glucose_level                      0\n",
       "bmi                                    0\n",
       "smoking_status                         0\n",
       "stroke                                 0"
      ]
     },
     "execution_count": 50,
     "metadata": {},
     "output_type": "execute_result"
    }
   ],
   "source": [
    "pd.DataFrame({\"number of null values\":df.isna().sum()})"
   ]
  },
  {
   "cell_type": "code",
   "execution_count": 51,
   "id": "130f47a7",
   "metadata": {},
   "outputs": [
    {
     "name": "stdout",
     "output_type": "stream",
     "text": [
      "(5110, 11)\n"
     ]
    },
    {
     "data": {
      "text/plain": [
       "(249, 11)"
      ]
     },
     "execution_count": 51,
     "metadata": {},
     "output_type": "execute_result"
    }
   ],
   "source": [
    "# drope id column as a column without effective information\n",
    "\n",
    "df.drop(\"id\", axis=1, inplace=True)\n",
    "print(df.shape)\n",
    "df.head(5)\n",
    "pa = df.loc[df['stroke'] == 1]\n",
    "pa.shape\n"
   ]
  },
  {
   "cell_type": "code",
   "execution_count": 83,
   "id": "7df51805",
   "metadata": {},
   "outputs": [
    {
     "name": "stdout",
     "output_type": "stream",
     "text": [
      "\n",
      "Feature: gender \n",
      "\n",
      "Female    2994\n",
      "Male      2115\n",
      "Other        1\n",
      "Name: gender, dtype: int64\n",
      "\n",
      "Feature: ever_married \n",
      "\n",
      "Yes    3353\n",
      "No     1757\n",
      "Name: ever_married, dtype: int64\n",
      "\n",
      "Feature: work_type \n",
      "\n",
      "Private          2925\n",
      "Self-employed     819\n",
      "children          687\n",
      "Govt_job          657\n",
      "Never_worked       22\n",
      "Name: work_type, dtype: int64\n",
      "\n",
      "Feature: Residence_type \n",
      "\n",
      "Urban    2596\n",
      "Rural    2514\n",
      "Name: Residence_type, dtype: int64\n",
      "\n",
      "Feature: smoking_status \n",
      "\n",
      "never smoked       1892\n",
      "Unknown            1544\n",
      "formerly smoked     885\n",
      "smokes              789\n",
      "Name: smoking_status, dtype: int64\n"
     ]
    }
   ],
   "source": [
    "cat_var = [\"gender\", \"ever_married\", \"work_type\", \"Residence_type\", \"smoking_status\"]\n",
    "for i in cat_var:\n",
    "    print(\"\\nFeature: %s \\n\" % (i))\n",
    "    print(df[i].value_counts())\n",
    "    "
   ]
  },
  {
   "cell_type": "code",
   "execution_count": 84,
   "id": "dec6c396",
   "metadata": {},
   "outputs": [
    {
     "data": {
      "text/html": [
       "<div>\n",
       "<style scoped>\n",
       "    .dataframe tbody tr th:only-of-type {\n",
       "        vertical-align: middle;\n",
       "    }\n",
       "\n",
       "    .dataframe tbody tr th {\n",
       "        vertical-align: top;\n",
       "    }\n",
       "\n",
       "    .dataframe thead th {\n",
       "        text-align: right;\n",
       "    }\n",
       "</style>\n",
       "<table border=\"1\" class=\"dataframe\">\n",
       "  <thead>\n",
       "    <tr style=\"text-align: right;\">\n",
       "      <th></th>\n",
       "      <th>gender</th>\n",
       "      <th>age</th>\n",
       "      <th>hypertension</th>\n",
       "      <th>heart_disease</th>\n",
       "      <th>ever_married</th>\n",
       "      <th>work_type</th>\n",
       "      <th>Residence_type</th>\n",
       "      <th>avg_glucose_level</th>\n",
       "      <th>bmi</th>\n",
       "      <th>smoking_status</th>\n",
       "      <th>stroke</th>\n",
       "    </tr>\n",
       "  </thead>\n",
       "  <tbody>\n",
       "    <tr>\n",
       "      <th>0</th>\n",
       "      <td>1</td>\n",
       "      <td>67.0</td>\n",
       "      <td>0</td>\n",
       "      <td>1</td>\n",
       "      <td>1</td>\n",
       "      <td>0.572323</td>\n",
       "      <td>1</td>\n",
       "      <td>228.69</td>\n",
       "      <td>36.600000</td>\n",
       "      <td>0.173028</td>\n",
       "      <td>1</td>\n",
       "    </tr>\n",
       "    <tr>\n",
       "      <th>1</th>\n",
       "      <td>0</td>\n",
       "      <td>61.0</td>\n",
       "      <td>0</td>\n",
       "      <td>0</td>\n",
       "      <td>1</td>\n",
       "      <td>0.160305</td>\n",
       "      <td>0</td>\n",
       "      <td>202.21</td>\n",
       "      <td>28.893237</td>\n",
       "      <td>0.370327</td>\n",
       "      <td>1</td>\n",
       "    </tr>\n",
       "    <tr>\n",
       "      <th>2</th>\n",
       "      <td>1</td>\n",
       "      <td>80.0</td>\n",
       "      <td>0</td>\n",
       "      <td>1</td>\n",
       "      <td>1</td>\n",
       "      <td>0.572323</td>\n",
       "      <td>0</td>\n",
       "      <td>105.92</td>\n",
       "      <td>32.500000</td>\n",
       "      <td>0.370327</td>\n",
       "      <td>1</td>\n",
       "    </tr>\n",
       "    <tr>\n",
       "      <th>3</th>\n",
       "      <td>0</td>\n",
       "      <td>49.0</td>\n",
       "      <td>0</td>\n",
       "      <td>0</td>\n",
       "      <td>1</td>\n",
       "      <td>0.572323</td>\n",
       "      <td>1</td>\n",
       "      <td>171.23</td>\n",
       "      <td>34.400000</td>\n",
       "      <td>0.154433</td>\n",
       "      <td>1</td>\n",
       "    </tr>\n",
       "    <tr>\n",
       "      <th>4</th>\n",
       "      <td>0</td>\n",
       "      <td>79.0</td>\n",
       "      <td>1</td>\n",
       "      <td>0</td>\n",
       "      <td>1</td>\n",
       "      <td>0.160305</td>\n",
       "      <td>0</td>\n",
       "      <td>174.12</td>\n",
       "      <td>24.000000</td>\n",
       "      <td>0.370327</td>\n",
       "      <td>1</td>\n",
       "    </tr>\n",
       "  </tbody>\n",
       "</table>\n",
       "</div>"
      ],
      "text/plain": [
       "   gender   age  hypertension  heart_disease  ever_married  work_type  \\\n",
       "0       1  67.0             0              1             1   0.572323   \n",
       "1       0  61.0             0              0             1   0.160305   \n",
       "2       1  80.0             0              1             1   0.572323   \n",
       "3       0  49.0             0              0             1   0.572323   \n",
       "4       0  79.0             1              0             1   0.160305   \n",
       "\n",
       "   Residence_type  avg_glucose_level        bmi  smoking_status  stroke  \n",
       "0               1             228.69  36.600000        0.173028       1  \n",
       "1               0             202.21  28.893237        0.370327       1  \n",
       "2               0             105.92  32.500000        0.370327       1  \n",
       "3               1             171.23  34.400000        0.154433       1  \n",
       "4               0             174.12  24.000000        0.370327       1  "
      ]
     },
     "execution_count": 84,
     "metadata": {},
     "output_type": "execute_result"
    }
   ],
   "source": [
    "# Gender\n",
    "df.drop(df[df.gender == 'Other'].index, axis = 0, inplace=True)\n",
    "data_copy = df.copy()\n",
    "\n",
    "# Dummy Encoding\n",
    "dummy_df = pd.get_dummies(df.iloc[:, [0, 4, 6]], drop_first=True)\n",
    "df['gender'] = dummy_df.iloc[:, 0]\n",
    "df['ever_married'] = dummy_df.iloc[:, 1]\n",
    "df['Residence_type'] = dummy_df.iloc[:, 2]\n",
    "\n",
    "# Frequency Encoding\n",
    "freq_smoking = (df.groupby('smoking_status').size()) / len(df)\n",
    "freq_smoking['Unknown'] = 0 \n",
    "df['smoking_status'] = df['smoking_status'].apply(lambda x : freq_smoking[x])\n",
    "\n",
    "freq_work = (df.groupby('work_type').size()) / len(df)\n",
    "df['work_type'] = df['work_type'].apply(lambda x : freq_work[x])\n",
    "data= df\n",
    "df.head()"
   ]
  },
  {
   "cell_type": "markdown",
   "id": "f150049e",
   "metadata": {},
   "source": [
    "## Scaling the data"
   ]
  },
  {
   "cell_type": "code",
   "execution_count": 85,
   "id": "f0ca7977",
   "metadata": {},
   "outputs": [
    {
     "name": "stdout",
     "output_type": "stream",
     "text": [
      "Highest allowed:  111.07071222164141\n",
      "Lowest allowed:  -24.610739624264212\n",
      "0\n",
      "avg_glucose_level\n",
      "Highest allowed 241.99541029257045\n",
      "Lowest allowed -29.71461170184851\n",
      "49\n",
      "bmi\n",
      "Highest allowed:  51.98921322355169\n",
      "Lowest allowed:  5.799802481780482\n",
      "59\n"
     ]
    }
   ],
   "source": [
    "upper_fence_age = data[\"age\"].mean() + 3*data[\"age\"].std()\n",
    "lower_fence_age = data[\"age\"].mean() - 3*data[\"age\"].std()\n",
    "print(\"Highest allowed: \", upper_fence_age)\n",
    "print(\"Lowest allowed: \", lower_fence_age)\n",
    "outliers_age = data[(data[\"age\"] > upper_fence_age) | (data[\"age\"] < lower_fence_age)]\n",
    "print(outliers_age.shape[0])\n",
    "\n",
    "print(\"avg_glucose_level\")\n",
    "upper_fence_glucose = data[\"avg_glucose_level\"].mean() + 3*data[\"avg_glucose_level\"].std()\n",
    "lower_fence_glucose = data[\"avg_glucose_level\"].mean() - 3*data[\"avg_glucose_level\"].std()\n",
    "print(\"Highest allowed\",upper_fence_glucose)\n",
    "print(\"Lowest allowed\", lower_fence_glucose)\n",
    "outliers_glucose = data[(data[\"avg_glucose_level\"] > upper_fence_glucose) | (data[\"avg_glucose_level\"] < lower_fence_glucose)]\n",
    "print(outliers_glucose.shape[0])\n",
    "\n",
    "print(\"bmi\")\n",
    "upper_fence_bmi = data[\"bmi\"].mean() + 3*data[\"bmi\"].std()\n",
    "lower_fence_bmi = data[\"bmi\"].mean() - 3*data[\"bmi\"].std()\n",
    "print(\"Highest allowed: \", upper_fence_bmi)\n",
    "print(\"Lowest allowed: \", lower_fence_bmi)\n",
    "outliers_bmi = data[(data[\"bmi\"] > upper_fence_bmi) | (data[\"bmi\"] < lower_fence_bmi)]\n",
    "print(outliers_bmi.shape[0])"
   ]
  },
  {
   "cell_type": "code",
   "execution_count": 86,
   "id": "11ec0a24",
   "metadata": {},
   "outputs": [],
   "source": [
    "outliers = pd.concat([outliers_glucose,outliers_bmi]).drop_duplicates()\n",
    "data.drop(outliers.index, axis=0, inplace=True)"
   ]
  },
  {
   "cell_type": "code",
   "execution_count": 87,
   "id": "7a56aa60",
   "metadata": {},
   "outputs": [
    {
     "data": {
      "text/html": [
       "<div>\n",
       "<style scoped>\n",
       "    .dataframe tbody tr th:only-of-type {\n",
       "        vertical-align: middle;\n",
       "    }\n",
       "\n",
       "    .dataframe tbody tr th {\n",
       "        vertical-align: top;\n",
       "    }\n",
       "\n",
       "    .dataframe thead th {\n",
       "        text-align: right;\n",
       "    }\n",
       "</style>\n",
       "<table border=\"1\" class=\"dataframe\">\n",
       "  <thead>\n",
       "    <tr style=\"text-align: right;\">\n",
       "      <th></th>\n",
       "      <th>gender</th>\n",
       "      <th>age</th>\n",
       "      <th>hypertension</th>\n",
       "      <th>heart_disease</th>\n",
       "      <th>ever_married</th>\n",
       "      <th>work_type</th>\n",
       "      <th>Residence_type</th>\n",
       "      <th>avg_glucose_level</th>\n",
       "      <th>bmi</th>\n",
       "      <th>smoking_status</th>\n",
       "      <th>stroke</th>\n",
       "    </tr>\n",
       "  </thead>\n",
       "  <tbody>\n",
       "    <tr>\n",
       "      <th>0</th>\n",
       "      <td>1</td>\n",
       "      <td>0.816895</td>\n",
       "      <td>0</td>\n",
       "      <td>1</td>\n",
       "      <td>1</td>\n",
       "      <td>0.572323</td>\n",
       "      <td>1</td>\n",
       "      <td>0.934478</td>\n",
       "      <td>0.632212</td>\n",
       "      <td>0.173028</td>\n",
       "      <td>1</td>\n",
       "    </tr>\n",
       "    <tr>\n",
       "      <th>1</th>\n",
       "      <td>0</td>\n",
       "      <td>0.743652</td>\n",
       "      <td>0</td>\n",
       "      <td>0</td>\n",
       "      <td>1</td>\n",
       "      <td>0.160305</td>\n",
       "      <td>0</td>\n",
       "      <td>0.791913</td>\n",
       "      <td>0.446953</td>\n",
       "      <td>0.370327</td>\n",
       "      <td>1</td>\n",
       "    </tr>\n",
       "    <tr>\n",
       "      <th>2</th>\n",
       "      <td>1</td>\n",
       "      <td>0.975586</td>\n",
       "      <td>0</td>\n",
       "      <td>1</td>\n",
       "      <td>1</td>\n",
       "      <td>0.572323</td>\n",
       "      <td>0</td>\n",
       "      <td>0.273501</td>\n",
       "      <td>0.533654</td>\n",
       "      <td>0.370327</td>\n",
       "      <td>1</td>\n",
       "    </tr>\n",
       "  </tbody>\n",
       "</table>\n",
       "</div>"
      ],
      "text/plain": [
       "   gender       age  hypertension  heart_disease  ever_married  work_type  \\\n",
       "0       1  0.816895             0              1             1   0.572323   \n",
       "1       0  0.743652             0              0             1   0.160305   \n",
       "2       1  0.975586             0              1             1   0.572323   \n",
       "\n",
       "   Residence_type  avg_glucose_level       bmi  smoking_status  stroke  \n",
       "0               1           0.934478  0.632212        0.173028       1  \n",
       "1               0           0.791913  0.446953        0.370327       1  \n",
       "2               0           0.273501  0.533654        0.370327       1  "
      ]
     },
     "execution_count": 87,
     "metadata": {},
     "output_type": "execute_result"
    }
   ],
   "source": [
    "scaler = MinMaxScaler()\n",
    "data[[\"age\", \"avg_glucose_level\", \"bmi\"]] = scaler.fit_transform(data[[\"age\", \"avg_glucose_level\", \"bmi\"]])\n",
    "data.head(3)"
   ]
  },
  {
   "cell_type": "code",
   "execution_count": 88,
   "id": "6e46a0e1",
   "metadata": {},
   "outputs": [
    {
     "name": "stdout",
     "output_type": "stream",
     "text": [
      "> gender, Missing: 0 (0.0%)\n",
      "> age, Missing: 0 (0.0%)\n",
      "> hypertension, Missing: 0 (0.0%)\n",
      "> heart_disease, Missing: 0 (0.0%)\n",
      "> ever_married, Missing: 0 (0.0%)\n",
      "> work_type, Missing: 0 (0.0%)\n",
      "> Residence_type, Missing: 0 (0.0%)\n",
      "> avg_glucose_level, Missing: 0 (0.0%)\n",
      "> bmi, Missing: 0 (0.0%)\n",
      "> smoking_status, Missing: 0 (0.0%)\n",
      "> stroke, Missing: 0 (0.0%)\n"
     ]
    }
   ],
   "source": [
    "# summarize the number of rows with missing values for each column, doublec check \n",
    "for i in range(data.shape[1]):\n",
    "    n_miss = data.iloc[:, i].isnull().sum()\n",
    "    perc = n_miss / data.shape[0] * 100\n",
    "    print('> %s, Missing: %d (%.1f%%)' % (data.columns[i], n_miss, perc))"
   ]
  },
  {
   "cell_type": "code",
   "execution_count": 89,
   "id": "8776e441",
   "metadata": {},
   "outputs": [
    {
     "data": {
      "text/plain": [
       "239"
      ]
     },
     "execution_count": 89,
     "metadata": {},
     "output_type": "execute_result"
    }
   ],
   "source": [
    "# data shape\n",
    "data.loc[data.stroke == 1].shape[0]"
   ]
  },
  {
   "cell_type": "code",
   "execution_count": 90,
   "id": "c7ff270c",
   "metadata": {},
   "outputs": [
    {
     "data": {
      "text/plain": [
       "0"
      ]
     },
     "execution_count": 90,
     "metadata": {},
     "output_type": "execute_result"
    }
   ],
   "source": [
    "data.loc[(data.bmi.isna() == True) & (data.stroke == 1)].shape[0]"
   ]
  },
  {
   "cell_type": "code",
   "execution_count": 91,
   "id": "1b26eeca",
   "metadata": {},
   "outputs": [
    {
     "data": {
      "text/plain": [
       "gender               False\n",
       "age                  False\n",
       "hypertension         False\n",
       "heart_disease        False\n",
       "ever_married         False\n",
       "work_type            False\n",
       "Residence_type       False\n",
       "avg_glucose_level    False\n",
       "bmi                  False\n",
       "smoking_status       False\n",
       "stroke               False\n",
       "dtype: bool"
      ]
     },
     "execution_count": 91,
     "metadata": {},
     "output_type": "execute_result"
    }
   ],
   "source": [
    "imputer = KNNImputer(n_neighbors=5)\n",
    "data = pd.DataFrame(imputer.fit_transform(data), columns=data.columns)\n",
    "data.isna().any()"
   ]
  },
  {
   "cell_type": "markdown",
   "id": "03791ec4",
   "metadata": {},
   "source": [
    "# Exploratory Data Analysis (EDA)"
   ]
  },
  {
   "cell_type": "code",
   "execution_count": 92,
   "id": "764b851d",
   "metadata": {},
   "outputs": [
    {
     "data": {
      "text/plain": [
       "<AxesSubplot:>"
      ]
     },
     "execution_count": 92,
     "metadata": {},
     "output_type": "execute_result"
    },
    {
     "data": {
      "image/png": "[encoded data removed]",
      "text/plain": [
       "<Figure size 432x288 with 2 Axes>"
      ]
     },
     "metadata": {
      "needs_background": "light"
     },
     "output_type": "display_data"
    }
   ],
   "source": [
    "# Pearson correlations \n",
    "\n",
    "sns.heatmap(data[[\"age\", 'work_type', 'avg_glucose_level', 'bmi', 'smoking_status']].corr(), vmin=-1, vmax=1, annot=True)"
   ]
  },
  {
   "cell_type": "code",
   "execution_count": 93,
   "id": "47e5d968",
   "metadata": {},
   "outputs": [
    {
     "data": {
      "image/png": "[encoded data removed]",
      "text/plain": [
       "<Figure size 216x216 with 1 Axes>"
      ]
     },
     "metadata": {
      "needs_background": "light"
     },
     "output_type": "display_data"
    },
    {
     "data": {
      "image/png": "[encoded data removed]",
      "text/plain": [
       "<Figure size 216x216 with 1 Axes>"
      ]
     },
     "metadata": {
      "needs_background": "light"
     },
     "output_type": "display_data"
    },
    {
     "data": {
      "image/png": "[encoded data removed]",
      "text/plain": [
       "<Figure size 216x216 with 1 Axes>"
      ]
     },
     "metadata": {
      "needs_background": "light"
     },
     "output_type": "display_data"
    },
    {
     "data": {
      "image/png": "[encoded data removed]",
      "text/plain": [
       "<Figure size 216x216 with 1 Axes>"
      ]
     },
     "metadata": {
      "needs_background": "light"
     },
     "output_type": "display_data"
    },
    {
     "data": {
      "image/png": "[encoded data removed]",
      "text/plain": [
       "<Figure size 216x216 with 1 Axes>"
      ]
     },
     "metadata": {
      "needs_background": "light"
     },
     "output_type": "display_data"
    },
    {
     "data": {
      "image/png": "[encoded data removed]",
      "text/plain": [
       "<Figure size 216x216 with 1 Axes>"
      ]
     },
     "metadata": {
      "needs_background": "light"
     },
     "output_type": "display_data"
    },
    {
     "data": {
      "image/png": "[encoded data removed]",
      "text/plain": [
       "<Figure size 216x216 with 1 Axes>"
      ]
     },
     "metadata": {
      "needs_background": "light"
     },
     "output_type": "display_data"
    },
    {
     "data": {
      "image/png": "[encoded data removed]",
      "text/plain": [
       "<Figure size 216x216 with 1 Axes>"
      ]
     },
     "metadata": {
      "needs_background": "light"
     },
     "output_type": "display_data"
    },
    {
     "data": {
      "image/png": "[encoded data removed]",
      "text/plain": [
       "<Figure size 216x216 with 1 Axes>"
      ]
     },
     "metadata": {
      "needs_background": "light"
     },
     "output_type": "display_data"
    },
    {
     "data": {
      "image/png": "[encoded data removed]",
      "text/plain": [
       "<Figure size 216x216 with 1 Axes>"
      ]
     },
     "metadata": {
      "needs_background": "light"
     },
     "output_type": "display_data"
    }
   ],
   "source": [
    "def get_100_percent_stacked_bar_chart(column, width = 0.3):\n",
    "    # Get the count of records by column and stroke\n",
    "    df_breakdown = data_copy.groupby([column, 'stroke'])['age'].count()\n",
    "    # Get the count of records by the column\n",
    "    df_total = data_copy.groupby([column])['age'].count()\n",
    "    # Get the percentage for 100% stacked bar chart\n",
    "    df_pct = df_breakdown / df_total * 100\n",
    "    # Create proper DataFrame's format\n",
    "    df_pct = df_pct.unstack()\n",
    "    return df_pct.plot.bar(stacked=True, figsize=(3,3), width=width);\n",
    "\n",
    "# discretisize the features\n",
    "data_copy['age'] = pd.cut(data_copy['age'], np.arange(0, 91, 5))\n",
    "data_copy['bmi'] = pd.cut(data_copy['bmi'], np.arange(10, 80, 5))\n",
    "data_copy['avg_glucose_level'] = pd.cut(data_copy['avg_glucose_level'], np.arange(40, 300, 10))\n",
    "\n",
    "for i in data_copy.columns[:-1]:\n",
    "    get_100_percent_stacked_bar_chart(i)"
   ]
  },
  {
   "cell_type": "code",
   "execution_count": 94,
   "id": "3ab4c9ff",
   "metadata": {},
   "outputs": [
    {
     "name": "stdout",
     "output_type": "stream",
     "text": [
      "hypertension: \n",
      "\n",
      "OddsR:  1.194672131147541 p-Value: 0.41821936982180613\n",
      "\n",
      "heart disease: \n",
      "\n",
      "OddsR:  1.5778155940594059 p-Value: 0.03772449849987167\n"
     ]
    }
   ],
   "source": [
    "table = data_copy.groupby(\"hypertension\").sum().values\n",
    "oddsratio, pvalue = stats.fisher_exact(table)\n",
    "print(\"hypertension: \\n\")\n",
    "print(\"OddsR: \", oddsratio, \"p-Value:\", pvalue)\n",
    "\n",
    "table = data_copy.groupby(\"heart_disease\").sum().values\n",
    "oddsratio, pvalue = stats.fisher_exact(table)\n",
    "print(\"\\nheart disease: \\n\")\n",
    "print(\"OddsR: \", oddsratio, \"p-Value:\", pvalue)"
   ]
  },
  {
   "cell_type": "markdown",
   "id": "0248a90e",
   "metadata": {},
   "source": [
    "# Modelling   "
   ]
  },
  {
   "cell_type": "markdown",
   "id": "d4f92540",
   "metadata": {},
   "source": [
    "##  1. Decision Tree"
   ]
  },
  {
   "cell_type": "code",
   "execution_count": 95,
   "id": "f6c8a976",
   "metadata": {},
   "outputs": [],
   "source": [
    "X_train = data.drop('stroke', axis=1)\n",
    "y_train = data.iloc[:, -1]"
   ]
  },
  {
   "cell_type": "code",
   "execution_count": 96,
   "id": "6f5f966f",
   "metadata": {},
   "outputs": [],
   "source": [
    "random_state = 77\n",
    "kfold = StratifiedKFold(n_splits=10)\n",
    "classifiers = []\n",
    "classifiers.append(DecisionTreeClassifier(random_state=random_state))\n",
    "classifiers.append(LogisticRegression(random_state = random_state))\n",
    "classifiers.append(SVC(random_state=random_state))\n",
    "classifiers.append(AdaBoostClassifier(DecisionTreeClassifier(random_state=random_state),random_state=random_state,learning_rate=0.1))\n",
    "classifiers.append(RandomForestClassifier(random_state=random_state))\n",
    "classifiers.append(GradientBoostingClassifier(random_state=random_state))\n",
    "classifiers.append(KNeighborsClassifier())\n",
    "cv_results = []\n",
    "for classifier in classifiers :\n",
    "    cv_results.append(cross_val_score(classifier, X_train, y = y_train, scoring = \"accuracy\", cv = kfold, n_jobs=4))\n",
    "\n",
    "cv_means = []\n",
    "for cv_result in cv_results:\n",
    "    cv_means.append(cv_result.mean())"
   ]
  },
  {
   "cell_type": "code",
   "execution_count": 97,
   "id": "2557b31d",
   "metadata": {},
   "outputs": [
    {
     "data": {
      "text/plain": [
       "[0.9150179640718564,\n",
       " 0.9522095808383234,\n",
       " 0.9522095808383234,\n",
       " 0.914616766467066,\n",
       " 0.9512099800399202,\n",
       " 0.9506091816367265,\n",
       " 0.9488107784431138]"
      ]
     },
     "execution_count": 97,
     "metadata": {},
     "output_type": "execute_result"
    }
   ],
   "source": [
    "cv_means"
   ]
  },
  {
   "cell_type": "code",
   "execution_count": 98,
   "id": "4bf67dc7",
   "metadata": {},
   "outputs": [
    {
     "name": "stdout",
     "output_type": "stream",
     "text": [
      "Fitting 10 folds for each of 72 candidates, totalling 720 fits\n"
     ]
    },
    {
     "data": {
      "text/plain": [
       "0.9522095808383234"
      ]
     },
     "execution_count": 98,
     "metadata": {},
     "output_type": "execute_result"
    }
   ],
   "source": [
    "# Random Forest\n",
    "\n",
    "RFC = RandomForestClassifier()\n",
    "rf_param_grid = {\"max_depth\": [None],\n",
    "              \"max_features\": [3, 10],\n",
    "              \"min_samples_split\": [2, 3, 10],\n",
    "              \"min_samples_leaf\": [1, 3, 10],\n",
    "              \"bootstrap\": [False],\n",
    "              \"n_estimators\" :[100,300],\n",
    "              \"criterion\": [\"gini\", \"entropy\"]}\n",
    "\n",
    "\n",
    "gsRFC = GridSearchCV(RFC,param_grid = rf_param_grid, cv=kfold, scoring=\"accuracy\", n_jobs= 4, verbose=1)\n",
    "\n",
    "gsRFC.fit(X_train,y_train)\n",
    "\n",
    "RFC_best = gsRFC.best_estimator_\n",
    "gsRFC.best_score_"
   ]
  },
  {
   "cell_type": "code",
   "execution_count": 99,
   "id": "cad10fd3",
   "metadata": {},
   "outputs": [],
   "source": [
    "def plot_learning_curve(estimator, title, X, y, cv=None,\n",
    "                        n_jobs=-1, train_sizes=np.linspace(.1, 1.0, 5)):\n",
    "    plt.figure()\n",
    "    plt.title(title)\n",
    "    plt.xlabel(\"Training examples\")\n",
    "    plt.ylabel(\"Score\")\n",
    "    train_sizes, train_scores, test_scores = learning_curve(\n",
    "        estimator, X, y, cv=cv, n_jobs=n_jobs, train_sizes=train_sizes)\n",
    "    train_scores_mean = np.mean(train_scores, axis=1)\n",
    "    train_scores_std = np.std(train_scores, axis=1)\n",
    "    test_scores_mean = np.mean(test_scores, axis=1)\n",
    "    test_scores_std = np.std(test_scores, axis=1)\n",
    "    plt.grid()\n",
    "\n",
    "    plt.fill_between(train_sizes, train_scores_mean - train_scores_std,\n",
    "                     train_scores_mean + train_scores_std, alpha=0.1,\n",
    "                     color=\"r\")\n",
    "    plt.fill_between(train_sizes, test_scores_mean - test_scores_std,\n",
    "                     test_scores_mean + test_scores_std, alpha=0.1, color=\"g\")\n",
    "    plt.plot(train_sizes, train_scores_mean, 'o-', color=\"r\",\n",
    "             label=\"Training score\")\n",
    "    plt.plot(train_sizes, test_scores_mean, 'o-', color=\"g\",\n",
    "             label=\"Cross-validation score\")\n",
    "\n",
    "    plt.legend(loc=\"best\")\n",
    "    return plt"
   ]
  },
  {
   "cell_type": "code",
   "execution_count": 100,
   "id": "f59aa11a",
   "metadata": {},
   "outputs": [
    {
     "data": {
      "image/png": "[encoded data removed]",
      "text/plain": [
       "<Figure size 432x288 with 1 Axes>"
      ]
     },
     "metadata": {
      "needs_background": "light"
     },
     "output_type": "display_data"
    }
   ],
   "source": [
    "rf = plot_learning_curve(RFC_best, \"Random Forest\", X_train,y_train, cv=kfold)"
   ]
  },
  {
   "cell_type": "code",
   "execution_count": null,
   "id": "b90a5636",
   "metadata": {},
   "outputs": [],
   "source": []
  }
 ],
 "metadata": {
  "kernelspec": {
   "display_name": "Python 3 (ipykernel)",
   "language": "python",
   "name": "python3"
  },
  "language_info": {
   "codemirror_mode": {
    "name": "ipython",
    "version": 3
   },
   "file_extension": ".py",
   "mimetype": "text/x-python",
   "name": "python",
   "nbconvert_exporter": "python",
   "pygments_lexer": "ipython3",
   "version": "3.9.7"
  }
 },
 "nbformat": 4,
 "nbformat_minor": 5
}
